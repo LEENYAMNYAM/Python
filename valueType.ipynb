{
 "cells": [
  {
   "cell_type": "markdown",
   "metadata": {},
   "source": [
    "# 자료형에 대하여"
   ]
  },
  {
   "cell_type": "code",
   "execution_count": 3,
   "metadata": {},
   "outputs": [
    {
     "name": "stdout",
     "output_type": "stream",
     "text": [
      "<class 'int'>\n",
      "<class 'str'>\n",
      "<class 'list'>\n",
      "<class 'tuple'>\n",
      "<class 'dict'>\n",
      "<class 'set'>\n"
     ]
    }
   ],
   "source": [
    "a = 1\n",
    "b = 'Python'\n",
    "c = [1, 2, 3]\n",
    "d = (1, 2, 3)\n",
    "e = {'name': '짱구', 'age' : 5, 'gender' : 'M'}\n",
    "f = {10,20,30}\n",
    "\n",
    "# .type()  : 자료의 타입을 알려줌\n",
    "print(type(a))\n",
    "print(type(b))\n",
    "print(type(c))\n",
    "print(type(d))\n",
    "print(type(e))\n",
    "print(type(f))\n"
   ]
  },
  {
   "cell_type": "code",
   "execution_count": null,
   "metadata": {},
   "outputs": [
    {
     "name": "stdout",
     "output_type": "stream",
     "text": [
      "140721549093304\n",
      "140721548178032\n",
      "2342342371200\n",
      "2342342211712\n",
      "140721549093304\n"
     ]
    }
   ],
   "source": [
    "# id() : 주소를 알려주는 함수\n",
    "print(id(a))\n",
    "print(id(b))\n",
    "print(id(c))\n",
    "print(id(d))\n",
    "print(id(c[0]))"
   ]
  },
  {
   "cell_type": "code",
   "execution_count": 7,
   "metadata": {},
   "outputs": [
    {
     "name": "stdout",
     "output_type": "stream",
     "text": [
      "2342340109440\n",
      "2342340109440\n",
      "True\n",
      "[1, 4, 3]\n",
      "[1, 4, 3]\n"
     ]
    }
   ],
   "source": [
    "a=[1,2,3]\n",
    "b=a\n",
    "\n",
    "print(id(a))\n",
    "print(id(b))\n",
    "\n",
    "print(a is b)\n",
    "\n",
    "a[1] = 4\n",
    "print(a)\n",
    "print(b)"
   ]
  },
  {
   "cell_type": "code",
   "execution_count": null,
   "metadata": {},
   "outputs": [
    {
     "name": "stdout",
     "output_type": "stream",
     "text": [
      "[1, 4, 3]\n",
      "[1, 4, 3]\n",
      "2342340109440\n",
      "2342342065728\n",
      "[1, 4, 3]\n",
      "[1, 5, 3]\n"
     ]
    }
   ],
   "source": [
    "print(a)\n",
    "\n",
    "# a의 데이터를 모두 가져와 새로운 주소로 저장하려면\n",
    "c=a[:]\n",
    "\n",
    "#값은 a와 같지만\n",
    "print(c)\n",
    "\n",
    "# 주소값이 다르다는 것을 확인가능\n",
    "print(id(a))\n",
    "print(id(c))\n",
    "\n",
    "# 때문에 c의 인덱스 값을 하나 바꾸면 c만 바뀌는 것을 확인가능\n",
    "c[1] = 5\n",
    "print(a)\n",
    "print(c)\n"
   ]
  },
  {
   "cell_type": "code",
   "execution_count": 11,
   "metadata": {},
   "outputs": [
    {
     "data": {
      "text/plain": [
       "False"
      ]
     },
     "execution_count": 11,
     "metadata": {},
     "output_type": "execute_result"
    }
   ],
   "source": [
    "#다른 방법으로는\n",
    "from copy import copy\n",
    "d = copy(a)   # 리스트를 새로 만듦\n",
    "a is d"
   ]
  },
  {
   "cell_type": "markdown",
   "metadata": {},
   "source": [
    "<중간 복습>  \n",
    "list  \n",
    "변수 = [요소1, 요소2, ...]  \n",
    "tuple  \n",
    "변수 = (요소1, 요소2, ...)  \n",
    "dictionary (dict)  \n",
    "변수 = {key1 : value1, ...}  \n",
    "set  \n",
    "변수 = {요소1, 요소2, ...}  "
   ]
  }
 ],
 "metadata": {
  "kernelspec": {
   "display_name": "base",
   "language": "python",
   "name": "python3"
  },
  "language_info": {
   "codemirror_mode": {
    "name": "ipython",
    "version": 3
   },
   "file_extension": ".py",
   "mimetype": "text/x-python",
   "name": "python",
   "nbconvert_exporter": "python",
   "pygments_lexer": "ipython3",
   "version": "3.12.7"
  }
 },
 "nbformat": 4,
 "nbformat_minor": 2
}
