{
 "cells": [
  {
   "cell_type": "markdown",
   "metadata": {},
   "source": [
    "# 6장 객체지향"
   ]
  },
  {
   "cell_type": "markdown",
   "metadata": {},
   "source": [
    "- 클래스와 객체 "
   ]
  },
  {
   "cell_type": "markdown",
   "metadata": {},
   "source": [
    "-- 파이썬은 필드를 쓰지 않는다고 보면됨."
   ]
  },
  {
   "cell_type": "code",
   "execution_count": 4,
   "metadata": {},
   "outputs": [],
   "source": [
    "class FourCal:\n",
    "    def setData(self, num1, num2):\n",
    "        self.num1 = num1\n",
    "        self.num2 = num2\n",
    "    \n",
    "    def add(self):\n",
    "        result = self.num1 + self.num2\n",
    "        return result\n",
    "\n",
    "    def sub(self):\n",
    "        result = self.num1 - self.num2\n",
    "        return result\n",
    "\n",
    "    def mul(self):\n",
    "        result = self.num1 * self.num2\n",
    "        return result\n",
    "\n",
    "    def div(self):\n",
    "        result = self.num1 / self.num2\n",
    "        return result\n"
   ]
  },
  {
   "cell_type": "code",
   "execution_count": 5,
   "metadata": {},
   "outputs": [
    {
     "name": "stdout",
     "output_type": "stream",
     "text": [
      "10\n",
      "0\n",
      "25\n",
      "1.0\n"
     ]
    }
   ],
   "source": [
    "a = FourCal()\n",
    "a.setData(5,5)\n",
    "print(a.add())\n",
    "print(a.sub())\n",
    "print(a.mul())\n",
    "print(a.div())\n"
   ]
  },
  {
   "cell_type": "code",
   "execution_count": null,
   "metadata": {},
   "outputs": [
    {
     "ename": "AttributeError",
     "evalue": "'FourCal' object has no attribute 'num1'",
     "output_type": "error",
     "traceback": [
      "\u001b[1;31m---------------------------------------------------------------------------\u001b[0m",
      "\u001b[1;31mAttributeError\u001b[0m                            Traceback (most recent call last)",
      "Cell \u001b[1;32mIn[6], line 2\u001b[0m\n\u001b[0;32m      1\u001b[0m b \u001b[38;5;241m=\u001b[39m FourCal()\n\u001b[1;32m----> 2\u001b[0m b\u001b[38;5;241m.\u001b[39madd()\n",
      "Cell \u001b[1;32mIn[4], line 7\u001b[0m, in \u001b[0;36mFourCal.add\u001b[1;34m(self)\u001b[0m\n\u001b[0;32m      6\u001b[0m \u001b[38;5;28;01mdef\u001b[39;00m \u001b[38;5;21madd\u001b[39m(\u001b[38;5;28mself\u001b[39m):\n\u001b[1;32m----> 7\u001b[0m     result \u001b[38;5;241m=\u001b[39m \u001b[38;5;28mself\u001b[39m\u001b[38;5;241m.\u001b[39mnum1 \u001b[38;5;241m+\u001b[39m \u001b[38;5;28mself\u001b[39m\u001b[38;5;241m.\u001b[39mnum2\n\u001b[0;32m      8\u001b[0m     \u001b[38;5;28;01mreturn\u001b[39;00m result\n",
      "\u001b[1;31mAttributeError\u001b[0m: 'FourCal' object has no attribute 'num1'"
     ]
    }
   ],
   "source": [
    "# 에러가 남\n",
    "# b = FourCal()\n",
    "# b.add()"
   ]
  },
  {
   "cell_type": "markdown",
   "metadata": {},
   "source": [
    "- 생성자"
   ]
  },
  {
   "cell_type": "code",
   "execution_count": null,
   "metadata": {},
   "outputs": [],
   "source": [
    "class FourCal:\n",
    "    # __init라는 기본생성자는 클래스가 실행될때 자동으로 실행되기때문에 호출시 파라미터를 바로 입력가능하다\n",
    "    def __init__(self, num1, num2):\n",
    "        self.num1 = num1\n",
    "        self.num2 = num2\n",
    "    \n",
    "    def add(self):\n",
    "        result = self.num1 + self.num2\n",
    "        return result\n",
    "\n",
    "    def sub(self):\n",
    "        result = self.num1 - self.num2\n",
    "        return result\n",
    "\n",
    "    def mul(self):\n",
    "        result = self.num1 * self.num2\n",
    "        return result\n",
    "\n",
    "    def div(self):\n",
    "        result = self.num1 / self.num2\n",
    "        return result\n"
   ]
  },
  {
   "cell_type": "code",
   "execution_count": 8,
   "metadata": {},
   "outputs": [
    {
     "name": "stdout",
     "output_type": "stream",
     "text": [
      "12\n",
      "8\n",
      "20\n",
      "5.0\n"
     ]
    }
   ],
   "source": [
    "# a때와 다르게 FourCal()의 괄호 안에 바로 파라미터를 입력할 수 있다.\n",
    "b = FourCal(10,2)\n",
    "print(b.add())\n",
    "print(b.sub())\n",
    "print(b.mul())\n",
    "print(b.div())"
   ]
  },
  {
   "cell_type": "code",
   "execution_count": 8,
   "metadata": {},
   "outputs": [],
   "source": [
    "class FourCal(object):   # ()안은 상속받는 부모 클래스를 적음. 때문에 object는 생략가능\n",
    "    # 자바처럼 기본생성자를 만들 필요는 없음.\n",
    "    def __init__(self):\n",
    "        super().__init__()\n",
    "\n",
    "    def __init__(self, num1, num2):\n",
    "        self.num1 = num1\n",
    "        self.num2 = num2\n",
    "    \n",
    "    # 자바의 toString과 비슷함.\n",
    "    def __str__(self):\n",
    "        return f'{self.num1}과 {self.num2}는 멤버 변수입니다.'\n",
    "\n",
    "    def add(self):\n",
    "        result = self.num1 + self.num2\n",
    "        return result\n",
    "\n",
    "    def sub(self):\n",
    "        result = self.num1 - self.num2\n",
    "        return result\n",
    "\n",
    "    def mul(self):\n",
    "        result = self.num1 * self.num2\n",
    "        return result\n",
    "\n",
    "    def div(self):\n",
    "        result = self.num1 / self.num2\n",
    "        return result\n"
   ]
  },
  {
   "cell_type": "code",
   "execution_count": 15,
   "metadata": {},
   "outputs": [
    {
     "name": "stdout",
     "output_type": "stream",
     "text": [
      "10과 2는 멤버 변수입니다.\n",
      "12\n",
      "8\n",
      "20\n",
      "5.0\n"
     ]
    }
   ],
   "source": [
    "b = FourCal(10,2)\n",
    "print(b)\n",
    "print(b.add())\n",
    "print(b.sub())\n",
    "print(b.mul())\n",
    "print(b.div())"
   ]
  },
  {
   "cell_type": "markdown",
   "metadata": {},
   "source": [
    "<실습문제1>\n",
    "> SoccerPlayer 클래스 만들기"
   ]
  },
  {
   "cell_type": "code",
   "execution_count": 19,
   "metadata": {},
   "outputs": [],
   "source": [
    "class SoccerPlayer(object):\n",
    "    def __init__(self, name, position, back_number):\n",
    "        self.name = name\n",
    "        self.position = position\n",
    "        self.back_number = back_number\n",
    "\n",
    "    def change_back_number(self, new_number):\n",
    "        print(\"선수의 등번호를 변경 : From %d to %d\"%(self.back_number, new_number))\n",
    "        self.back_number = new_number\n",
    "\n",
    "    def __str__(self):\n",
    "        return\"\"\"\n",
    "            My name is %s.\n",
    "            I play in %s in center.\n",
    "            My back_number is %d\"\"\"%(self.name, self.position, self.back_number)       "
   ]
  },
  {
   "cell_type": "code",
   "execution_count": 20,
   "metadata": {},
   "outputs": [
    {
     "name": "stdout",
     "output_type": "stream",
     "text": [
      "\n",
      "            My name is 짱구.\n",
      "            I play in forward in center.\n",
      "            My back_number is 10\n",
      "선수의 등번호를 변경 : From 10 to 15\n",
      "\n",
      "            My name is 짱구.\n",
      "            I play in forward in center.\n",
      "            My back_number is 15\n"
     ]
    }
   ],
   "source": [
    "p1 = SoccerPlayer('짱구', \"forward\", 10)\n",
    "print(p1)\n",
    "p1.change_back_number(15)\n",
    "print(p1)"
   ]
  },
  {
   "cell_type": "markdown",
   "metadata": {},
   "source": [
    "<실습문제2>\n",
    "> ![alt text](캡처.PNG)"
   ]
  },
  {
   "cell_type": "code",
   "execution_count": 6,
   "metadata": {},
   "outputs": [
    {
     "name": "stdout",
     "output_type": "stream",
     "text": [
      "학번 : 1, 이름 : 김수현, 성별 : 남자, 전공 : 컴공\n",
      "전공을 컴공에서 정보통신으로 변경합니다.\n",
      "학번 : 1, 이름 : 김수현, 성별 : 남자, 전공 : 정보통신\n"
     ]
    }
   ],
   "source": [
    "class Student(object):\n",
    "    def __init__(self, sno, name, gender, major):\n",
    "        self.sno = sno\n",
    "        self.name = name\n",
    "        self.gender = gender\n",
    "        self.major = major\n",
    "\n",
    "    def change_major(self, newMajor):\n",
    "        print(\"전공을 %s에서 %s으로 변경합니다.\"%(self.major, newMajor))\n",
    "        self.major = newMajor\n",
    "        \n",
    "    def __str__(self):\n",
    "        return f\"학번 : {self.sno}, 이름 : {self.name}, 성별 : {self.gender}, 전공 : {self.major}\"\n",
    "    \n",
    "\n",
    "kim = Student(1, '김수현', '남자', '컴공')\n",
    "print(kim)\n",
    "kim.change_major('정보통신')\n",
    "print(kim)\n"
   ]
  },
  {
   "cell_type": "markdown",
   "metadata": {},
   "source": [
    "- 상속"
   ]
  },
  {
   "cell_type": "markdown",
   "metadata": {},
   "source": [
    "class 클래스명(상속받을 클래스명):"
   ]
  },
  {
   "cell_type": "code",
   "execution_count": 9,
   "metadata": {},
   "outputs": [],
   "source": [
    "class MoreFourCal(FourCal):\n",
    "    def pow(self):\n",
    "        return self.num1 ** self.num2\n",
    "    "
   ]
  },
  {
   "cell_type": "code",
   "execution_count": 13,
   "metadata": {},
   "outputs": [
    {
     "name": "stdout",
     "output_type": "stream",
     "text": [
      "4과 2는 멤버 변수입니다.\n",
      "6\n",
      "2\n",
      "8\n",
      "2.0\n",
      "16\n"
     ]
    }
   ],
   "source": [
    "b = MoreFourCal(4,2)\n",
    "print(b)\n",
    "print(b.add())\n",
    "print(b.sub())\n",
    "print(b.mul())\n",
    "print(b.div())\n",
    "print(b.pow())"
   ]
  },
  {
   "cell_type": "markdown",
   "metadata": {},
   "source": [
    "- method overriding(메소드 오버라이딩) ==> 다형성"
   ]
  },
  {
   "cell_type": "code",
   "execution_count": 15,
   "metadata": {},
   "outputs": [],
   "source": [
    "class MoreFourCal(FourCal):\n",
    "    def pow(self):\n",
    "        return self.num1 ** self.num2\n",
    "    \n",
    "    #부모클래스에 div가 있지만, overriding 해서 작성할 수 있음.\n",
    "    def div(self):\n",
    "        if self.num2 == 0:\n",
    "            return 0\n",
    "        else:\n",
    "            return self.num1 / self.num2\n",
    "        "
   ]
  },
  {
   "cell_type": "code",
   "execution_count": 17,
   "metadata": {},
   "outputs": [
    {
     "name": "stdout",
     "output_type": "stream",
     "text": [
      "4과 0는 멤버 변수입니다.\n",
      "4\n",
      "4\n",
      "0\n",
      "0\n",
      "1\n"
     ]
    }
   ],
   "source": [
    "b = MoreFourCal(4,0)\n",
    "print(b)\n",
    "print(b.add())\n",
    "print(b.sub())\n",
    "print(b.mul())\n",
    "print(b.div())\n",
    "print(b.pow())"
   ]
  },
  {
   "cell_type": "markdown",
   "metadata": {},
   "source": [
    "<실습문제3> 상속"
   ]
  },
  {
   "cell_type": "code",
   "execution_count": 32,
   "metadata": {},
   "outputs": [
    {
     "name": "stdout",
     "output_type": "stream",
     "text": [
      "1 짱구 5 남자 영업부 500 \n",
      "1 철수 5 남자 떡잎마을방범대 \n"
     ]
    }
   ],
   "source": [
    "class Person(object):\n",
    "    def __init__(self, name, age, gender):\n",
    "        self.name = name\n",
    "        self.age = age\n",
    "        self.gender = gender\n",
    "    def display(self):\n",
    "        print(self.name, self.age, self.gender, end=\" \")\n",
    "\n",
    "class Employee(Person):\n",
    "    def __init__(self, eno, name, age, gender, dept, sal):\n",
    "        super().__init__(name, age, gender)\n",
    "        self.eno = eno\n",
    "        self.dept = dept\n",
    "        self.sal = sal\n",
    "    def display(self):\n",
    "        print(self.eno, end=\" \")\n",
    "        super().display()\n",
    "        print(self.dept, self.sal, end=\" \")\n",
    "\n",
    "class Student(Person):\n",
    "    cname = \"신영만\"\n",
    "    def __init__(self, sno, name, age, gender, major):\n",
    "        super().__init__(name, age, gender)\n",
    "        self.sno = sno\n",
    "        self.major = major\n",
    "    def display(self):\n",
    "        print(self.sno, end=\" \")\n",
    "        super().display()\n",
    "        print(self.major, end=\" \")\n",
    "\n",
    "e1 = Employee(1, '짱구', 5, '남자', '영업부', 500)\n",
    "e1.display()\n",
    "print()\n",
    "s1 = Student(1,'철수', 5, '남자', '떡잎마을방범대')\n",
    "s1.display()\n",
    "print()\n"
   ]
  },
  {
   "cell_type": "markdown",
   "metadata": {},
   "source": [
    "- 클래스 변수"
   ]
  },
  {
   "cell_type": "markdown",
   "metadata": {},
   "source": [
    "특별한 접근지정자가 없으면 바로 접근가능"
   ]
  },
  {
   "cell_type": "code",
   "execution_count": 28,
   "metadata": {},
   "outputs": [
    {
     "name": "stdout",
     "output_type": "stream",
     "text": [
      "1 유리 5 여자 떡잎마을방범대 "
     ]
    }
   ],
   "source": [
    "s1.name = \"유리\"\n",
    "s1.gender = \"여자\"\n",
    "s1.display()"
   ]
  },
  {
   "cell_type": "code",
   "execution_count": 33,
   "metadata": {},
   "outputs": [
    {
     "name": "stdout",
     "output_type": "stream",
     "text": [
      "신영만\n",
      "신영만\n",
      "봉미선\n",
      "봉미선\n"
     ]
    }
   ],
   "source": [
    "s2 = Student(2, '훈이', 5, '남자', '떡잎마을방범대')\n",
    "print(s1.cname)\n",
    "print(s2.cname)\n",
    "Student.cname = \"봉미선\"\n",
    "print(s1.cname)\n",
    "print(s2.cname)"
   ]
  },
  {
   "cell_type": "markdown",
   "metadata": {},
   "source": [
    "-- 가시성(visibility) 객체의 정보를 볼 수 있는 레벨을 조절하여 객체의 정보 접근을 제한 하는 것"
   ]
  },
  {
   "cell_type": "code",
   "execution_count": 67,
   "metadata": {},
   "outputs": [],
   "source": [
    "class Student(Person):\n",
    "    cname = \"신영만\"\n",
    "    def __init__(self, sno, name, age, gender, major):\n",
    "        super().__init__(name, age, gender)\n",
    "        self.sno = sno\n",
    "        self.__major = major\n",
    "    def display(self):\n",
    "        print(self.sno, end=\" \")\n",
    "        super().display()\n",
    "        print(self.__major, end=\" \")"
   ]
  },
  {
   "cell_type": "code",
   "execution_count": 71,
   "metadata": {},
   "outputs": [
    {
     "name": "stdout",
     "output_type": "stream",
     "text": [
      "2 훈이 5 남자 떡잎마을방범대 \n",
      "3 맹구 5 남자 떡잎마을방범대 "
     ]
    }
   ],
   "source": [
    "s3 = Student(3, '맹구', 5, '남자', '떡잎마을방범대')\n",
    "s2.display()\n",
    "# major는 접근이 제한되어 출력이 안됨. \n",
    "#print(s3.__major)\n",
    "print()\n",
    "\n",
    "# 파이썬은 없는 변수명은 만들어버림, 즉, 여기에서는 s3객체안에 __major 라는 변수가 생긴 것 \n",
    "s3.__major = \"컴공\"\n",
    "# s3 객체안의 입력했던 값은 안 바뀐 모습을 알 수 있음.\n",
    "s3.display()\n"
   ]
  }
 ],
 "metadata": {
  "kernelspec": {
   "display_name": "base",
   "language": "python",
   "name": "python3"
  },
  "language_info": {
   "codemirror_mode": {
    "name": "ipython",
    "version": 3
   },
   "file_extension": ".py",
   "mimetype": "text/x-python",
   "name": "python",
   "nbconvert_exporter": "python",
   "pygments_lexer": "ipython3",
   "version": "3.12.7"
  }
 },
 "nbformat": 4,
 "nbformat_minor": 2
}
