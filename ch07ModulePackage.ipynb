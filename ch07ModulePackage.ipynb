{
 "cells": [
  {
   "cell_type": "markdown",
   "metadata": {},
   "source": [
    "# 7장 모듈&패키지"
   ]
  },
  {
   "cell_type": "markdown",
   "metadata": {},
   "source": [
    "- 모듈"
   ]
  },
  {
   "cell_type": "code",
   "execution_count": 2,
   "metadata": {},
   "outputs": [
    {
     "name": "stdout",
     "output_type": "stream",
     "text": [
      "30\n",
      "5\n"
     ]
    }
   ],
   "source": [
    "# mod1.py 파일 생성\n",
    "\n",
    "# import를 이용하여 모듈을 불러올 수 있음.\n",
    "import mod1\n",
    "print(mod1.add(20,10))\n",
    "print(mod1.sub(10,5))\n"
   ]
  },
  {
   "cell_type": "code",
   "execution_count": 3,
   "metadata": {},
   "outputs": [
    {
     "name": "stdout",
     "output_type": "stream",
     "text": [
      "30\n",
      "5\n"
     ]
    }
   ],
   "source": [
    "# 모듈안의 함수를 각각 불러 올 수 있음.\n",
    "from mod1 import add, sub\n",
    "print(add(10,20))\n",
    "print(sub(10,5))\n",
    "\n",
    "del add\n",
    "del sub"
   ]
  },
  {
   "cell_type": "code",
   "execution_count": 5,
   "metadata": {},
   "outputs": [
    {
     "name": "stdout",
     "output_type": "stream",
     "text": [
      "30\n",
      "5\n"
     ]
    }
   ],
   "source": [
    "# 모듈안의 함수가 많으면 *로 한번에 다 불어올 수 있음.\n",
    "from mod1 import *\n",
    "print(add(10,20))\n",
    "print(sub(10,5))\n",
    "\n",
    "del add\n",
    "del sub"
   ]
  },
  {
   "cell_type": "markdown",
   "metadata": {},
   "source": [
    "-- 모듈 사용  \n",
    "모듈이 업데이트 되면 무조건 리로드해야됨?"
   ]
  },
  {
   "cell_type": "code",
   "execution_count": 8,
   "metadata": {},
   "outputs": [
    {
     "name": "stdout",
     "output_type": "stream",
     "text": [
      "3.141592\n",
      "78.5398\n",
      "11\n",
      "3\n",
      "12\n"
     ]
    }
   ],
   "source": [
    "import importlib\n",
    "import mod1\n",
    "importlib.reload(mod1)\n",
    "\n",
    "print(mod1.PI)\n",
    "a = mod1.Math()\n",
    "print(a.solv(5))\n",
    "\n",
    "print(mod1.add(5,6))\n",
    "print(mod1.sub(5,2))\n",
    "print(mod1.mul(3,4))\n"
   ]
  },
  {
   "cell_type": "code",
   "execution_count": 9,
   "metadata": {},
   "outputs": [
    {
     "name": "stdout",
     "output_type": "stream",
     "text": [
      "3.141592\n",
      "<function add at 0x000002B0E0DA7C40>\n"
     ]
    }
   ],
   "source": [
    "import mod2\n",
    "mod2.show()"
   ]
  },
  {
   "cell_type": "markdown",
   "metadata": {},
   "source": [
    "-- 다른 폴더에 있는 module을 가져오는 방법"
   ]
  },
  {
   "cell_type": "code",
   "execution_count": null,
   "metadata": {},
   "outputs": [
    {
     "name": "stdout",
     "output_type": "stream",
     "text": [
      "10\n"
     ]
    },
    {
     "data": {
      "text/plain": [
       "78.5398"
      ]
     },
     "execution_count": 11,
     "metadata": {},
     "output_type": "execute_result"
    }
   ],
   "source": [
    "import mymod.mod3\n",
    "\n",
    "print(mymod.mod3.add(5,5))\n",
    "a = mymod.mod3.Math()\n",
    "a.solv(5)"
   ]
  },
  {
   "cell_type": "code",
   "execution_count": 12,
   "metadata": {},
   "outputs": [
    {
     "name": "stdout",
     "output_type": "stream",
     "text": [
      "3.141592\n",
      "10\n"
     ]
    },
    {
     "data": {
      "text/plain": [
       "12.566368"
      ]
     },
     "execution_count": 12,
     "metadata": {},
     "output_type": "execute_result"
    }
   ],
   "source": [
    "# 이름이 너무 길거나 짧게 만들어 쓰고 싶을 땐\n",
    "from mymod import mod3\n",
    "print(mod3.PI)\n",
    "print(mod3.add(5,5))\n",
    "a= mod3.Math()\n",
    "a.solv(2)"
   ]
  },
  {
   "cell_type": "markdown",
   "metadata": {},
   "source": [
    "- package"
   ]
  },
  {
   "cell_type": "code",
   "execution_count": 13,
   "metadata": {},
   "outputs": [
    {
     "name": "stdout",
     "output_type": "stream",
     "text": [
      "echo\n"
     ]
    }
   ],
   "source": [
    "import game.sound.echo\n",
    "game.sound.echo.echo_test()"
   ]
  },
  {
   "cell_type": "code",
   "execution_count": 15,
   "metadata": {},
   "outputs": [
    {
     "name": "stdout",
     "output_type": "stream",
     "text": [
      "echo\n"
     ]
    }
   ],
   "source": [
    "# 기니까 from 을 더 많이 씀\n",
    "from game.sound import echo\n",
    "echo.echo_test()"
   ]
  },
  {
   "cell_type": "code",
   "execution_count": 16,
   "metadata": {},
   "outputs": [
    {
     "name": "stdout",
     "output_type": "stream",
     "text": [
      "echo\n"
     ]
    }
   ],
   "source": [
    "# 이마저도 길다면\n",
    "from game.sound.echo import echo_test\n",
    "echo_test()"
   ]
  },
  {
   "cell_type": "markdown",
   "metadata": {},
   "source": []
  },
  {
   "cell_type": "code",
   "execution_count": 18,
   "metadata": {},
   "outputs": [
    {
     "name": "stdout",
     "output_type": "stream",
     "text": [
      "3.12\n",
      "The version of this Game is 3.12\n"
     ]
    }
   ],
   "source": [
    "import importlib\n",
    "import game\n",
    "importlib.reload(game)\n",
    "print(game.VERSION)\n",
    "game.print_version_info()"
   ]
  },
  {
   "cell_type": "code",
   "execution_count": null,
   "metadata": {},
   "outputs": [
    {
     "name": "stdout",
     "output_type": "stream",
     "text": [
      "render\n",
      "echo\n"
     ]
    }
   ],
   "source": [
    "# 모듈안에서도 다른 모듈 import가 가능\n",
    "from game.graphic.render import render_test\n",
    "render_test()"
   ]
  },
  {
   "cell_type": "code",
   "execution_count": null,
   "metadata": {},
   "outputs": [],
   "source": []
  }
 ],
 "metadata": {
  "kernelspec": {
   "display_name": "base",
   "language": "python",
   "name": "python3"
  },
  "language_info": {
   "codemirror_mode": {
    "name": "ipython",
    "version": 3
   },
   "file_extension": ".py",
   "mimetype": "text/x-python",
   "name": "python",
   "nbconvert_exporter": "python",
   "pygments_lexer": "ipython3",
   "version": "3.12.7"
  }
 },
 "nbformat": 4,
 "nbformat_minor": 2
}
