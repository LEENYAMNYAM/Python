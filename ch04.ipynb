{
 "cells": [
  {
   "cell_type": "markdown",
   "metadata": {},
   "source": [
    "# 4장 제어문"
   ]
  },
  {
   "cell_type": "markdown",
   "metadata": {},
   "source": [
    "- 입출력 함수"
   ]
  },
  {
   "cell_type": "markdown",
   "metadata": {},
   "source": [
    "1. input() 함수"
   ]
  },
  {
   "cell_type": "code",
   "execution_count": null,
   "metadata": {},
   "outputs": [],
   "source": [
    "print(\"이름을 입력하세요\")\n",
    "name = input()\n",
    "print(name)\n"
   ]
  },
  {
   "cell_type": "code",
   "execution_count": null,
   "metadata": {},
   "outputs": [],
   "source": [
    "# input은 항상 문자열로 입력받기때문에 연산을 하려면 형변환이 필요함\n",
    "num1 = int(input(\"숫자1 입력\"))\n",
    "op = input(\"연산자 입력\")\n",
    "num2 = int(input(\"숫자2 입력\"))\n",
    "\n",
    "print (num1, op, num2, '=', num1 + num2)"
   ]
  },
  {
   "cell_type": "markdown",
   "metadata": {},
   "source": [
    "2. print() 함수"
   ]
  },
  {
   "cell_type": "code",
   "execution_count": null,
   "metadata": {},
   "outputs": [],
   "source": [
    "name = \"abcd\"\n",
    "age = 20\n",
    "print(name)\n",
    "print(age)"
   ]
  },
  {
   "cell_type": "code",
   "execution_count": null,
   "metadata": {},
   "outputs": [],
   "source": [
    "# print 후 줄바꿈을 안하고 싶다면 ,end=\" \"를 추가하면 됨.\n",
    "kor = 85\n",
    "eng = 80\n",
    "math = 80\n",
    "print(kor, eng, math, end=\" \")\n",
    "tot = kor + eng + math\n",
    "print(tot, end = \" \")\n",
    "avg = tot/3\n",
    "print(f'{avg:.2f}')"
   ]
  },
  {
   "cell_type": "markdown",
   "metadata": {},
   "source": [
    "<실습문제>\n",
    "화씨온도 변환기"
   ]
  },
  {
   "cell_type": "code",
   "execution_count": null,
   "metadata": {},
   "outputs": [],
   "source": [
    "print(\"섭씨온도 입력 :>>\", end = \" \")\n",
    "cTemp = input()\n",
    "fTemp = float(cTemp)*1.8 + 32\n",
    "\n",
    "print(\"섭씨온도 : \" + cTemp + \"℃\")\n",
    "print(f\"화씨온도 : {fTemp : 5.2f} ℉\")"
   ]
  },
  {
   "cell_type": "markdown",
   "metadata": {},
   "source": [
    "- 조건문"
   ]
  },
  {
   "cell_type": "markdown",
   "metadata": {},
   "source": [
    "1. if문"
   ]
  },
  {
   "cell_type": "markdown",
   "metadata": {},
   "source": [
    "-- 들여쓰기 맞춰줘야함."
   ]
  },
  {
   "cell_type": "markdown",
   "metadata": {},
   "source": [
    "<기본 문법>\n",
    "if 조건 :\n",
    "    수행문1\n",
    "    수행문2\n",
    "elif 조건 : \n",
    "    수행문1\n",
    "    수행문2\n",
    "else :\n",
    "    수행문1\n",
    "    수행문2"
   ]
  },
  {
   "cell_type": "code",
   "execution_count": null,
   "metadata": {},
   "outputs": [],
   "source": [
    "money = 1000\n",
    "print(\"현재금액 : \" + str(money))\n",
    "if money > 5000:\n",
    "    print(\"택시를 탄다\")\n",
    "\n",
    "else:\n",
    "    print(\"걸어서 간다\")\n",
    "print(\"end\")\n",
    "\n",
    "money = 10000\n",
    "print(\"현재금액 : \" + str(money))\n",
    "if money > 5000:\n",
    "    print(\"택시를 탄다\")\n",
    "else:\n",
    "    print(\"걸어서 간다\")    \n",
    "print(\"end\")"
   ]
  },
  {
   "cell_type": "code",
   "execution_count": null,
   "metadata": {},
   "outputs": [],
   "source": [
    "score = int(input(\"점수 입력\"))\n",
    "if score >= 90 :\n",
    "    print('A학점')\n",
    "elif score >=80 :\n",
    "    print('B학점')\n",
    "elif score >=70 :\n",
    "    print('C학점')\n",
    "elif score >=60 :\n",
    "    print('D학점')\n",
    "else :\n",
    "    print('F학점')"
   ]
  },
  {
   "cell_type": "markdown",
   "metadata": {},
   "source": [
    "<연습문제>  \n",
    "> money가 5000 이상이면 택시를 타고 가라  \n",
    "> money가 2000~4999이면 버스를 타라고 가라  \n",
    "> 그렇지 않으면 걸어서 가라."
   ]
  },
  {
   "cell_type": "code",
   "execution_count": null,
   "metadata": {},
   "outputs": [],
   "source": [
    "money = int(input(\"현재 금액 입력\"))\n",
    "if money>=5000 :\n",
    "    print(\"TAXI 플랙스 ㄱㄱ\")\n",
    "elif money>=2000 : \n",
    "    print('거지는 버스 타자')\n",
    "else :\n",
    "    print('알거지는 걸어가야지')"
   ]
  },
  {
   "cell_type": "code",
   "execution_count": null,
   "metadata": {},
   "outputs": [],
   "source": [
    "score1 = int(input(\"점수1 입력\"))\n",
    "score2 = int(input(\"점수2 입력\"))\n",
    "\n",
    "if score1 >=60 and score2 >=60:\n",
    "    print(\"합격\")\n",
    "else :\n",
    "    print(\"불합격\")"
   ]
  },
  {
   "cell_type": "code",
   "execution_count": null,
   "metadata": {},
   "outputs": [],
   "source": [
    "score1 = int(input(\"점수1 입력\"))\n",
    "score2 = int(input(\"점수2 입력\"))\n",
    "\n",
    "if score1 <60 or score2 <60:\n",
    "    print(\"불합격\")\n",
    "else :\n",
    "    print(\"합격\")"
   ]
  },
  {
   "cell_type": "markdown",
   "metadata": {},
   "source": [
    "<연습문제>   \n",
    "> 점수 2개를 입력받아서 평균이 70점 이상,  \n",
    "> 각 과목은 60점 이상이면 합격이된다.   \n",
    "> 합격자들에 한해서 등급이 주어짐  \n",
    "> 평균이 90점 이상이면 1등급  \n",
    "> 평균이 80점 이상이면 2등급  \n",
    "> 평균이 70점 이상이면 3등급  "
   ]
  },
  {
   "cell_type": "code",
   "execution_count": null,
   "metadata": {},
   "outputs": [],
   "source": [
    "score1 = int(input(\"점수1 입력\"))\n",
    "score2 = int(input(\"점수2 입력\"))\n",
    "\n",
    "avg = float(score1 + score2) / 2\n",
    "\n",
    "if score1 >=60 and score2 >=60 and avg>=70 :\n",
    "    print('합격', end=\" \")\n",
    "    if avg >=90 :\n",
    "        print(\"1등급\")\n",
    "    elif avg >=80 :\n",
    "        print(\"2등급\")\n",
    "    else :\n",
    "        print(\"3등급\")    \n",
    "else :\n",
    "    print(\"불합격\")"
   ]
  },
  {
   "cell_type": "markdown",
   "metadata": {},
   "source": [
    "-- 파이썬의 조건부 표현식(conditional expression)"
   ]
  },
  {
   "cell_type": "code",
   "execution_count": null,
   "metadata": {},
   "outputs": [],
   "source": [
    "score =55\n",
    "message = \"\"\n",
    "if score >=60:\n",
    "    message = 'success'\n",
    "else:\n",
    "    message = 'failure'\n",
    "print(message)"
   ]
  },
  {
   "cell_type": "code",
   "execution_count": null,
   "metadata": {},
   "outputs": [],
   "source": [
    "# 위의 코드를 조건부 표현식으로 나타내면\n",
    "message = \"success\" if score>=60 else \"failure\"\n",
    "\n",
    "print(message)"
   ]
  },
  {
   "cell_type": "markdown",
   "metadata": {},
   "source": [
    "<연습문제>   \n",
    "> 나이는 (2025 - 태어난 연도 +1) 로 계산   \n",
    "> 26세 이하 20세 이상이면 '대학생'    \n",
    "> 20세 미만 17세 이상이면 '고등학생'   \n",
    "> 17세 미만 14세 이상이면 '중학생'  \n",
    "> 14세 미만 8세 이상이면 '초등학생'  \n",
    "> 그 외의 경우는 '학생이 아닙니다' 출력\n",
    "\n",
    "<출력결과>\n",
    "```\n",
    "당신이 태어난 연도를 입력하세요.\n",
    "1982  \n",
    "학생이 아닙니다.\n",
    "```"
   ]
  },
  {
   "cell_type": "code",
   "execution_count": null,
   "metadata": {},
   "outputs": [],
   "source": [
    "print(\"당신이 태어난 연도를 입력하세요.\")\n",
    "birthYear = int(input(\"태어난 연도 입력\"))\n",
    "age = 2025 - birthYear +1\n",
    "\n",
    "if 20 <= age <= 26 :\n",
    "    print(\"대학생\")\n",
    "elif 17 <= age < 20 :\n",
    "    print(\"고등학생\")\n",
    "elif 14 <= age < 17 :\n",
    "    print(\"중학생\")\n",
    "elif 8 <= age <14 :\n",
    "    print(\"초등학생\")\n",
    "else :\n",
    "    print(age)\n",
    "    print(\"학생이 아닙니다.\") "
   ]
  },
  {
   "cell_type": "markdown",
   "metadata": {},
   "source": [
    "2. while문"
   ]
  },
  {
   "cell_type": "markdown",
   "metadata": {},
   "source": [
    "- 기본문법"
   ]
  },
  {
   "cell_type": "code",
   "execution_count": null,
   "metadata": {},
   "outputs": [],
   "source": [
    "i=1\n",
    "sum=0\n",
    "while i <=10:\n",
    "    sum+=i\n",
    "    print(i, sum)\n",
    "    i+=1"
   ]
  },
  {
   "cell_type": "code",
   "execution_count": null,
   "metadata": {},
   "outputs": [],
   "source": [
    "treeHit = 0\n",
    "while treeHit <10 :\n",
    "    treeHit = treeHit + 1\n",
    "    print(\"나무를 %d번 찍었습니다.\" %treeHit)\n",
    "    if treeHit == 10:\n",
    "        print(\"나무가 넘어갑니다.\")"
   ]
  },
  {
   "cell_type": "code",
   "execution_count": null,
   "metadata": {},
   "outputs": [],
   "source": [
    "list1 = []\n",
    "flag = False\n",
    "\n",
    "while True:\n",
    "    num = int(input(\"1.add, 2.del, 3.list, 4.quit\"))\n",
    "\n",
    "    if num == 1 :\n",
    "        data = input(\"데이터 입력\")\n",
    "        list1.append(data)\n",
    "    elif num == 2:\n",
    "        index = int(input(\"삭제할 인덱스 입력\"))\n",
    "        del list1[index]\n",
    "    elif num == 3:\n",
    "        print(list1)\n",
    "    elif num == 4:\n",
    "        break\n",
    "    else:\n",
    "        print(\"입력오류\")\n",
    "print(\"END\")"
   ]
  },
  {
   "cell_type": "code",
   "execution_count": null,
   "metadata": {},
   "outputs": [],
   "source": [
    "a = 0\n",
    "while a<10:\n",
    "    a +=1\n",
    "    if a%2 == 0 : continue\n",
    "    print(a)"
   ]
  },
  {
   "cell_type": "code",
   "execution_count": null,
   "metadata": {},
   "outputs": [],
   "source": [
    "# 무한루프 : 반복문이 무한대로 반복되는 상태\n",
    "while True:\n",
    "    print(\"abc\")"
   ]
  },
  {
   "cell_type": "code",
   "execution_count": 56,
   "metadata": {},
   "outputs": [
    {
     "name": "stdout",
     "output_type": "stream",
     "text": [
      "'A'의 아스키 코드 값은 65입니다.\n",
      "아스키 코드 값 65는 문자 'A'입니다.\n"
     ]
    }
   ],
   "source": [
    "# ASKII코드 출력방법\n",
    "char = 'A'\n",
    "ascii_value = ord(char)\n",
    "print(f\"'{char}'의 아스키 코드 값은 {ascii_value}입니다.\")\n",
    "\n",
    "ascii_value = 65\n",
    "char = chr(ascii_value)\n",
    "print(f\"아스키 코드 값 {ascii_value}는 문자 '{char}'입니다.\")"
   ]
  }
 ],
 "metadata": {
  "kernelspec": {
   "display_name": "base",
   "language": "python",
   "name": "python3"
  },
  "language_info": {
   "codemirror_mode": {
    "name": "ipython",
    "version": 3
   },
   "file_extension": ".py",
   "mimetype": "text/x-python",
   "name": "python",
   "nbconvert_exporter": "python",
   "pygments_lexer": "ipython3",
   "version": "3.12.7"
  }
 },
 "nbformat": 4,
 "nbformat_minor": 2
}
