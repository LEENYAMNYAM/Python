{
 "cells": [
  {
   "cell_type": "markdown",
   "metadata": {},
   "source": [
    "# 8장 예외 처리 및 내장함수"
   ]
  },
  {
   "cell_type": "markdown",
   "metadata": {},
   "source": [
    "- 예외처리"
   ]
  },
  {
   "cell_type": "markdown",
   "metadata": {},
   "source": [
    "-- 기본문법"
   ]
  },
  {
   "cell_type": "code",
   "execution_count": 1,
   "metadata": {},
   "outputs": [
    {
     "name": "stdout",
     "output_type": "stream",
     "text": [
      "division by zero\n",
      "0으로 나누었습니다\n"
     ]
    }
   ],
   "source": [
    "try:\n",
    "    4/0\n",
    "except ZeroDivisionError as e :\n",
    "    print(e)\n",
    "    print(\"0으로 나누었습니다\")\n"
   ]
  },
  {
   "cell_type": "code",
   "execution_count": 2,
   "metadata": {},
   "outputs": [
    {
     "name": "stdout",
     "output_type": "stream",
     "text": [
      "파일 읽기 오류\n"
     ]
    },
    {
     "ename": "NameError",
     "evalue": "name 'f' is not defined",
     "output_type": "error",
     "traceback": [
      "\u001b[1;31m---------------------------------------------------------------------------\u001b[0m",
      "\u001b[1;31mNameError\u001b[0m                                 Traceback (most recent call last)",
      "Cell \u001b[1;32mIn[2], line 7\u001b[0m\n\u001b[0;32m      5\u001b[0m     \u001b[38;5;28mprint\u001b[39m(\u001b[38;5;124m\"\u001b[39m\u001b[38;5;124m파일 읽기 오류\u001b[39m\u001b[38;5;124m\"\u001b[39m)\n\u001b[0;32m      6\u001b[0m \u001b[38;5;28;01mfinally\u001b[39;00m:\n\u001b[1;32m----> 7\u001b[0m     f\u001b[38;5;241m.\u001b[39mclose()\n",
      "\u001b[1;31mNameError\u001b[0m: name 'f' is not defined"
     ]
    }
   ],
   "source": [
    "try:\n",
    "    f= open(\"foo.txt\")\n",
    "    data = f.read()\n",
    "except:\n",
    "    print(\"파일 읽기 오류\")\n",
    "finally:\n",
    "    f.close()"
   ]
  },
  {
   "cell_type": "code",
   "execution_count": 5,
   "metadata": {},
   "outputs": [
    {
     "name": "stdout",
     "output_type": "stream",
     "text": [
      "list index out of range\n"
     ]
    }
   ],
   "source": [
    "try:\n",
    "    a=[1,2]\n",
    "    print(a[3])\n",
    "    4/0\n",
    "except ZeroDivisionError as e :\n",
    "    print(e)\n",
    "except IndexError as e:\n",
    "    print(e)\n",
    "    "
   ]
  },
  {
   "cell_type": "code",
   "execution_count": 6,
   "metadata": {},
   "outputs": [
    {
     "name": "stdout",
     "output_type": "stream",
     "text": [
      "list index out of range\n"
     ]
    }
   ],
   "source": [
    "# 두개의 exception을 한줄로 작성 가능\n",
    "try:\n",
    "    a=[1,2]\n",
    "    print(a[3])\n",
    "    4/0\n",
    "except (ZeroDivisionError, IndexError) as e :\n",
    "    print(e)    "
   ]
  },
  {
   "cell_type": "code",
   "execution_count": 9,
   "metadata": {},
   "outputs": [
    {
     "name": "stdout",
     "output_type": "stream",
     "text": [
      "미성년자는 출입금지\n"
     ]
    }
   ],
   "source": [
    "# try - else 문도 가능함.\n",
    "try:\n",
    "    age = int(input(\"나이 입력\"))\n",
    "except:\n",
    "    print(\"입력이 정확하지 않습니다.\")\n",
    "else:\n",
    "    if age <= 18:\n",
    "        print(\"미성년자는 출입금지\")\n",
    "    else:\n",
    "        print(\"환영합니다.\")"
   ]
  },
  {
   "cell_type": "code",
   "execution_count": null,
   "metadata": {},
   "outputs": [],
   "source": [
    "# 오류 회피하기(예외가 발생해도 그냥 넘어감)\n",
    "try:\n",
    "    f = open(\"foo.txt\")\n",
    "    data = f.read()\n",
    "except:\n",
    "    pass"
   ]
  },
  {
   "cell_type": "markdown",
   "metadata": {},
   "source": [
    "- 내장함수(built-in Function)"
   ]
  },
  {
   "cell_type": "markdown",
   "metadata": {},
   "source": [
    "-- abs(x) : 절댓값을 리턴해줌  \n",
    "-- all(x) : 반복가능한 데이터 x를 입력값으로 받으며 x의 요소가 모두 참이면 True, 하나라도 거짓이면 False를 리턴  \n",
    "-- any(x) : 반복가능한 데이터 x를 입력값으로 받으며 x의 요소 중 어느 하나라도 참이면 True, 모두 거짓일때만 False를 리턴  \n",
    "-- chr(x) : 유니코드 숫자를 입력받아 문자를 리턴  \n",
    "-- dir(x) : 객체가 지닌 변수나 함수(디렉토리를) 보여주는 함수  \n",
    "-- divmod(a,b) : a를 b로 나눈 몫과 나머지를 튜플로 리턴  "
   ]
  },
  {
   "cell_type": "code",
   "execution_count": 18,
   "metadata": {},
   "outputs": [
    {
     "name": "stdout",
     "output_type": "stream",
     "text": [
      "False\n",
      "True\n",
      "c\n",
      "A\n",
      "['__add__', '__class__', '__class_getitem__', '__contains__', '__delattr__', '__delitem__', '__dir__', '__doc__', '__eq__', '__format__', '__ge__', '__getattribute__', '__getitem__', '__getstate__', '__gt__', '__hash__', '__iadd__', '__imul__', '__init__', '__init_subclass__', '__iter__', '__le__', '__len__', '__lt__', '__mul__', '__ne__', '__new__', '__reduce__', '__reduce_ex__', '__repr__', '__reversed__', '__rmul__', '__setattr__', '__setitem__', '__sizeof__', '__str__', '__subclasshook__', 'append', 'clear', 'copy', 'count', 'extend', 'index', 'insert', 'pop', 'remove', 'reverse', 'sort']\n",
      "(3, 1)\n"
     ]
    }
   ],
   "source": [
    "a=[1,2,3,0]\n",
    "\n",
    "# 1,2,3은 파이썬에서 True이지만, 0은 False이므로 결과값이 False이다\n",
    "print(all(a))\n",
    "print(any(a))\n",
    "print(chr(99))\n",
    "print(chr(65))\n",
    "print(dir(a))   \n",
    "print(divmod(10,3))\n",
    "\n"
   ]
  },
  {
   "cell_type": "markdown",
   "metadata": {},
   "source": [
    "-- enumerate(x) : 순서가 있는 데이터(리스트, 튜플, 문자열)을 입력받아 해당 데이터의 (인덱스와 값)을  enumerate 객체 리턴  \n",
    "-- eval(expression) : 문자열로 구성된 표현식을 입력받아 해당 문자열을 실행한 결괏값을 리턴"
   ]
  },
  {
   "cell_type": "code",
   "execution_count": 17,
   "metadata": {},
   "outputs": [
    {
     "name": "stdout",
     "output_type": "stream",
     "text": [
      "0 body\n",
      "1 foo\n",
      "2 bar\n",
      "3 python\n",
      "3\n",
      "hia\n",
      "(3, 1)\n"
     ]
    }
   ],
   "source": [
    "b=[\"body\", \"foo\", \"bar\", \"python\"]\n",
    "for i, v in enumerate(b):\n",
    "    print(i, v)\n",
    "\n",
    "print(eval('1+2'))\n",
    "print(eval(\"'hi' + 'a'\"))\n",
    "print(eval('divmod(10,3)'))"
   ]
  },
  {
   "cell_type": "markdown",
   "metadata": {},
   "source": [
    "-- filter(함수, 반복_가능한_데이터) : 반복 가능한 데이터의 요소 순서대로 함수를 호출 했을 때 리턴값이 참인 것만 묶어서 리턴  "
   ]
  },
  {
   "cell_type": "code",
   "execution_count": 19,
   "metadata": {},
   "outputs": [
    {
     "name": "stdout",
     "output_type": "stream",
     "text": [
      "[1, 2, 6]\n"
     ]
    }
   ],
   "source": [
    "def positive(l):\n",
    "    result = []\n",
    "    for i in l:\n",
    "        if i > 0:\n",
    "            result.append(i)\n",
    "    return result\n",
    "\n",
    "print(positive([1, -3, 2, 0, -5, 6]))\n"
   ]
  },
  {
   "cell_type": "code",
   "execution_count": 20,
   "metadata": {},
   "outputs": [
    {
     "data": {
      "text/plain": [
       "[1, 2, 6]"
      ]
     },
     "execution_count": 20,
     "metadata": {},
     "output_type": "execute_result"
    }
   ],
   "source": [
    "def positive1(x):\n",
    "    return x>0\n",
    "\n",
    "list(filter(positive1, [1,-3,2,0,-5,6]))"
   ]
  },
  {
   "cell_type": "code",
   "execution_count": 22,
   "metadata": {},
   "outputs": [
    {
     "data": {
      "text/plain": [
       "[1, 2, 6]"
      ]
     },
     "execution_count": 22,
     "metadata": {},
     "output_type": "execute_result"
    }
   ],
   "source": [
    "list(filter(lambda x : x > 0, [1, -3, 2, 0, -5, 6]))"
   ]
  },
  {
   "cell_type": "code",
   "execution_count": 23,
   "metadata": {},
   "outputs": [
    {
     "data": {
      "text/plain": [
       "[2, 4, 6, 8, 10]"
      ]
     },
     "execution_count": 23,
     "metadata": {},
     "output_type": "execute_result"
    }
   ],
   "source": [
    "list(filter(lambda x : x%2==0, [1,2,3,4,5,6,7,8,9,10]))"
   ]
  },
  {
   "cell_type": "markdown",
   "metadata": {},
   "source": [
    "-- hex(x) : 정수를 입력받아 16진수 문자열로 리턴"
   ]
  },
  {
   "cell_type": "code",
   "execution_count": 24,
   "metadata": {},
   "outputs": [
    {
     "data": {
      "text/plain": [
       "'0xea'"
      ]
     },
     "execution_count": 24,
     "metadata": {},
     "output_type": "execute_result"
    }
   ],
   "source": [
    "hex(234)"
   ]
  },
  {
   "cell_type": "markdown",
   "metadata": {},
   "source": [
    "-- id(object) : 객체를 입력받아 고유 주솟값(레퍼런스)을 리턴"
   ]
  },
  {
   "cell_type": "code",
   "execution_count": 25,
   "metadata": {},
   "outputs": [
    {
     "name": "stdout",
     "output_type": "stream",
     "text": [
      "140725865753080\n",
      "140725865753080\n"
     ]
    }
   ],
   "source": [
    "a=3\n",
    "print(id(a))\n",
    "print(id(3))"
   ]
  },
  {
   "cell_type": "markdown",
   "metadata": {},
   "source": [
    "-- input([prompt]) : 사용자 입력을 받는 함수(문자열로 받음)  \n",
    "-- int(x) : 문자열 형태의 숫자나 소수점이 있는 숫자를  정수로 리턴  \n",
    "-- int(x,y) : 문자열 형태의 숫자(x)를 y진수로 이해한 뒤 10진수로 계산하여 돌려줌  "
   ]
  },
  {
   "cell_type": "code",
   "execution_count": 31,
   "metadata": {},
   "outputs": [
    {
     "name": "stdout",
     "output_type": "stream",
     "text": [
      "11 <class 'int'> <class 'str'>\n",
      "3\n",
      "9\n",
      "17\n"
     ]
    }
   ],
   "source": [
    "a=\"11\"\n",
    "b = int(a)\n",
    "print(b, type(b), type(a))\n",
    "\n",
    "c = int(a, 2)    #문자 '11'을 2진수로 판단해서 십진수값 인 3으로 돌려줌\n",
    "print(c)\n",
    "print(int(a,8))  #문자 '11'을 8진수로 판단해서 십진수값인 9로 돌려줌\n",
    "print(int(a,16)) #문자 '11'을 16진수로 판단해서 십진수값인 17로 돌려줌"
   ]
  },
  {
   "cell_type": "markdown",
   "metadata": {},
   "source": [
    "-- isinstance(객체, 클래스) : 객체가 클래스의 인스턴스인지 판단하여 True /False값을 리턴"
   ]
  },
  {
   "cell_type": "code",
   "execution_count": 34,
   "metadata": {},
   "outputs": [
    {
     "name": "stdout",
     "output_type": "stream",
     "text": [
      "True\n",
      "False\n"
     ]
    }
   ],
   "source": [
    "class Person:\n",
    "    pass\n",
    "\n",
    "a=Person()\n",
    "print(isinstance(a,Person))\n",
    "\n",
    "b=10\n",
    "print(isinstance(b,person))"
   ]
  },
  {
   "cell_type": "markdown",
   "metadata": {},
   "source": [
    "-- len(s) : 입력값의 길이(요소전체 개수) 를 리턴  \n",
    "-- list(iterable) : 반복가능한 데이터를 입력받아 리스트로 만들어 리턴"
   ]
  },
  {
   "cell_type": "markdown",
   "metadata": {},
   "source": [
    "-- map(함수, 반복가능데이터) :  반복가능한 데이터의 각 요소에 함수를 적용한 결과를 리턴"
   ]
  },
  {
   "cell_type": "code",
   "execution_count": 38,
   "metadata": {},
   "outputs": [
    {
     "name": "stdout",
     "output_type": "stream",
     "text": [
      "[2, 4, 6, 8]\n",
      "[2, 4, 6, 8]\n"
     ]
    }
   ],
   "source": [
    "def tow_times(x):\n",
    "    return x*2\n",
    "\n",
    "a=[1,2,3,4]\n",
    "print(list(map(tow_times,a)))\n",
    "\n",
    "print(list(map(lambda x : x*2 , a)))"
   ]
  },
  {
   "cell_type": "markdown",
   "metadata": {},
   "source": [
    "-- max(iterable) : 반복 가능한 데이터 입력받아 그 최댓값을 리턴(숫자, 문자 상관없음)  \n",
    "-- min(iterable) : 반복 가능한 데이터 입력받아 그 최솟값을 리턴(숫자, 문자 상관없음)  "
   ]
  },
  {
   "cell_type": "code",
   "execution_count": 41,
   "metadata": {},
   "outputs": [
    {
     "name": "stdout",
     "output_type": "stream",
     "text": [
      "3\n",
      "y\n",
      "1\n",
      "h\n"
     ]
    }
   ],
   "source": [
    "print(max([1,2,3]))\n",
    "print(max(\"python\"))\n",
    "print(min([1,2,3]))\n",
    "print(min('python'))\n"
   ]
  },
  {
   "attachments": {
    "image.png": {
     "image/png": "[encoded data removed]"
    }
   },
   "cell_type": "markdown",
   "metadata": {},
   "source": [
    "-- oct(x) : 정수를 입력받아 8진수 문자열로 리턴  \n",
    "-- open(파일이름, [모드]) : 파일을 읽기방법에 따라 파일객체를 리턴  \n",
    "![image.png](attachment:image.png)  \n",
    "\n",
    "-- ord(x) : 문자의 유니코드 숫자 값을 리턴  \n",
    "-- pow(x,y) : x 거듭제곱 y 값 리턴  \n"
   ]
  },
  {
   "cell_type": "markdown",
   "metadata": {},
   "source": [
    "-- range(시작값, 스톱값, 스텝) : 시작값부터 스톱값전까지 스텝간격으로 하는 값들을 객체로 만들어 리턴  \n",
    "-- range(스톱값) : 0부터 스톱값전까지 정수를 객체로 출력  \n",
    "-- range(시작값, 스톱값) : 시작값부터 스톱값전까지 1씩 변하는 값 객체로 출력  "
   ]
  },
  {
   "cell_type": "code",
   "execution_count": 43,
   "metadata": {},
   "outputs": [
    {
     "name": "stdout",
     "output_type": "stream",
     "text": [
      "[0, 5, 10, 15, 20, 25, 30, 35, 40, 45, 50, 55, 60, 65, 70, 75, 80, 85, 90, 95]\n"
     ]
    }
   ],
   "source": [
    "a = list(range(0,100,5))\n",
    "print(a)"
   ]
  },
  {
   "cell_type": "markdown",
   "metadata": {},
   "source": [
    "-- round(x) : 입력받은 숫자를 반올림해 리턴하는 함수   \n",
    "-- round(x,y) : 입력받은 숫자 x를 y번째 자리 숫자까지 반올림하여 리턴함"
   ]
  },
  {
   "cell_type": "code",
   "execution_count": 51,
   "metadata": {},
   "outputs": [
    {
     "name": "stdout",
     "output_type": "stream",
     "text": [
      "589710\n",
      "589710.47\n",
      "589710.468\n",
      "589700.0\n"
     ]
    }
   ],
   "source": [
    "print(round(589710.468))\n",
    "print(round(589710.468, 2))\n",
    "print(round(589710.468, 5))\n",
    "print(round(589710.468, -2))\n"
   ]
  },
  {
   "cell_type": "markdown",
   "metadata": {},
   "source": [
    "-- sorted(iterable) : 입력 데이터의 요소들을 정렬한 후 그 결과를 리스트로 리턴"
   ]
  },
  {
   "cell_type": "code",
   "execution_count": 52,
   "metadata": {},
   "outputs": [
    {
     "data": {
      "text/plain": [
       "[1, 2, 3, 5, 7]"
      ]
     },
     "execution_count": 52,
     "metadata": {},
     "output_type": "execute_result"
    }
   ],
   "source": [
    "a = [2,7,3,5,1]\n",
    "sorted(a)\n"
   ]
  },
  {
   "cell_type": "markdown",
   "metadata": {},
   "source": [
    "-- str(객체) : 문자열 형태로 객체를 변환하는 함수  \n",
    "-- sum(iterable) : 입력데이터의 합을 리턴하는 함수"
   ]
  },
  {
   "cell_type": "code",
   "execution_count": 55,
   "metadata": {},
   "outputs": [
    {
     "data": {
      "text/plain": [
       "45"
      ]
     },
     "execution_count": 55,
     "metadata": {},
     "output_type": "execute_result"
    }
   ],
   "source": [
    "a = list(range(1,10))\n",
    "sum(a)"
   ]
  },
  {
   "cell_type": "markdown",
   "metadata": {},
   "source": [
    "--tuple(iterable) : 반복가능한 데이터를 튜플로 바꾸어 리턴하는 함수"
   ]
  },
  {
   "cell_type": "code",
   "execution_count": null,
   "metadata": {},
   "outputs": [
    {
     "name": "stdout",
     "output_type": "stream",
     "text": [
      "('a', 'b', 'c')\n",
      "(1, 2, 3)\n",
      "(1, 2, 3)\n"
     ]
    }
   ],
   "source": [
    "print(tuple(\"abc\"))\n",
    "print(tuple([1,2,3]))   #리스트를 튜플로 변경\n",
    "print(tuple((1,2,3)))  "
   ]
  },
  {
   "cell_type": "markdown",
   "metadata": {},
   "source": [
    "-- type(객체) : 입력값의 자료형이 무엇인지 알려주는 함수\n",
    "-- zip(*iterable) : 동일한 개수로 이루어진 데이터들을 묶어서 리턴하는 함수"
   ]
  },
  {
   "cell_type": "code",
   "execution_count": 61,
   "metadata": {},
   "outputs": [
    {
     "data": {
      "text/plain": [
       "[(1, 10),\n",
       " (2, 20),\n",
       " (3, 30),\n",
       " (4, 40),\n",
       " (5, 50),\n",
       " (6, 60),\n",
       " (7, 70),\n",
       " (8, 80),\n",
       " (9, 90)]"
      ]
     },
     "execution_count": 61,
     "metadata": {},
     "output_type": "execute_result"
    }
   ],
   "source": [
    "a= list(range(1,10))\n",
    "b= list(range(10,100,10))\n",
    "len(b)\n",
    "list(zip(a,b))"
   ]
  },
  {
   "cell_type": "code",
   "execution_count": null,
   "metadata": {},
   "outputs": [],
   "source": []
  }
 ],
 "metadata": {
  "kernelspec": {
   "display_name": "base",
   "language": "python",
   "name": "python3"
  },
  "language_info": {
   "codemirror_mode": {
    "name": "ipython",
    "version": 3
   },
   "file_extension": ".py",
   "mimetype": "text/x-python",
   "name": "python",
   "nbconvert_exporter": "python",
   "pygments_lexer": "ipython3",
   "version": "3.12.7"
  }
 },
 "nbformat": 4,
 "nbformat_minor": 2
}
