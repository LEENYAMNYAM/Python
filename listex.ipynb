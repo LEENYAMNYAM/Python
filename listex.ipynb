{
 "cells": [
  {
   "cell_type": "code",
   "execution_count": 1,
   "metadata": {},
   "outputs": [
    {
     "data": {
      "text/plain": [
       "[1, 2, 3]"
      ]
     },
     "execution_count": 1,
     "metadata": {},
     "output_type": "execute_result"
    }
   ],
   "source": [
    "a=[1,2,3]\n",
    "a"
   ]
  },
  {
   "cell_type": "code",
   "execution_count": 2,
   "metadata": {},
   "outputs": [
    {
     "name": "stdout",
     "output_type": "stream",
     "text": [
      "1\n",
      "2\n",
      "4\n"
     ]
    },
    {
     "data": {
      "text/plain": [
       "[100, 2, 3]"
      ]
     },
     "execution_count": 2,
     "metadata": {},
     "output_type": "execute_result"
    }
   ],
   "source": [
    "print(a[0])\n",
    "print(a[1])\n",
    "print(a[0]+a[2])\n",
    "a[0] = 100\n",
    "a"
   ]
  },
  {
   "cell_type": "code",
   "execution_count": 3,
   "metadata": {},
   "outputs": [
    {
     "name": "stdout",
     "output_type": "stream",
     "text": [
      "5\n"
     ]
    }
   ],
   "source": [
    "a[-1]\n",
    "b=[1,2,3,4,5]\n",
    "print(b[-1])"
   ]
  },
  {
   "cell_type": "code",
   "execution_count": 6,
   "metadata": {},
   "outputs": [
    {
     "name": "stdout",
     "output_type": "stream",
     "text": [
      "1\n",
      "2\n",
      "가나다\n",
      "[10, 20, 30]\n",
      "10\n"
     ]
    }
   ],
   "source": [
    "a=[1,2,3,\"가나다\",[10,20,30]]\n",
    "print(a[0])\n",
    "print(a[1])\n",
    "print(a[3])\n",
    "print(a[4])\n",
    "print(a[4][0])"
   ]
  },
  {
   "cell_type": "code",
   "execution_count": 7,
   "metadata": {},
   "outputs": [
    {
     "name": "stdout",
     "output_type": "stream",
     "text": [
      "[1, 2, 3, '가나다', 'python']\n"
     ]
    }
   ],
   "source": [
    "a[4] = \"python\"\n",
    "print(a)"
   ]
  },
  {
   "cell_type": "code",
   "execution_count": 11,
   "metadata": {},
   "outputs": [
    {
     "name": "stdout",
     "output_type": "stream",
     "text": [
      "[1, 2, 3]\n",
      "[1, 3, 5]\n",
      "[5, 4, 3, 2, 1]\n",
      "[5, 2]\n",
      "[3, 4, 5]\n"
     ]
    }
   ],
   "source": [
    "a=[1,2,3,4,5]\n",
    "print(a[0:3])\n",
    "print(a[::2])\n",
    "print(a[::-1])\n",
    "print(a[::-3])\n",
    "print(a[2:])"
   ]
  },
  {
   "cell_type": "code",
   "execution_count": null,
   "metadata": {},
   "outputs": [
    {
     "name": "stdout",
     "output_type": "stream",
     "text": [
      "[1, 2, 3, 4, 5, 1, 2, 3, 4, 5, 1, 2, 3, 4, 5]\n",
      "[1, 2, 3, 4, 5, 1, 2, 3, 4, 5, 1, 2, 3, 4, 5]\n",
      "[1, 2, 3, 4, 5, 10, 20, 30, 40, 50]\n",
      "5\n",
      "['a', 'b', 'c', 'd']\n",
      "a-b-c-d\n"
     ]
    }
   ],
   "source": [
    "print(a*3)\n",
    "#print(a+1)     #이건 안됨\n",
    "b=[10,20,30,40,50]\n",
    "print(a*3)\n",
    "print(a+b)      #이런식으로 됨\n",
    "print(len(a))\n",
    "str1 = \"abcd\"\n",
    "arr = list(str1)\n",
    "print(arr)\n",
    "str2 = '-'.join(arr)    #'-'의 값을 이용해서 문자를 연결해줌\n",
    "\n",
    "print(str2)"
   ]
  },
  {
   "cell_type": "code",
   "execution_count": 17,
   "metadata": {},
   "outputs": [
    {
     "name": "stdout",
     "output_type": "stream",
     "text": [
      "[1, 2, 3]\n",
      "[1, 2]\n"
     ]
    }
   ],
   "source": [
    "del a[3:]   #요소 삭제\n",
    "print(a)\n",
    "del a[2]    #index 2를 지움\n",
    "print(a)\n"
   ]
  },
  {
   "cell_type": "code",
   "execution_count": 21,
   "metadata": {},
   "outputs": [
    {
     "name": "stdout",
     "output_type": "stream",
     "text": [
      "[1, 2, 10, 20, 10, 20, [100, 200], 10, 20, [100, 200], 300, 400, 10]\n",
      "[1, 2, 10, 20, 10, 20, [100, 200], 10, 20, [100, 200], 300, 400, 10, 20]\n",
      "[1, 2, 10, 20, 10, 20, [100, 200], 10, 20, [100, 200], 300, 400, 10, 20, [100, 200]]\n",
      "[1, 2, 10, 20, 10, 20, [100, 200], 10, 20, [100, 200], 300, 400, 10, 20, [100, 200], 300, 400]\n",
      "[1, 500, 2, 10, 20, 10, 20, [100, 200], 10, 20, [100, 200], 300, 400, 10, 20, [100, 200], 300, 400]\n"
     ]
    }
   ],
   "source": [
    "a.append(10)\n",
    "print(a)\n",
    "a.append(20)\n",
    "print(a)\n",
    "a.append([100,200])\n",
    "print(a)\n",
    "a.extend([300, 400])\n",
    "print(a)\n",
    "a.insert(1,500)\n",
    "print(a)"
   ]
  },
  {
   "cell_type": "code",
   "execution_count": null,
   "metadata": {},
   "outputs": [
    {
     "name": "stdout",
     "output_type": "stream",
     "text": [
      "[500, 20, 10, 20, [100, 200], 10, 20, [100, 200], 300, 400, 10, 20, [100, 200], 300, 400]\n"
     ]
    }
   ],
   "source": [
    "a.remove(1)     # 1을 가지는 값을 지움\n",
    "del a[1]\n",
    "print(a)"
   ]
  },
  {
   "cell_type": "code",
   "execution_count": null,
   "metadata": {},
   "outputs": [],
   "source": []
  }
 ],
 "metadata": {
  "kernelspec": {
   "display_name": "base",
   "language": "python",
   "name": "python3"
  },
  "language_info": {
   "codemirror_mode": {
    "name": "ipython",
    "version": 3
   },
   "file_extension": ".py",
   "mimetype": "text/x-python",
   "name": "python",
   "nbconvert_exporter": "python",
   "pygments_lexer": "ipython3",
   "version": "3.12.7"
  }
 },
 "nbformat": 4,
 "nbformat_minor": 2
}
