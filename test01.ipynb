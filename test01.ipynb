{
 "cells": [
  {
   "cell_type": "code",
   "execution_count": 9,
   "metadata": {},
   "outputs": [
    {
     "name": "stdout",
     "output_type": "stream",
     "text": [
      "30\n"
     ]
    }
   ],
   "source": [
    "a=10\n",
    "b=20\n",
    "print(a+b)"
   ]
  },
  {
   "cell_type": "code",
   "execution_count": 10,
   "metadata": {},
   "outputs": [
    {
     "name": "stdout",
     "output_type": "stream",
     "text": [
      "1\n",
      "2\n",
      "3\n",
      "4\n",
      "5\n",
      "6\n",
      "7\n",
      "8\n",
      "9\n"
     ]
    }
   ],
   "source": [
    "for i in range(1,10):\n",
    "    print(i)\n"
   ]
  },
  {
   "cell_type": "code",
   "execution_count": 11,
   "metadata": {},
   "outputs": [],
   "source": [
    "a=10"
   ]
  },
  {
   "cell_type": "code",
   "execution_count": 12,
   "metadata": {},
   "outputs": [],
   "source": [
    "b=20"
   ]
  },
  {
   "cell_type": "code",
   "execution_count": 13,
   "metadata": {},
   "outputs": [
    {
     "name": "stdout",
     "output_type": "stream",
     "text": [
      "30\n"
     ]
    }
   ],
   "source": [
    "a+b; print(a+b)\n",
    "#주석"
   ]
  },
  {
   "attachments": {
    "9_bg3.png": {
     "image/png": "[encoded data removed]"
    }
   },
   "cell_type": "markdown",
   "metadata": {},
   "source": [
    "나는야 설명왕(마크다운)\n",
    "\n",
    "![9_bg3.png](attachment:9_bg3.png)\n"
   ]
  },
  {
   "cell_type": "code",
   "execution_count": 15,
   "metadata": {},
   "outputs": [
    {
     "name": "stdout",
     "output_type": "stream",
     "text": [
      "123 -173 0\n"
     ]
    }
   ],
   "source": [
    "a=123\n",
    "b=-173\n",
    "c=0\n",
    "print(a,b,c)"
   ]
  },
  {
   "cell_type": "code",
   "execution_count": 17,
   "metadata": {},
   "outputs": [
    {
     "name": "stdout",
     "output_type": "stream",
     "text": [
      "1.2 -3.15 12400000000.0 0.004123\n"
     ]
    }
   ],
   "source": [
    "d1=1.2\n",
    "d2=-3.15\n",
    "d3=1.24e10\n",
    "d4=4.123e-3\n",
    "print(d1,d2,d3,d4)"
   ]
  },
  {
   "cell_type": "code",
   "execution_count": 18,
   "metadata": {},
   "outputs": [
    {
     "name": "stdout",
     "output_type": "stream",
     "text": [
      "8\n"
     ]
    }
   ],
   "source": [
    "o1=0o10\n",
    "print(o1)"
   ]
  },
  {
   "cell_type": "code",
   "execution_count": 20,
   "metadata": {},
   "outputs": [
    {
     "name": "stdout",
     "output_type": "stream",
     "text": [
      "255 2748\n"
     ]
    }
   ],
   "source": [
    "h1=0xff\n",
    "h2=0xABC\n",
    "print(h1,h2)"
   ]
  },
  {
   "cell_type": "code",
   "execution_count": 22,
   "metadata": {},
   "outputs": [
    {
     "name": "stdout",
     "output_type": "stream",
     "text": [
      "3.3333333333333335\n",
      "3\n",
      "1\n"
     ]
    }
   ],
   "source": [
    "print(10/3)\n",
    "print(10//3)\n",
    "print(10%3)"
   ]
  },
  {
   "cell_type": "code",
   "execution_count": 23,
   "metadata": {},
   "outputs": [
    {
     "name": "stdout",
     "output_type": "stream",
     "text": [
      "128\n"
     ]
    }
   ],
   "source": [
    "print(2**7)"
   ]
  },
  {
   "cell_type": "code",
   "execution_count": 25,
   "metadata": {},
   "outputs": [
    {
     "name": "stdout",
     "output_type": "stream",
     "text": [
      "True\n",
      "False\n",
      "True\n",
      "False\n",
      "False\n",
      "True\n"
     ]
    }
   ],
   "source": [
    "a=10\n",
    "b=5\n",
    "print(a>b)\n",
    "print(a<b)\n",
    "print(a>=b)\n",
    "print(a<=b)\n",
    "print(a==b)\n",
    "print(a!=b)"
   ]
  },
  {
   "cell_type": "code",
   "execution_count": 28,
   "metadata": {},
   "outputs": [
    {
     "name": "stdout",
     "output_type": "stream",
     "text": [
      "0\n",
      "13\n",
      "13\n",
      "-9\n",
      "32\n",
      "2\n"
     ]
    }
   ],
   "source": [
    "a=8     #1000\n",
    "b=5     #0101\n",
    "print(a&b)        #0\n",
    "print(a|b)        #1101\n",
    "print(a^b)       #1101\n",
    "print(~a)          \n",
    "c=a<<2           #8*(2**2)\n",
    "print(c)\n",
    "print(a>>2)      #8/4"
   ]
  },
  {
   "cell_type": "code",
   "execution_count": 31,
   "metadata": {},
   "outputs": [
    {
     "name": "stdout",
     "output_type": "stream",
     "text": [
      "3.14 10\n"
     ]
    }
   ],
   "source": [
    "s1 = \"3.14\"\n",
    "s2= \"10\"\n",
    "f1 = float(s1)\n",
    "i=int(s2)\n",
    "print(f1, s2)"
   ]
  },
  {
   "cell_type": "code",
   "execution_count": 32,
   "metadata": {},
   "outputs": [
    {
     "name": "stdout",
     "output_type": "stream",
     "text": [
      "True\n",
      "<class 'str'> <class 'str'> <class 'int'> <class 'float'>\n"
     ]
    }
   ],
   "source": [
    "s1 =\"abc\"\n",
    "print(s1 == \"abc\")\n",
    "\n",
    "print(type(s1), type(s2), type(i), type(f1))"
   ]
  },
  {
   "cell_type": "code",
   "execution_count": 33,
   "metadata": {},
   "outputs": [
    {
     "name": "stdout",
     "output_type": "stream",
     "text": [
      "abcefg\n",
      "abc10\n"
     ]
    }
   ],
   "source": [
    "i1= 10\n",
    "s1=str(i1)\n",
    "print('abc'+'efg')\n",
    "print('abc'+s1)"
   ]
  },
  {
   "cell_type": "code",
   "execution_count": 36,
   "metadata": {},
   "outputs": [
    {
     "name": "stdout",
     "output_type": "stream",
     "text": [
      "abcabcabcabcabc\n",
      "**********\n",
      "True\n",
      "False\n"
     ]
    }
   ],
   "source": [
    "a=\"abc\"\n",
    "print(a*5)\n",
    "print(\"*\"*10)\n",
    "\n",
    "a=3\n",
    "b=[1,2,3,4]\n",
    "print(a in b)\n",
    "print(a not in b)\n",
    "\n"
   ]
  },
  {
   "cell_type": "code",
   "execution_count": 39,
   "metadata": {},
   "outputs": [
    {
     "name": "stdout",
     "output_type": "stream",
     "text": [
      "abc\n",
      "가나다\n",
      "123\n",
      "python\n",
      "Java\n",
      "Spring\n"
     ]
    }
   ],
   "source": [
    "a=\"\"\"abc\n",
    "가나다\n",
    "123\"\"\"\n",
    "print(a)\n",
    "b ='''python\n",
    "Java\n",
    "Spring'''\n",
    "print(b)"
   ]
  },
  {
   "cell_type": "code",
   "execution_count": 40,
   "metadata": {},
   "outputs": [
    {
     "name": "stdout",
     "output_type": "stream",
     "text": [
      "30\n"
     ]
    }
   ],
   "source": [
    "food1 = 'Python\\'s favorite food is per1'\n",
    "print(len(food1))"
   ]
  },
  {
   "cell_type": "code",
   "execution_count": 43,
   "metadata": {},
   "outputs": [
    {
     "name": "stdout",
     "output_type": "stream",
     "text": [
      "Pytho\n",
      "Pto\n",
      "1rep si doof etirovaf s'nohtyP\n",
      "Python's favorite food is per1\n"
     ]
    }
   ],
   "source": [
    "print(food1[0:5:1])\n",
    "print(food1[0:5:2])\n",
    "print(food1[::-1])\n",
    "print(food1[-50:50:])"
   ]
  },
  {
   "cell_type": "code",
   "execution_count": 45,
   "metadata": {},
   "outputs": [
    {
     "name": "stdout",
     "output_type": "stream",
     "text": [
      "TEAMLA AND ME Python\n",
      "TEAMLAB MOOC, AWESOME Python\n",
      "TEAMLAB MOOC, AWESOME Python\n",
      "TALBMO,AEOEPto and nohtyP EMOSEWA ,COOM BALMAET\n"
     ]
    }
   ],
   "source": [
    "a = \"TEAMLAB MOOC, AWESOME Python\"\n",
    "print(a[0:6], \"AND\", a[-9:])\n",
    "#%%\n",
    "print(a[:])\n",
    "print(a[-50:50])\n",
    "print(a[::2], \"and\", a[::-1])\n",
    "#%%는 셀나누기임"
   ]
  },
  {
   "cell_type": "code",
   "execution_count": 50,
   "metadata": {},
   "outputs": [
    {
     "name": "stdout",
     "output_type": "stream",
     "text": [
      "내이름은 홍길동이고, 나이는 20살 이고, 몸무게는 70.8kg 입니다. \n"
     ]
    }
   ],
   "source": [
    "name = \"홍길동\"\n",
    "age = 20\n",
    "weight = 70.8\n",
    "str1 =\"내이름은 \" + name + \"이고, 나이는 \" + str(age) + \"살 이고, 몸무게는 \" + str(weight) + \"kg 입니다. \"\n",
    "print(str1)"
   ]
  },
  {
   "cell_type": "code",
   "execution_count": null,
   "metadata": {},
   "outputs": [
    {
     "name": "stdout",
     "output_type": "stream",
     "text": [
      "내 이름은 홍길동       이고, 나이는  20살 이고, 몸무게는 70.80     입니다.\n"
     ]
    }
   ],
   "source": [
    "str1 =\"내 이름은 %-10s이고, 나이는 %3d세 이고, 몸무게는 %-10.2f입니다.\"%(name,age, weight)\n",
    "print(str1)"
   ]
  },
  {
   "cell_type": "code",
   "execution_count": 60,
   "metadata": {},
   "outputs": [
    {
     "name": "stdout",
     "output_type": "stream",
     "text": [
      "내 이름은 홍길동이고, 나이는 20세 이며, 홍길동의 몸무게는 70.8kg입니다.\n"
     ]
    }
   ],
   "source": [
    "str2 = \"내 이름은 {0}이고, 나이는 {1}세 이며, {0}의 몸무게는 {2}kg입니다.\" .format(name, age, weight)\n",
    "print(str2)"
   ]
  },
  {
   "cell_type": "code",
   "execution_count": 63,
   "metadata": {},
   "outputs": [
    {
     "name": "stdout",
     "output_type": "stream",
     "text": [
      "내 이름은 홍길동이고, 나이는 20세 이며, 홍길동의 몸무게는 70.8kg입니다.\n"
     ]
    }
   ],
   "source": [
    "str3 = \"내 이름은 {n}이고, 나이는 {a}세 이며, {n}의 몸무게는 {w}kg입니다.\" .format(n=name, a=age, w=weight)\n",
    "print(str3)"
   ]
  },
  {
   "cell_type": "code",
   "execution_count": 77,
   "metadata": {},
   "outputs": [
    {
     "name": "stdout",
     "output_type": "stream",
     "text": [
      "내 이름은 #######홍길동이고, 나이는    20   세 이며, 홍길동+++++++의 몸무게는      70.80kg입니다.\n"
     ]
    }
   ],
   "source": [
    "str4 = \"내 이름은 {0:#>10}이고, 나이는 {1:^8}세 이며, {0:+<10}의 몸무게는 {2:10.2f}kg입니다.\" .format(name, age, weight)\n",
    "print(str4)"
   ]
  },
  {
   "cell_type": "code",
   "execution_count": 79,
   "metadata": {},
   "outputs": [
    {
     "name": "stdout",
     "output_type": "stream",
     "text": [
      "이름은 홍길동       이고, 나이는  20이고, 몸무게는 70.800입니다.\n"
     ]
    }
   ],
   "source": [
    "str5 = f'이름은 {name:<10}이고, 나이는 {age:>3}이고, 몸무게는 {weight:0.3f}입니다.'\n",
    "print(str5)    #python 3.6버전부터지원\n"
   ]
  },
  {
   "cell_type": "code",
   "execution_count": 81,
   "metadata": {},
   "outputs": [
    {
     "name": "stdout",
     "output_type": "stream",
     "text": [
      "이름은 홍길동, 나이는 20입니다.\n",
      "이름은 홍길동, 나이는 20입니다.\n",
      "이름은 {name}, 나이는 {age}입니다.\n"
     ]
    }
   ],
   "source": [
    "str11 ='이름은 %s, 나이는 %d입니다.' %(name, age)\n",
    "str22 ='이름은 {}, 나이는 {}입니다.' .format(name, age)\n",
    "str33 ='이름은 {name}, 나이는 {age}입니다.'\n",
    "print(str11)\n",
    "print(str22)\n",
    "print(str33)"
   ]
  },
  {
   "cell_type": "code",
   "execution_count": 84,
   "metadata": {},
   "outputs": [
    {
     "name": "stdout",
     "output_type": "stream",
     "text": [
      "Python's favorite food is per1\n",
      "2\n"
     ]
    }
   ],
   "source": [
    "print(food1)\n",
    "print(food1.count('i'))"
   ]
  },
  {
   "cell_type": "code",
   "execution_count": 88,
   "metadata": {},
   "outputs": [
    {
     "name": "stdout",
     "output_type": "stream",
     "text": [
      "15\n",
      "1102\n"
     ]
    }
   ],
   "source": [
    "news='''\n",
    "속보='12·3 비상계엄'으로 국회가 탄핵소추한 윤석열 대통령에 대한 헌법재판소 탄핵심판 절차가 진행되고 있는 가운데, 이명박 전 대통령은 17일 국민의힘 권성동 원내대표를 만난 자리에서 \"당이 분열이 돼 있어서 참 안타깝다\"고 말한 것으로 전해졌다.\n",
    "\n",
    "이 전 대통령은 이날 서울 서초구 이명박재단에서 권 원내대표와 면담을 갖고 \"소수 정당이 똘똘 뭉쳐 대통령이 일할 수 있도록 밀어줘야 한다\"며 이같이 말했다.\n",
    "\n",
    "지난해 윤 대통령 탄핵 소추 과정에서 친윤(친윤석열)계와 친한(친한동훈)계 사이 벌어진 갈등 등을 거론한 것으로 풀이된다.\n",
    "\n",
    "권 원내대표가 \"(소속 의원들이) 생각하는 스펙트럼이 각자 다르고 넓어서 그동안 어려움이 있었다\"고 하자, 이 전 대통령은 \"지금 야당은 보통 야당이 아니고 다수당이기도 하다\"며 \"그걸 극복하려면 여당이 정말 힘과 지혜를 모아야 한다\"고 강조했다.\n",
    "\n",
    "그러면서 \"지금 그래도 (권성동) 원내대표가 들어와 좀 안정이 된 것 같아 다행스럽다\"고 했다.\n",
    "\n",
    "이 전 대통령은 \"건강하셔서 다행\"이라는 권 원내대표의 말에 \"건강하다\"면서도 \"마음이 편치는 않다\"고 덧붙였다.\n",
    "\n",
    "이 전 대통령은 이어진 비공개 면담에서 \"한미 관계가 굉장히 걱정\"이라며 \"이럴 때일수록 당이 혼연일체가 돼야 한다\"고 말했다고 김대식 원내수석대변인이 전했다.\n",
    "\n",
    "이 전 대통령은 이어 \"트럼프 2기 정부 들어 관세뿐만 아니라 여러 통상 문제가 있는데, 한국은 (대통령과 대통령 권한대행 탄핵 소추로) 카운터파트너가 사라지지 않았느냐\"며 \"한덕수 국무총리가 빨리 복귀해 위기를 잘 헤쳐 나갔으면 좋겠다\"고 말했다.\n",
    "\n",
    "한 총리는 이명박 정부 당시 주미대사와 한국무역협회장 등을 역임했다.\n",
    "\n",
    "이 전 대통령은 또 \"더불어민주당 이재명 대표도 당의 이익이 아니라 국가 이익을 확보하는 차원에서 한 대행에 대한 탄핵소추를 철회하거나, 헌재가 빨리 한 대행 탄핵심판을 결정해야 한다\"고 말했다고 권 원내대표가 전했다.\n",
    "\n",
    "이 전 대통령은 아울러 \"당이 앞으로는 분열하지 않고 단합과 통합을 통해 모두가 한마음으로 합쳐야 어려운 정국을 헤쳐 나갈 수 있을 것\"이라고 말했다고 한다.\n",
    "\n",
    "이 전 대통령은 윤 대통령 탄핵 심판 진행 과정에 대해서는 별다른 언급을 하지 않았다고 한다. '''\n",
    "\n",
    "print(news.count('대통령'))\n",
    "print(len(news))\n"
   ]
  },
  {
   "cell_type": "code",
   "execution_count": null,
   "metadata": {},
   "outputs": [
    {
     "name": "stdout",
     "output_type": "stream",
     "text": [
      "python is best the best choice\n",
      "PYTHON IS BEST THE BEST CHOICE\n",
      "Python Is Best The Best Choice\n",
      "Python is best the best choice\n",
      "10\n",
      "19\n",
      "True\n",
      "True\n"
     ]
    }
   ],
   "source": [
    "a = 'Python is best the best Choice'\n",
    "print(a.lower())\n",
    "print(a.upper())\n",
    "print(a.title())\n",
    "print(a.capitalize())\n",
    "print(a.find(\"best\"))\n",
    "print(a.rfind(\"best\"))\n",
    "print(a.startswith(\"Py\"))\n",
    "print(a.endswith(\"ce\"))\n"
   ]
  },
  {
   "cell_type": "code",
   "execution_count": 101,
   "metadata": {},
   "outputs": [
    {
     "data": {
      "text/plain": [
       "['Python', 'is', 'best', 'the', 'best', 'Choice']"
      ]
     },
     "execution_count": 101,
     "metadata": {},
     "output_type": "execute_result"
    }
   ],
   "source": [
    "arr = a.split()\n",
    "arr"
   ]
  },
  {
   "cell_type": "code",
   "execution_count": 102,
   "metadata": {},
   "outputs": [
    {
     "data": {
      "text/plain": [
       "list"
      ]
     },
     "execution_count": 102,
     "metadata": {},
     "output_type": "execute_result"
    }
   ],
   "source": [
    "type(arr)"
   ]
  },
  {
   "cell_type": "code",
   "execution_count": 104,
   "metadata": {},
   "outputs": [
    {
     "name": "stdout",
     "output_type": "stream",
     "text": [
      "['red', 'green', 'blue']\n",
      "['red-green-blue']\n"
     ]
    }
   ],
   "source": [
    "cc = \"red-green-blue\"\n",
    "cc_arr = cc.split(\"-\")\n",
    "print(cc_arr)\n",
    "\n",
    "cc_arr2=cc.split()\n",
    "print(cc_arr2)"
   ]
  },
  {
   "cell_type": "code",
   "execution_count": null,
   "metadata": {},
   "outputs": [
    {
     "name": "stdout",
     "output_type": "stream",
     "text": [
      "a python is best b\n",
      "a  python is best  b\n",
      "a python is best  b\n",
      "a  python is best b\n"
     ]
    }
   ],
   "source": [
    "aa = \" python is best \"\n",
    "print(\"a\", aa.strip(), \"b\")     # 공백제거\n",
    "print(\"a\", aa, \"b\")\n",
    "print(\"a\", aa.lstrip(), \"b\")    #왼쪽 공백 제거\n",
    "print(\"a\", aa.rstrip(), \"b\")    #오른쪽 공백 제거"
   ]
  },
  {
   "cell_type": "code",
   "execution_count": 112,
   "metadata": {},
   "outputs": [
    {
     "name": "stdout",
     "output_type": "stream",
     "text": [
      "Python is best the best Choice\n",
      "10\n",
      "-1\n",
      "10\n"
     ]
    }
   ],
   "source": [
    "print(a)\n",
    "print(a.find('best'))\n",
    "print(a.find('bst'))    # 없는 값일때 -1나옴\n",
    "print(a.index('best'))\n",
    "# print(a.index('bst'))   # 없는 글자는 에러남\n"
   ]
  },
  {
   "cell_type": "code",
   "execution_count": 114,
   "metadata": {},
   "outputs": [
    {
     "name": "stdout",
     "output_type": "stream",
     "text": [
      "Java is best the best Choice\n",
      "Python is best the best Choice\n"
     ]
    }
   ],
   "source": [
    "c = a.replace('Python', 'Java')\n",
    "print(c)\n",
    "print(a)"
   ]
  },
  {
   "cell_type": "code",
   "execution_count": null,
   "metadata": {},
   "outputs": [
    {
     "data": {
      "text/plain": [
       "9"
      ]
     },
     "execution_count": 116,
     "metadata": {},
     "output_type": "execute_result"
    }
   ],
   "source": [
    "yesterday='''\n",
    "Yesterday, all my troubles seemed so far away\n",
    "지난 날엔, 내 모든 문제들이\n",
    "저 멀리 있는 것 같았는데\n",
    "\n",
    "Now it looks as though they're here to stay\n",
    "이제 그것들이 여기에 머무르려 하는 것 같아\n",
    "\n",
    "Oh, I believe in yesterday\n",
    "오, 난 지난 날을 믿었는데\n",
    "\n",
    "\n",
    "Suddenly, I'm not half the man I used to be\n",
    "갑자기, 내가 예전의 반도 안 되는\n",
    "남자 같이 느껴졌어\n",
    "\n",
    "There's a shadow hanging over me\n",
    "내 머리 위로 그림자가 드리워져\n",
    "\n",
    "Oh, yesterday came suddenly\n",
    "지난 날이 갑자기 떠올라\n",
    "\n",
    "\n",
    "Why she had to go?\n",
    "왜 그녀는 떠나야만 했을까\n",
    "\n",
    "I don't know, she wouldn't say\n",
    "모르겠어, 그녀는 말 하지 않았어\n",
    "\n",
    "I said something wrong\n",
    "내가 뭔가 잘못 말한걸까\n",
    "\n",
    "Now I long for yesterday\n",
    "이젠 지난 날이 그리워져\n",
    "\n",
    "\n",
    "Yesterday, love was such an easy game to play\n",
    "지난 날엔, 사랑은 마치 쉬운 게임 같았는데\n",
    "\n",
    "Now I need a place to hide away\n",
    "이젠 멀리 숨을 곳이 필요해\n",
    "\n",
    "Oh, I believe in yesterday\n",
    "나는 지난 날을 믿었는데\n",
    "\n",
    "\n",
    "Why she had to go\n",
    "왜 그녀는 떠나야만 했을까\n",
    "\n",
    "I don't know she wouldn't say\n",
    "모르겠어, 그녀는 말 하지 않았어\n",
    "\n",
    "I said something wrong\n",
    "내가 뭔가 잘못 말한걸까?\n",
    "\n",
    "Now I long for yesterday\n",
    "이젠 지난 날이 그리워져\n",
    "\n",
    "\n",
    "Yesterday, love was such an easy game to play\n",
    "지난 날엔, 사랑은 마치 쉬운 게임 같았는데\n",
    "\n",
    "Now I need a place to hide away\n",
    "이젠 멀리 숨을 곳이 필요해\n",
    "\n",
    "Oh, I believe in yesterday\n",
    "나는 지난 날을 믿었는데\n",
    "\n",
    "\n",
    "Mm mm mm mm mm mm mm\n",
    "음음음음 음 음음'''\n",
    "\n",
    "y1=yesterday.lower()\n",
    "y1.count('yesterday')\n"
   ]
  }
 ],
 "metadata": {
  "kernelspec": {
   "display_name": "base",
   "language": "python",
   "name": "python3"
  },
  "language_info": {
   "codemirror_mode": {
    "name": "ipython",
    "version": 3
   },
   "file_extension": ".py",
   "mimetype": "text/x-python",
   "name": "python",
   "nbconvert_exporter": "python",
   "pygments_lexer": "ipython3",
   "version": "3.12.7"
  }
 },
 "nbformat": 4,
 "nbformat_minor": 2
}
