{
 "cells": [
  {
   "cell_type": "markdown",
   "metadata": {},
   "source": [
    "# 9장 라이브러리"
   ]
  },
  {
   "cell_type": "markdown",
   "metadata": {},
   "source": [
    "- 표준라이브러리"
   ]
  },
  {
   "cell_type": "markdown",
   "metadata": {},
   "source": [
    "-- datetime.date"
   ]
  },
  {
   "cell_type": "code",
   "execution_count": null,
   "metadata": {},
   "outputs": [
    {
     "name": "stdout",
     "output_type": "stream",
     "text": [
      "2025-02-24\n"
     ]
    },
    {
     "data": {
      "text/plain": [
       "datetime.date(2025, 2, 24)"
      ]
     },
     "execution_count": 2,
     "metadata": {},
     "output_type": "execute_result"
    }
   ],
   "source": [
    "import datetime\n",
    "day1 = datetime.date(2025,2,24)\n",
    "print(day1)     #데이트 타입은 출력시 출력형이 바뀜\n",
    "day1            #출력형이랑 다름을 확인가능"
   ]
  },
  {
   "cell_type": "code",
   "execution_count": 6,
   "metadata": {},
   "outputs": [
    {
     "name": "stdout",
     "output_type": "stream",
     "text": [
      "2025-05-24\n",
      "2024-02-24 13:30:45\n"
     ]
    }
   ],
   "source": [
    "import datetime\n",
    "day1 = datetime.date(2025,5,24)                     #날짜까지 출력\n",
    "day2 = datetime.datetime(2024,2,24,13,30,45)        #시간까지 출력\n",
    "print(day1)\n",
    "print(day2)\n"
   ]
  },
  {
   "cell_type": "code",
   "execution_count": null,
   "metadata": {},
   "outputs": [
    {
     "name": "stdout",
     "output_type": "stream",
     "text": [
      "-455 days, 0:00:00\n",
      "-455\n",
      "5\n",
      "6\n"
     ]
    }
   ],
   "source": [
    "import datetime\n",
    "day1 = datetime.date(2025,5,24)                     #날짜까지 출력\n",
    "day2 = datetime.date(2024,2,24)        #시간까지 출력\n",
    "print(day2-day1)\n",
    "diff=day2-day1\n",
    "print(diff.days)\n",
    "print(day2.weekday())  #요일출력(월:0 ~ 일:6)\n",
    "print(day2.isoweekday()) #요일출력(월:1 ~ 일:7)\n"
   ]
  },
  {
   "cell_type": "markdown",
   "metadata": {},
   "source": [
    "-- time"
   ]
  },
  {
   "cell_type": "code",
   "execution_count": null,
   "metadata": {},
   "outputs": [
    {
     "data": {
      "text/plain": [
       "1740377452.5324259"
      ]
     },
     "execution_count": 17,
     "metadata": {},
     "output_type": "execute_result"
    }
   ],
   "source": [
    "import time\n",
    "time.time()    #1970.01.01 기준 흐른 초 계산"
   ]
  },
  {
   "cell_type": "code",
   "execution_count": 20,
   "metadata": {},
   "outputs": [
    {
     "name": "stdout",
     "output_type": "stream",
     "text": [
      "Mon Feb 24 15:13:19 2025\n",
      "Mon Feb 24 15:13:19 2025\n"
     ]
    }
   ],
   "source": [
    "print(time.asctime(time.localtime(time.time())))\n",
    "print(time.ctime())"
   ]
  },
  {
   "cell_type": "code",
   "execution_count": null,
   "metadata": {},
   "outputs": [
    {
     "name": "stdout",
     "output_type": "stream",
     "text": [
      "02/24/25\n",
      "Mon Feb 24 15:15:28 2025\n"
     ]
    }
   ],
   "source": [
    "# 날짜 포맷 지정\n",
    "time.strftime(\"포맷\", time.localtime(time.time()))\n",
    "print(time.strftime('%x', time.localtime(time.time()))) #%x하면  날짜만 가져옴\n",
    "print(time.strftime('%c', time.localtime(time.time()))) #%x하면  요일, 월, 일, 시간, 연도 가져옴"
   ]
  },
  {
   "cell_type": "code",
   "execution_count": 27,
   "metadata": {},
   "outputs": [
    {
     "name": "stdout",
     "output_type": "stream",
     "text": [
      "0\n",
      "1\n",
      "2\n",
      "3\n",
      "4\n",
      "5\n",
      "6\n",
      "7\n",
      "8\n",
      "9\n"
     ]
    }
   ],
   "source": [
    "# (주로 반복동작시) 작동에 시간텀을 주고 싶을때는 time.sleep(초)\n",
    "for i in range(0,10,1):\n",
    "    print(i)\n",
    "    time.sleep(3)"
   ]
  },
  {
   "cell_type": "code",
   "execution_count": 30,
   "metadata": {},
   "outputs": [
    {
     "name": "stdout",
     "output_type": "stream",
     "text": [
      "20\n",
      "75\n"
     ]
    }
   ],
   "source": [
    "import math\n",
    "print(math.gcd(60,100,80))       #최대공약수\n",
    "print(math.lcm(15,25))           #최소공배수"
   ]
  },
  {
   "cell_type": "code",
   "execution_count": 132,
   "metadata": {},
   "outputs": [
    {
     "data": {
      "text/plain": [
       "25"
      ]
     },
     "execution_count": 132,
     "metadata": {},
     "output_type": "execute_result"
    }
   ],
   "source": [
    "import random\n",
    "int(random.random() * 100) + 1   # 1~100사이의 랜덤한 정수 발생"
   ]
  },
  {
   "cell_type": "code",
   "execution_count": 298,
   "metadata": {},
   "outputs": [
    {
     "name": "stdout",
     "output_type": "stream",
     "text": [
      "[53, 23, 35, 39, 7, 57, 27, 29, 69, 43]\n"
     ]
    }
   ],
   "source": [
    "aa = list(range(1,100, 2))\n",
    "a = random.sample(aa, 10)           # aa의 요소중에서 임의의 10개를 뽑아 리스트로 작성\n",
    "print(a)"
   ]
  },
  {
   "cell_type": "code",
   "execution_count": 342,
   "metadata": {},
   "outputs": [
    {
     "name": "stdout",
     "output_type": "stream",
     "text": [
      "3\n",
      "78\n"
     ]
    }
   ],
   "source": [
    "print(int(random.random()*10) + 1)      # 자바라면 무조건 이렇게 쓰지만\n",
    "print(random.randint(50,100))           # 파이썬은 이렇게 가능함.(50이상 100이하의 정수)"
   ]
  },
  {
   "cell_type": "code",
   "execution_count": 343,
   "metadata": {},
   "outputs": [
    {
     "data": {
      "text/plain": [
       "[5, 3, 1, 2, 4]"
      ]
     },
     "execution_count": 343,
     "metadata": {},
     "output_type": "execute_result"
    }
   ],
   "source": [
    "data = [1,2,3,4,5]\n",
    "random.sample(data, len(data))   # data 요소중에 len(data)개수만큼 램덤으로 뽑아줌(지금은 모두 뽑았으니 순서가 랜덤해짐)"
   ]
  },
  {
   "cell_type": "code",
   "execution_count": 346,
   "metadata": {},
   "outputs": [
    {
     "name": "stdout",
     "output_type": "stream",
     "text": [
      "[('짱구', '초코비'), ('철수', '아이스크림'), ('유리', '젤리'), ('맹구', '사탕'), ('훈이', '새우깡')]\n"
     ]
    }
   ],
   "source": [
    "import itertools\n",
    "students = ['짱구', '철수', '유리', '맹구', '훈이']\n",
    "snacks = ['초코비', '아이스크림', '젤리', '사탕']\n",
    "result = itertools.zip_longest(students,snacks, fillvalue='새우깡')  #짝이 없으면 새우깡으로 채움\n",
    "print(list(result))\n"
   ]
  },
  {
   "cell_type": "code",
   "execution_count": null,
   "metadata": {},
   "outputs": [
    {
     "name": "stdout",
     "output_type": "stream",
     "text": [
      "20\n",
      "[(1, 2), (1, 3), (1, 4), (1, 5), (2, 1), (2, 3), (2, 4), (2, 5), (3, 1), (3, 2), (3, 4), (3, 5), (4, 1), (4, 2), (4, 3), (4, 5), (5, 1), (5, 2), (5, 3), (5, 4)]\n"
     ]
    }
   ],
   "source": [
    "# 순열 계산 가능\n",
    "# 리스트 a의 5개 요소중 2개를 합하여 만들수 있는 5P2 = 5*4 = 20가지 계산해줌 \n",
    "a = [1,2,3,4,5]\n",
    "b = list(itertools.permutations(a,2))\n",
    "print(len(b))\n",
    "print(b)"
   ]
  },
  {
   "cell_type": "code",
   "execution_count": 351,
   "metadata": {},
   "outputs": [
    {
     "data": {
      "text/plain": [
       "8145060"
      ]
     },
     "execution_count": 351,
     "metadata": {},
     "output_type": "execute_result"
    }
   ],
   "source": [
    "# 조합 계산 가능\n",
    "# 로또 조합 계산 해줌\n",
    "import itertools\n",
    "it = itertools.combinations(range(1,46), 6)\n",
    "len(list(itertools.combinations(range(1,46), 6)))"
   ]
  },
  {
   "cell_type": "markdown",
   "metadata": {},
   "source": [
    "-- operator"
   ]
  },
  {
   "cell_type": "code",
   "execution_count": null,
   "metadata": {},
   "outputs": [
    {
     "name": "stdout",
     "output_type": "stream",
     "text": [
      "[('jane', 22, 'A'), ('dave', 32, 'B'), ('sally', 17, 'B')]\n"
     ]
    }
   ],
   "source": [
    "students = [('jane', 22, 'A'),\n",
    "            ('dave', 32, 'B'),\n",
    "            ('sally', 17, 'B')]\n",
    "\n",
    "from operator import itemgetter\n",
    "result = sorted(students, key=itemgetter(2))        # 2번 인덱스의 오름차순으로 정렬\n",
    "print(result)\n",
    "\n"
   ]
  },
  {
   "cell_type": "code",
   "execution_count": null,
   "metadata": {},
   "outputs": [
    {
     "name": "stdout",
     "output_type": "stream",
     "text": [
      "[{'name': 'jane', 'age': 22, 'grade': 'A'}, {'name': 'dave', 'age': 32, 'grade': 'B'}, {'name': 'sally', 'age': 17, 'grade': 'B'}]\n"
     ]
    }
   ],
   "source": [
    "students = [{\"name\":'jane', \"age\" : 22, \"grade\" : 'A'},\n",
    "            {\"name\":'dave', \"age\" : 32, \"grade\" : 'B'},\n",
    "            {\"name\":'sally', \"age\" : 17, \"grade\" : 'B'}]\n",
    "\n",
    "result = sorted(students, key=itemgetter('grade'))  # grade키의 오름차순으로 정렬\n",
    "print(result)"
   ]
  },
  {
   "cell_type": "code",
   "execution_count": 357,
   "metadata": {},
   "outputs": [
    {
     "data": {
      "text/plain": [
       "['data\\\\test.txt', 'data\\\\test02.txt']"
      ]
     },
     "execution_count": 357,
     "metadata": {},
     "output_type": "execute_result"
    }
   ],
   "source": [
    "import glob                 \n",
    "glob.glob(\"data/test*\")         # data 디렉토리에 있는 파일 중 test로 시작하는 파일 모두 찾기"
   ]
  },
  {
   "cell_type": "markdown",
   "metadata": {},
   "source": [
    "-- pickle : 객체의 형태를 그래도 유지하면서 파일에 저장하고 불러 올 수 있게 하는 모듈\n",
    "    > pickle.dump : 딕셔너리 객체를 그대로 파일에 저장\n",
    "    > pickle.load : 원래 딕셔너리 객체 상태 그대로 불러오기"
   ]
  },
  {
   "cell_type": "code",
   "execution_count": null,
   "metadata": {},
   "outputs": [
    {
     "name": "stdout",
     "output_type": "stream",
     "text": [
      "{'name': 'jane', 'age': 22, 'grade': 'A'}\n",
      "{'name': 'dave', 'age': 32, 'grade': 'B'}\n",
      "{'name': 'sally', 'age': 17, 'grade': 'B'}\n"
     ]
    }
   ],
   "source": [
    "import pickle\n",
    "\n",
    "f = open(\"data/test03.txt\", 'wb')\n",
    "\n",
    "\n",
    "for data in students:\n",
    "    print(data)\n",
    "    pickle.dump(data,f)\n",
    "f.close()\n"
   ]
  },
  {
   "cell_type": "code",
   "execution_count": 364,
   "metadata": {},
   "outputs": [],
   "source": [
    "import pickle\n",
    "\n",
    "f = open(\"data/test03.txt\", 'wb')\n",
    "pickle.dump(students, f)\n",
    "f.close()\n"
   ]
  },
  {
   "cell_type": "code",
   "execution_count": 365,
   "metadata": {},
   "outputs": [
    {
     "name": "stdout",
     "output_type": "stream",
     "text": [
      "[{'name': 'jane', 'age': 22, 'grade': 'A'}, {'name': 'dave', 'age': 32, 'grade': 'B'}, {'name': 'sally', 'age': 17, 'grade': 'B'}]\n"
     ]
    }
   ],
   "source": [
    "f = open(\"data/test03.txt\", \"rb\")\n",
    "data = pickle.load(f)\n",
    "print(data)"
   ]
  },
  {
   "cell_type": "code",
   "execution_count": null,
   "metadata": {},
   "outputs": [],
   "source": [
    "import pickle\n",
    "\n",
    "f=open(\"data/test03.txt\",'wb')\n",
    "for data in students:\n",
    "    print(data)\n",
    "    pickle.dump(data,f)\n",
    "f.close()"
   ]
  },
  {
   "cell_type": "markdown",
   "metadata": {},
   "source": [
    "-- zipfile : 여러개의 파일을 zip형태로 압축하거나 압축을 풀때 사용"
   ]
  },
  {
   "cell_type": "code",
   "execution_count": 370,
   "metadata": {},
   "outputs": [],
   "source": [
    "import zipfile\n",
    "\n",
    "# zip으로 압축하고 싶을 때\n",
    "with zipfile.ZipFile(\"data/mytest.zip\", 'w') as myzip:   \n",
    "    myzip.write(\"data/foo.txt\")\n",
    "    myzip.write(\"data/test.txt\")\n",
    "\n",
    "# zip파일을 압축풀고 싶을 때\n",
    "with zipfile.ZipFile(\"data/mytest.zip\") as myzip:\n",
    "    myzip.extractall(\"data/aa\")\n"
   ]
  },
  {
   "cell_type": "markdown",
   "metadata": {},
   "source": [
    "-- json : json 데이터를 쉽게 처리하고자 사용하는 모듈"
   ]
  },
  {
   "cell_type": "code",
   "execution_count": null,
   "metadata": {},
   "outputs": [
    {
     "name": "stdout",
     "output_type": "stream",
     "text": [
      "{'name': '짱구', 'birth': '0505', 'age': 5}\n"
     ]
    }
   ],
   "source": [
    "import json\n",
    "\n",
    "# 읽어오기\n",
    "with open(\"data/myinfo.json\") as f :\n",
    "    data = json.load(f)\n",
    "    print(data)\n"
   ]
  },
  {
   "cell_type": "code",
   "execution_count": 375,
   "metadata": {},
   "outputs": [],
   "source": [
    "# 기록하기\n",
    "data = {\"name\": \"KCS\", \"birth\": '1230', \"age\": 5}\n",
    "with open(\"data/myinfo2.json\", 'w') as f:\n",
    "    json.dump(data,f)"
   ]
  },
  {
   "cell_type": "code",
   "execution_count": 376,
   "metadata": {},
   "outputs": [],
   "source": [
    "with open(\"data/students.json\", 'w') as f:\n",
    "    json.dump(students,f)"
   ]
  },
  {
   "cell_type": "code",
   "execution_count": null,
   "metadata": {},
   "outputs": [
    {
     "data": {
      "text/plain": [
       "'[{\"name\": \"jane\", \"age\": 22, \"grade\": \"A\"}, {\"name\": \"dave\", \"age\": 32, \"grade\": \"B\"}, {\"name\": \"sally\", \"age\": 17, \"grade\": \"B\"}]'"
      ]
     },
     "execution_count": 377,
     "metadata": {},
     "output_type": "execute_result"
    }
   ],
   "source": [
    "json_data = json.dumps(students)\n",
    "json_data"
   ]
  },
  {
   "cell_type": "code",
   "execution_count": null,
   "metadata": {},
   "outputs": [
    {
     "ename": "AttributeError",
     "evalue": "'str' object has no attribute 'read'",
     "output_type": "error",
     "traceback": [
      "\u001b[1;31m---------------------------------------------------------------------------\u001b[0m",
      "\u001b[1;31mAttributeError\u001b[0m                            Traceback (most recent call last)",
      "Cell \u001b[1;32mIn[378], line 1\u001b[0m\n\u001b[1;32m----> 1\u001b[0m kk \u001b[38;5;241m=\u001b[39m json\u001b[38;5;241m.\u001b[39mload(json_data)\n\u001b[0;32m      2\u001b[0m \u001b[38;5;28mprint\u001b[39m(kk)\n",
      "File \u001b[1;32mc:\\Users\\admin\\anaconda3\\Lib\\json\\__init__.py:293\u001b[0m, in \u001b[0;36mload\u001b[1;34m(fp, cls, object_hook, parse_float, parse_int, parse_constant, object_pairs_hook, **kw)\u001b[0m\n\u001b[0;32m    274\u001b[0m \u001b[38;5;28;01mdef\u001b[39;00m \u001b[38;5;21mload\u001b[39m(fp, \u001b[38;5;241m*\u001b[39m, \u001b[38;5;28mcls\u001b[39m\u001b[38;5;241m=\u001b[39m\u001b[38;5;28;01mNone\u001b[39;00m, object_hook\u001b[38;5;241m=\u001b[39m\u001b[38;5;28;01mNone\u001b[39;00m, parse_float\u001b[38;5;241m=\u001b[39m\u001b[38;5;28;01mNone\u001b[39;00m,\n\u001b[0;32m    275\u001b[0m         parse_int\u001b[38;5;241m=\u001b[39m\u001b[38;5;28;01mNone\u001b[39;00m, parse_constant\u001b[38;5;241m=\u001b[39m\u001b[38;5;28;01mNone\u001b[39;00m, object_pairs_hook\u001b[38;5;241m=\u001b[39m\u001b[38;5;28;01mNone\u001b[39;00m, \u001b[38;5;241m*\u001b[39m\u001b[38;5;241m*\u001b[39mkw):\n\u001b[0;32m    276\u001b[0m \u001b[38;5;250m    \u001b[39m\u001b[38;5;124;03m\"\"\"Deserialize ``fp`` (a ``.read()``-supporting file-like object containing\u001b[39;00m\n\u001b[0;32m    277\u001b[0m \u001b[38;5;124;03m    a JSON document) to a Python object.\u001b[39;00m\n\u001b[0;32m    278\u001b[0m \n\u001b[1;32m   (...)\u001b[0m\n\u001b[0;32m    291\u001b[0m \u001b[38;5;124;03m    kwarg; otherwise ``JSONDecoder`` is used.\u001b[39;00m\n\u001b[0;32m    292\u001b[0m \u001b[38;5;124;03m    \"\"\"\u001b[39;00m\n\u001b[1;32m--> 293\u001b[0m     \u001b[38;5;28;01mreturn\u001b[39;00m loads(fp\u001b[38;5;241m.\u001b[39mread(),\n\u001b[0;32m    294\u001b[0m         \u001b[38;5;28mcls\u001b[39m\u001b[38;5;241m=\u001b[39m\u001b[38;5;28mcls\u001b[39m, object_hook\u001b[38;5;241m=\u001b[39mobject_hook,\n\u001b[0;32m    295\u001b[0m         parse_float\u001b[38;5;241m=\u001b[39mparse_float, parse_int\u001b[38;5;241m=\u001b[39mparse_int,\n\u001b[0;32m    296\u001b[0m         parse_constant\u001b[38;5;241m=\u001b[39mparse_constant, object_pairs_hook\u001b[38;5;241m=\u001b[39mobject_pairs_hook, \u001b[38;5;241m*\u001b[39m\u001b[38;5;241m*\u001b[39mkw)\n",
      "\u001b[1;31mAttributeError\u001b[0m: 'str' object has no attribute 'read'"
     ]
    }
   ],
   "source": [
    "# json 데이터를 읽어 올 때는 그냥 읽어 올 수 없을 때가 많음.\n",
    "# kk = json.load(json_data)\n",
    "# print(kk)"
   ]
  },
  {
   "cell_type": "markdown",
   "metadata": {},
   "source": [
    "- 외부 라이브러리 : 파이썬 설치시 깔리는것이 아닌 라이브러리"
   ]
  },
  {
   "cell_type": "markdown",
   "metadata": {},
   "source": [
    "-- pip : 파이썬 모듈이나 패키지를 쉽게 설치 할 수 있도록 도와주는 도구  \n",
    "          외부 라이브러리를 사용하려면 pip 도구를 먼저 설치 해야함."
   ]
  },
  {
   "cell_type": "markdown",
   "metadata": {},
   "source": [
    "> 다음에 자주 쓰이기 때문에 다음에 쓰일때 다시 제대로 할 예정"
   ]
  }
 ],
 "metadata": {
  "kernelspec": {
   "display_name": "base",
   "language": "python",
   "name": "python3"
  },
  "language_info": {
   "codemirror_mode": {
    "name": "ipython",
    "version": 3
   },
   "file_extension": ".py",
   "mimetype": "text/x-python",
   "name": "python",
   "nbconvert_exporter": "python",
   "pygments_lexer": "ipython3",
   "version": "3.12.7"
  }
 },
 "nbformat": 4,
 "nbformat_minor": 2
}
