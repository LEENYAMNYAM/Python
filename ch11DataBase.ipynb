{
 "cells": [
  {
   "cell_type": "markdown",
   "metadata": {},
   "source": [
    "# 11장 데이터베이스 "
   ]
  },
  {
   "cell_type": "markdown",
   "metadata": {},
   "source": [
    "<div style='font-size:20pt'>- 1.SQLite<div>"
   ]
  },
  {
   "cell_type": "markdown",
   "metadata": {},
   "source": [
    "-- 파일기반 DBMS, 저메모리, 빠른 처리 속도  \n",
    "-- 오픈 소스  \n",
    "-- 별도의 DB서버가 없어도 쉽고 편리하게 사용할 수 있는 Embedded SQL 엔진  "
   ]
  },
  {
   "cell_type": "markdown",
   "metadata": {},
   "source": [
    "-- 기본적으로 파이썬 깔면서 같이 깔려있음.  \n",
    "    (이번에는 다른 툴을 사용하지 않고 SQLite를 사용해 볼 예정)"
   ]
  },
  {
   "cell_type": "code",
   "execution_count": null,
   "metadata": {},
   "outputs": [],
   "source": [
    "# 설치가 되어 있기때문에 바로 연동만 하면됨.\n",
    "import sqlite3"
   ]
  },
  {
   "cell_type": "code",
   "execution_count": null,
   "metadata": {},
   "outputs": [],
   "source": [
    "#테이블 생성\n",
    "def create_table():\n",
    "    conn = sqlite3.connect('books.db')\n",
    "    sql = \"\"\"CREATE TABLE IF NOT EXISTS book\n",
    "    (title TEXT, published_data TEXT, publisher TEXT, page INTEGER, recommend INTEGER)\"\"\"\n",
    "\n",
    "    cur = conn.cursor()\n",
    "    cur.execute(sql)\n",
    "    conn.commit()\n",
    "    conn.close()\n",
    "create_table()"
   ]
  },
  {
   "cell_type": "code",
   "execution_count": null,
   "metadata": {},
   "outputs": [],
   "source": [
    "# 데이터 추가\n",
    "def insert_data():\n",
    "    conn = sqlite3.connect('books.db')\n",
    "    cursor = conn.cursor()\n",
    "    sql = \"insert into book values ('Java', '2025-03-04', '부산IT', 500, 10)\"\n",
    "    cursor.execute(sql)\n",
    "    conn.commit()\n",
    "    conn.close()\n",
    "insert_data()"
   ]
  },
  {
   "cell_type": "code",
   "execution_count": null,
   "metadata": {},
   "outputs": [
    {
     "name": "stdout",
     "output_type": "stream",
     "text": [
      "('Java', '2025-03-04', '부산IT', 500, 10)\n",
      "('Java', '2025-03-04', '부산IT', 500, 10)\n",
      "('Java', '2025-03-04', '부산IT', 500, 10)\n",
      "('Java', '2025-03-04', '부산IT', 500, 10)\n",
      "('Python', '2025-03-04', '부산IT', 500, 10)\n"
     ]
    }
   ],
   "source": [
    "# 전체 데이터 조회\n",
    "def select_all():\n",
    "    conn = sqlite3.connect('books.db')\n",
    "    cursor = conn.cursor()\n",
    "    sql = \"select * from book\"\n",
    "    cursor.execute(sql)\n",
    "    books = cursor.fetchall()       # 실행된 SQL 쿼리를 모두 가져오는 메소드\n",
    "    # 한 행의 데이터를 튜플로 반환하며, 전체 결과는 리스트로 저장\n",
    "    for book in books:\n",
    "        print(book)\n",
    "    conn.close()\n",
    "select_all()\n"
   ]
  },
  {
   "cell_type": "code",
   "execution_count": null,
   "metadata": {},
   "outputs": [
    {
     "name": "stdout",
     "output_type": "stream",
     "text": [
      "('Java', '2025-03-04', '부산IT', 500, 10)\n",
      "('Java', '2025-03-04', '부산IT', 500, 10)\n",
      "('Java', '2025-03-04', '부산IT', 500, 10)\n",
      "('Java', '2025-03-04', '부산IT', 500, 10)\n",
      "('Python', '2025-03-04', '부산IT', 500, 10)\n"
     ]
    }
   ],
   "source": [
    "# 단수행의 데이터 추가(? 활용)\n",
    "def insert_book2(data):\n",
    "    conn = sqlite3.connect('books.db')\n",
    "    cursor = conn.cursor()\n",
    "    sql = \"insert into book values (?, ?, ?, ?, ?)\"\n",
    "    cursor.execute(sql, data)\n",
    "    conn.commit()\n",
    "    conn.close()\n",
    "\n",
    "data = ('Python', '2025-03-04', '부산IT', 500, 10)\n",
    "insert_book2(data)\n",
    "select_all()"
   ]
  },
  {
   "cell_type": "code",
   "execution_count": null,
   "metadata": {},
   "outputs": [
    {
     "name": "stdout",
     "output_type": "stream",
     "text": [
      "('Java', '2025-03-04', '부산IT', 500, 10)\n",
      "('Java', '2025-03-04', '부산IT', 500, 10)\n",
      "('Java', '2025-03-04', '부산IT', 500, 10)\n",
      "('Java', '2025-03-04', '부산IT', 500, 10)\n",
      "('Python', '2025-03-04', '부산IT', 500, 10)\n",
      "('머신러닝', '2024-12-26', '부산IT', 500, 10)\n",
      "('IOT', '2025-01-04', '한빛', 400, 7)\n",
      "('React', '2025-02-28', '골든래빗', 450, 9)\n"
     ]
    }
   ],
   "source": [
    "# 복수행의 데이터 추가하기\n",
    "def many_insert_book(datas):\n",
    "    conn = sqlite3.connect('books.db')\n",
    "    cursor = conn.cursor()\n",
    "    sql = \"insert into book values (?, ?, ?, ?, ?)\"\n",
    "    # 반복문없이 executemany() 메소드를 사용하여 한번에 여러 행의 데이터를 추가 가능\n",
    "    cursor.executemany(sql, datas)\n",
    "    conn.commit()\n",
    "    conn.close()\n",
    "\n",
    "datas = [('머신러닝', '2024-12-26', '부산IT', 500, 10),\n",
    "      ('IOT', '2025-01-04', '한빛', 400, 7),\n",
    "      ('React', '2025-02-28', '골든래빗', 450, 9)]\n",
    "many_insert_book(datas)\n",
    "select_all()\n"
   ]
  },
  {
   "cell_type": "code",
   "execution_count": null,
   "metadata": {},
   "outputs": [
    {
     "name": "stdout",
     "output_type": "stream",
     "text": [
      "('Java', '2025-03-04', '부산IT', 500, 10)\n"
     ]
    }
   ],
   "source": [
    "# 쿼리 결과에서 1개의 데이터 출력\n",
    "def one_book():\n",
    "    conn = sqlite3.connect('books.db')\n",
    "    cursor = conn.cursor()\n",
    "    sql = \"select * from book\"\n",
    "    cursor.execute(sql)\n",
    "    book = cursor.fetchone()\n",
    "    print(book)\n",
    "    conn.close()\n",
    "one_book()\n"
   ]
  },
  {
   "cell_type": "code",
   "execution_count": null,
   "metadata": {},
   "outputs": [
    {
     "name": "stdout",
     "output_type": "stream",
     "text": [
      "[('Java', '2025-03-04', '부산IT', 500, 10), ('Java', '2025-03-04', '부산IT', 500, 10)]\n"
     ]
    }
   ],
   "source": [
    "# 쿼리 결과에서 여러개의 데이터 출력\n",
    "def some_book(number):\n",
    "    conn = sqlite3.connect('books.db')\n",
    "    cursor = conn.cursor()\n",
    "    sql = \"select * from book\"\n",
    "    cursor.execute(sql)\n",
    "    book = cursor.fetchmany(number)\n",
    "    print(book)\n",
    "    conn.close()\n",
    "some_book(2)"
   ]
  },
  {
   "cell_type": "code",
   "execution_count": null,
   "metadata": {},
   "outputs": [
    {
     "name": "stdout",
     "output_type": "stream",
     "text": [
      "('머신러닝', '2024-12-26', '부산IT', 500, 10)\n",
      "('Python', '2025-03-04', '부산IT', 500, 10)\n",
      "('Java', '2025-03-04', '부산IT', 500, 10)\n",
      "('Java', '2025-03-04', '부산IT', 500, 10)\n",
      "('Java', '2025-03-04', '부산IT', 500, 10)\n",
      "('Java', '2025-03-04', '부산IT', 500, 10)\n"
     ]
    }
   ],
   "source": [
    "# 데이터 조회 (where절 사용해보기)\n",
    "def search_book(page, recommend):\n",
    "    conn = sqlite3.connect('books.db')\n",
    "    cursor = conn.cursor()\n",
    "    sql = \"select * from book where page >= ? and recommend >= ? order by title desc\"\n",
    "    cursor.execute(sql, (page,recommend))\n",
    "    books = cursor.fetchall()\n",
    "    for book in books:\n",
    "        print(book)\n",
    "    conn.close()\n",
    "search_book(450, 10)"
   ]
  },
  {
   "cell_type": "code",
   "execution_count": 22,
   "metadata": {},
   "outputs": [
    {
     "name": "stdout",
     "output_type": "stream",
     "text": [
      "('Java', '2025-03-04', '부산IT', 300, 6)\n",
      "('Java', '2025-03-04', '부산IT', 300, 6)\n",
      "('Java', '2025-03-04', '부산IT', 300, 6)\n",
      "('Java', '2025-03-04', '부산IT', 300, 6)\n",
      "('Python', '2025-03-04', '부산IT', 500, 10)\n",
      "('머신러닝', '2024-12-26', '부산IT', 600, 12)\n",
      "('IOT', '2025-01-04', '한빛', 400, 7)\n",
      "('React', '2025-02-28', '골든래빗', 450, 9)\n"
     ]
    }
   ],
   "source": [
    "# 데이터 수정\n",
    "def update_book(data):\n",
    "    conn = sqlite3.connect('books.db')\n",
    "    cursor = conn.cursor()\n",
    "    sql = \"update book set page = ?, recommend = ? where title = ?\"\n",
    "    cursor.execute(sql, data)\n",
    "    conn.commit()\n",
    "    conn.close()\n",
    "data = (300, 6, 'Java')\n",
    "update_book(data)\n",
    "select_all()"
   ]
  },
  {
   "cell_type": "code",
   "execution_count": null,
   "metadata": {},
   "outputs": [
    {
     "name": "stdout",
     "output_type": "stream",
     "text": [
      "('Java', '2025-03-04', '부산IT', 300, 6)\n",
      "('Java', '2025-03-04', '부산IT', 300, 6)\n",
      "('Java', '2025-03-04', '부산IT', 300, 6)\n",
      "('Java', '2025-03-04', '부산IT', 300, 6)\n",
      "('Python', '2025-03-04', '부산IT', 550, 11)\n",
      "('머신러닝', '2024-12-26', '부산IT', 600, 12)\n",
      "('IOT', '2025-01-04', '한빛', 350, 6)\n",
      "('React', '2025-02-28', '골든래빗', 450, 9)\n"
     ]
    }
   ],
   "source": [
    "# 여러 데이터 수정\n",
    "def update_books(datas):\n",
    "    conn = sqlite3.connect('books.db')\n",
    "    cursor = conn.cursor()\n",
    "    sql = \"update book set page = ?, recommend = ? where title = ?\"\n",
    "    cursor.executemany(sql, datas)\n",
    "    conn.commit()\n",
    "    conn.close()    \n",
    "\n",
    "datas = [(550, 11, 'Python'), (350, 6, 'IOT')]\n",
    "update_books(datas)\n",
    "select_all()    \n"
   ]
  },
  {
   "cell_type": "code",
   "execution_count": 24,
   "metadata": {},
   "outputs": [
    {
     "name": "stdout",
     "output_type": "stream",
     "text": [
      "('Python', '2025-03-04', '부산IT', 550, 11)\n",
      "('머신러닝', '2024-12-26', '부산IT', 600, 12)\n",
      "('IOT', '2025-01-04', '한빛', 350, 6)\n",
      "('React', '2025-02-28', '골든래빗', 450, 9)\n"
     ]
    }
   ],
   "source": [
    "# 데이터 삭제\n",
    "def delete_book(data):\n",
    "    conn = sqlite3.connect('books.db')\n",
    "    cursor = conn.cursor()\n",
    "    sql = \"delete from book where title = ?\"\n",
    "    cursor.execute(sql, (data,))\n",
    "    conn.commit()\n",
    "    conn.close()\n",
    "delete_book('Java')\n",
    "select_all()"
   ]
  },
  {
   "cell_type": "code",
   "execution_count": 37,
   "metadata": {},
   "outputs": [
    {
     "name": "stdout",
     "output_type": "stream",
     "text": [
      "('Python', '2025-03-04', '부산IT', 550, 11)\n",
      "('머신러닝', '2024-12-26', '부산IT', 600, 12)\n"
     ]
    }
   ],
   "source": [
    "# 여러 데이터 삭제\n",
    "def delete_books(datas):\n",
    "    conn = sqlite3.connect('books.db')\n",
    "    cursor = conn.cursor()\n",
    "    sql = \"delete from book where title = ?\"\n",
    "    cursor.executemany(sql, datas)\n",
    "    conn.commit()\n",
    "    conn.close()\n",
    "\n",
    "datas = [('React',), ('IOT',)]\n",
    "delete_books(datas)\n",
    "select_all()\n"
   ]
  },
  {
   "cell_type": "markdown",
   "metadata": {},
   "source": [
    "<div style='font-size:20pt'>- 2.SQLite<div>"
   ]
  },
  {
   "cell_type": "code",
   "execution_count": null,
   "metadata": {},
   "outputs": [
    {
     "name": "stdout",
     "output_type": "stream",
     "text": [
      "Collecting pymysql\n",
      "  Downloading PyMySQL-1.1.1-py3-none-any.whl.metadata (4.4 kB)\n",
      "Downloading PyMySQL-1.1.1-py3-none-any.whl (44 kB)\n",
      "Installing collected packages: pymysql\n",
      "Successfully installed pymysql-1.1.1\n"
     ]
    }
   ],
   "source": [
    "# MySQL 라이브러리 설치\n",
    "! pip install pymysql"
   ]
  },
  {
   "cell_type": "code",
   "execution_count": null,
   "metadata": {},
   "outputs": [],
   "source": [
    "# MySQL 연동\n",
    "import pymysql"
   ]
  },
  {
   "cell_type": "code",
   "execution_count": 39,
   "metadata": {},
   "outputs": [],
   "source": [
    "# pymysql을 이용해 MySQL DB에 연결\n",
    "conn = pymysql.connect(\n",
    "    host='localhost',\n",
    "    user='root',\n",
    "    password='1234',\n",
    "    db='pydb',\n",
    "    charset='utf8')\n",
    "cursor = conn.cursor() # 커서 생성"
   ]
  },
  {
   "cell_type": "code",
   "execution_count": 41,
   "metadata": {},
   "outputs": [
    {
     "name": "stdout",
     "output_type": "stream",
     "text": [
      "<pymysql.connections.Connection object at 0x000001CE7D73FA40>\n"
     ]
    }
   ],
   "source": [
    "print(conn)"
   ]
  },
  {
   "cell_type": "code",
   "execution_count": 43,
   "metadata": {},
   "outputs": [
    {
     "name": "stdout",
     "output_type": "stream",
     "text": [
      "(1, 'Java', '한빛', 500, '박경미')\n",
      "(2, 'Python', '길벗', 300, '이준목')\n"
     ]
    }
   ],
   "source": [
    "# 데이터 조회(select)\n",
    "def select_all():\n",
    "    conn = pymysql.connect(\n",
    "        host='localhost',\n",
    "        user = 'root', \n",
    "        password = '1234',\n",
    "        db = 'pydb',\n",
    "        charset = 'utf8')\n",
    "    cursor = conn.cursor()\n",
    "    sql = \"select * from book\"\n",
    "    cursor.execute(sql)\n",
    "    books = cursor.fetchall()\n",
    "    for book in books:\n",
    "        print(book)\n",
    "    conn.close()\n",
    "select_all()\n"
   ]
  },
  {
   "cell_type": "code",
   "execution_count": 45,
   "metadata": {},
   "outputs": [
    {
     "name": "stdout",
     "output_type": "stream",
     "text": [
      "(1, 'Java', '한빛', 500, '박경미')\n",
      "(2, 'Python', '길벗', 300, '이준목')\n",
      "(3, 'PYthon', '한빛', 500, '홍길동')\n",
      "(4, 'IOT', '대장', 200, '김기영')\n"
     ]
    }
   ],
   "source": [
    "# 1개 데이터 입력\n",
    "def insert_data(data):\n",
    "    conn = pymysql.connect(\n",
    "        host='localhost',\n",
    "        user='root',\n",
    "        password='1234',\n",
    "        db='pydb',\n",
    "        charset='utf8')\n",
    "    cursor = conn.cursor()\n",
    "    # 변수형과 관계없이 %s로 처리\n",
    "    sql = \"insert into book(title, pub, pages, author) values (%s, %s, %s, %s)\"\n",
    "    cursor.execute(sql, data)\n",
    "    conn.commit()\n",
    "    conn.close()\n",
    "\n",
    "data = ('IOT', '대장', 200, '김기영')\n",
    "insert_data(data)\n",
    "select_all()"
   ]
  },
  {
   "cell_type": "code",
   "execution_count": 46,
   "metadata": {},
   "outputs": [
    {
     "name": "stdout",
     "output_type": "stream",
     "text": [
      "(1, 'Java', '한빛', 500, '박경미')\n",
      "(2, 'Python', '길벗', 300, '이준목')\n",
      "(3, 'PYthon', '한빛', 500, '홍길동')\n",
      "(4, 'IOT', '대장', 200, '김기영')\n",
      "(5, 'React', '한빛', 300, '유리')\n",
      "(6, 'Java', '부산IT', 350, '김철수')\n",
      "(7, 'Python', '부산IT', 400, '신짱구')\n"
     ]
    }
   ],
   "source": [
    "# 여러데이터 입력\n",
    "def insert_datas(datas):\n",
    "    conn = pymysql.connect(\n",
    "        host='localhost',\n",
    "        user='root',\n",
    "        password='1234',  \n",
    "        db='pydb',\n",
    "        charset='utf8')\n",
    "    cursor = conn.cursor()\n",
    "    sql = \"insert into book(title, pub, pages, author) values (%s, %s, %s, %s)\"\n",
    "    cursor.executemany(sql, datas)\n",
    "    conn.commit()\n",
    "    conn.close()\n",
    "\n",
    "data = [('React', '한빛', 300, '유리'),\n",
    "        ('Java', '부산IT', 350, '김철수'),\n",
    "        ('Python', '부산IT', 400, '신짱구')]\n",
    "insert_datas(data)\n",
    "select_all()    "
   ]
  },
  {
   "cell_type": "code",
   "execution_count": 48,
   "metadata": {},
   "outputs": [
    {
     "name": "stdout",
     "output_type": "stream",
     "text": [
      "(1, 'Java', '부산IT', 385, '철수')\n",
      "(2, 'Python', '길벗', 300, '이준목')\n",
      "(3, 'PYthon', '한빛', 500, '홍길동')\n",
      "(4, 'IOT', '대장', 200, '김기영')\n",
      "(5, 'React', '한빛', 300, '유리')\n",
      "(6, 'Java', '부산IT', 385, '철수')\n",
      "(7, 'Python', '부산IT', 400, '신짱구')\n"
     ]
    }
   ],
   "source": [
    "# 데이터 수정\n",
    "def update_book(data):\n",
    "    conn = pymysql.connect(\n",
    "        host='localhost',\n",
    "        user='root',\n",
    "        password='1234',\n",
    "        db='pydb',\n",
    "        charset='utf8')\n",
    "    cursor = conn.cursor()\n",
    "    sql = \"update book set pub = %s, pages = %s, author = %s where title = %s\"\n",
    "    cursor.execute(sql, data)\n",
    "    conn.commit()\n",
    "    conn.close()\n",
    "\n",
    "data = ('부산IT', 385, '철수', 'Java')\n",
    "update_book(data)\n",
    "select_all()"
   ]
  },
  {
   "cell_type": "code",
   "execution_count": 49,
   "metadata": {},
   "outputs": [
    {
     "name": "stdout",
     "output_type": "stream",
     "text": [
      "(1, 'Java', '부산IT', 385, '철수')\n",
      "(2, 'Python', '부산IT', 450, '짱구')\n",
      "(3, 'PYthon', '한빛', 500, '홍길동')\n",
      "(4, 'IOT', '메가스터디', 250, '맹구')\n",
      "(5, 'React', '한빛', 300, '유리')\n",
      "(6, 'Java', '부산IT', 385, '철수')\n",
      "(7, 'Python', '부산IT', 450, '짱구')\n"
     ]
    }
   ],
   "source": [
    "# 여러 데이터 수정\n",
    "def update_books(datas):\n",
    "    conn = pymysql.connect(\n",
    "        host='localhost',\n",
    "        user='root',\n",
    "        password='1234',\n",
    "        db='pydb',\n",
    "        charset='utf8')\n",
    "    cursor = conn.cursor()\n",
    "    sql = \"update book set pub = %s, pages = %s, author = %s where title = %s\"\n",
    "    cursor.executemany(sql, datas) \n",
    "    conn.commit()\n",
    "    conn.close()\n",
    "\n",
    "datas = [('메가스터디', 250, '맹구', 'IOT'),\n",
    "         ('부산IT', 450, '짱구', 'Python')]\n",
    "update_books(datas)\n",
    "select_all()"
   ]
  },
  {
   "cell_type": "code",
   "execution_count": 50,
   "metadata": {},
   "outputs": [
    {
     "name": "stdout",
     "output_type": "stream",
     "text": [
      "(2, 'Python', '부산IT', 450, '짱구')\n",
      "(3, 'PYthon', '한빛', 500, '홍길동')\n",
      "(4, 'IOT', '메가스터디', 250, '맹구')\n",
      "(5, 'React', '한빛', 300, '유리')\n",
      "(7, 'Python', '부산IT', 450, '짱구')\n"
     ]
    }
   ],
   "source": [
    "# 데이터 삭제\n",
    "def delete_book(data):\n",
    "    conn = pymysql.connect(\n",
    "        host='localhost',\n",
    "        user='root',\n",
    "        password='1234',\n",
    "        db='pydb',\n",
    "        charset='utf8')\n",
    "    cursor = conn.cursor()\n",
    "    sql = \"delete from book where title = %s\"\n",
    "    cursor.execute(sql, (data,))\n",
    "    conn.commit()\n",
    "    conn.close()\n",
    "\n",
    "delete_book('Java')\n",
    "select_all()\n"
   ]
  },
  {
   "cell_type": "code",
   "execution_count": null,
   "metadata": {},
   "outputs": [
    {
     "name": "stdout",
     "output_type": "stream",
     "text": [
      "(2, 'Python', '부산IT', 450, '짱구')\n",
      "(4, 'IOT', '메가스터디', 250, '맹구')\n",
      "(7, 'Python', '부산IT', 450, '짱구')\n"
     ]
    }
   ],
   "source": [
    "# 여러 데이터 삭제\n",
    "def delete_books(datas):\n",
    "    conn = pymysql.connect(\n",
    "        host='localhost',\n",
    "        user='root',\n",
    "        password='1234',\n",
    "        db='pydb',\n",
    "        charset='utf8')\n",
    "    cursor = conn.cursor()\n",
    "    sql = \"delete from book where title = %s\"\n",
    "    cursor.executemany(sql, datas)\n",
    "    conn.commit()\n",
    "    conn.close()\n",
    "\n",
    "datas = [('React',), \n",
    "         ('PYthon',)]\n",
    "delete_books(datas)\n",
    "select_all()"
   ]
  },
  {
   "cell_type": "markdown",
   "metadata": {},
   "source": [
    "<div style='font-size:20pt'>- 3.Oracle<div>"
   ]
  },
  {
   "cell_type": "markdown",
   "metadata": {},
   "source": [
    "-- 오라클은 설치할 때 VSCODE용 'Microsoft C++ Build Tools' 설치가 필요함."
   ]
  },
  {
   "cell_type": "code",
   "execution_count": 6,
   "metadata": {},
   "outputs": [
    {
     "name": "stdout",
     "output_type": "stream",
     "text": [
      "Collecting oracledb\n",
      "  Downloading oracledb-3.0.0-cp312-cp312-win_amd64.whl.metadata (5.6 kB)\n",
      "Requirement already satisfied: cryptography>=3.2.1 in c:\\users\\admin\\anaconda3\\lib\\site-packages (from oracledb) (43.0.0)\n",
      "Requirement already satisfied: cffi>=1.12 in c:\\users\\admin\\anaconda3\\lib\\site-packages (from cryptography>=3.2.1->oracledb) (1.17.1)\n",
      "Requirement already satisfied: pycparser in c:\\users\\admin\\anaconda3\\lib\\site-packages (from cffi>=1.12->cryptography>=3.2.1->oracledb) (2.21)\n",
      "Downloading oracledb-3.0.0-cp312-cp312-win_amd64.whl (2.1 MB)\n",
      "   ---------------------------------------- 0.0/2.1 MB ? eta -:--:--\n",
      "   ---------------------------------------- 2.1/2.1 MB 12.7 MB/s eta 0:00:00\n",
      "Installing collected packages: oracledb\n",
      "Successfully installed oracledb-3.0.0\n"
     ]
    }
   ],
   "source": [
    "# 라이브러리 설치\n",
    "! pip install oracledb"
   ]
  },
  {
   "cell_type": "code",
   "execution_count": 12,
   "metadata": {},
   "outputs": [
    {
     "name": "stdout",
     "output_type": "stream",
     "text": [
      "(7369, 'SMITH', 'CLERK', 7902, datetime.datetime(1980, 12, 17, 0, 0), 800.0, None, 20)\n",
      "(7499, 'ALLEN', 'SALESMAN', 7698, datetime.datetime(1981, 2, 20, 0, 0), 1600.0, 300.0, 30)\n",
      "(7521, 'WARD', 'SALESMAN', 7698, datetime.datetime(1981, 2, 22, 0, 0), 1250.0, 500.0, 30)\n",
      "(7566, 'JONES', 'MANAGER', 7839, datetime.datetime(1981, 4, 2, 0, 0), 2975.0, None, 20)\n",
      "(7654, 'MARTIN', 'SALESMAN', 7698, datetime.datetime(1981, 9, 28, 0, 0), 1250.0, 1400.0, 30)\n",
      "(7698, 'BLAKE', 'MANAGER', 7839, datetime.datetime(1981, 5, 1, 0, 0), 2850.0, None, 30)\n",
      "(7782, 'CLARK', 'MANAGER', 7839, datetime.datetime(1981, 6, 9, 0, 0), 2450.0, None, 10)\n",
      "(7839, 'KING', 'PRESIDENT', None, datetime.datetime(1981, 11, 17, 0, 0), 5000.0, None, 10)\n",
      "(7844, 'TURNER', 'SALESMAN', 7698, datetime.datetime(1981, 9, 8, 0, 0), 1500.0, 0.0, 30)\n",
      "(7900, 'JAMES', 'CLERK', 7698, datetime.datetime(1981, 12, 3, 0, 0), 950.0, None, 30)\n",
      "(7902, 'FORD', 'ANALYST', 7566, datetime.datetime(1981, 12, 3, 0, 0), 3000.0, None, 20)\n",
      "(7934, 'MILLER', 'CLERK', 7782, datetime.datetime(1982, 1, 23, 0, 0), 1300.0, None, 10)\n"
     ]
    }
   ],
   "source": [
    "# Oracle 연동\n",
    "# cx_Oracle 이 oracledb로 변경됨.\n",
    "import oracledb\n",
    "\n",
    "def read_data():\n",
    "    conn = oracledb.connect('scott/tiger@localhost:1521/xe')\n",
    "    cursor = conn.cursor()\n",
    "    sql = \"select * from emp\"\n",
    "    cursor.execute(sql) \n",
    "    rows = cursor.fetchall()\n",
    "    for row in rows:\n",
    "        print(row)\n",
    "    cursor.close()\n",
    "    conn.close()\n",
    "read_data()\n"
   ]
  },
  {
   "cell_type": "code",
   "execution_count": null,
   "metadata": {},
   "outputs": [],
   "source": [
    "# 추가, 수정, 삭제는 ppt 참고\n",
    "# %s 나 ? 를 사용하지 않고 :1, :2, :3 등으로 사용하는것 빼고는 동일함."
   ]
  }
 ],
 "metadata": {
  "kernelspec": {
   "display_name": "base",
   "language": "python",
   "name": "python3"
  },
  "language_info": {
   "codemirror_mode": {
    "name": "ipython",
    "version": 3
   },
   "file_extension": ".py",
   "mimetype": "text/x-python",
   "name": "python",
   "nbconvert_exporter": "python",
   "pygments_lexer": "ipython3",
   "version": "3.12.7"
  }
 },
 "nbformat": 4,
 "nbformat_minor": 2
}
