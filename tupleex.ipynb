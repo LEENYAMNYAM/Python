{
 "cells": [
  {
   "cell_type": "markdown",
   "metadata": {},
   "source": [
    "# 2.튜플(tuple)"
   ]
  },
  {
   "cell_type": "markdown",
   "metadata": {},
   "source": [
    "기본문법\n",
    "\n",
    "튜플명 = (요소, 요소, 요소, ...)\n",
    "\n",
    "- 한번 만들어지면 값을 바꿀수가 없음.\n",
    "- 값을 추가/변경/삭제(append / remove / del 등) 불가능\n",
    "- 인덱싱과 슬라이싱은 가능(값을 바꾸는것은 아니므로 가능)"
   ]
  },
  {
   "cell_type": "code",
   "execution_count": 1,
   "metadata": {},
   "outputs": [
    {
     "name": "stdout",
     "output_type": "stream",
     "text": [
      "()\n",
      "(1,)\n",
      "(1, 2, 3)\n",
      "(1, 2, 3, 4)\n",
      "(1, 2, 3, ('ab', 'cd'))\n"
     ]
    }
   ],
   "source": [
    "t1=()\n",
    "t2=(1,)\n",
    "t3=(1,2,3)\n",
    "t4=1,2,3,4\n",
    "t5=(1,2,3,('ab', 'cd'))\n",
    "print(t1)\n",
    "print(t2)\n",
    "print(t3)\n",
    "print(t4)\n",
    "print(t5)\n"
   ]
  },
  {
   "cell_type": "code",
   "execution_count": 2,
   "metadata": {},
   "outputs": [
    {
     "name": "stdout",
     "output_type": "stream",
     "text": [
      "1 ('ab', 'cd')\n"
     ]
    }
   ],
   "source": [
    "print(t5[0], t5[-1])"
   ]
  },
  {
   "cell_type": "code",
   "execution_count": 5,
   "metadata": {},
   "outputs": [
    {
     "ename": "TypeError",
     "evalue": "'tuple' object does not support item assignment",
     "output_type": "error",
     "traceback": [
      "\u001b[1;31m---------------------------------------------------------------------------\u001b[0m",
      "\u001b[1;31mTypeError\u001b[0m                                 Traceback (most recent call last)",
      "Cell \u001b[1;32mIn[5], line 2\u001b[0m\n\u001b[0;32m      1\u001b[0m \u001b[38;5;66;03m# 값 수정이 불가능\u001b[39;00m\n\u001b[1;32m----> 2\u001b[0m t5[\u001b[38;5;241m0\u001b[39m] \u001b[38;5;241m=\u001b[39m\u001b[38;5;241m100\u001b[39m\n\u001b[0;32m      4\u001b[0m \u001b[38;5;66;03m# 값 추가도 불가능\u001b[39;00m\n\u001b[0;32m      5\u001b[0m t1\u001b[38;5;241m.\u001b[39mappend(\u001b[38;5;241m10\u001b[39m)\n",
      "\u001b[1;31mTypeError\u001b[0m: 'tuple' object does not support item assignment"
     ]
    }
   ],
   "source": [
    "# 값 수정이 불가능\n",
    "t5[0] =100\n",
    "\n",
    "# 값 추가도 불가능\n",
    "t1.append(10)\n",
    "\n",
    "# 값 삭제도 불가능\n",
    "t1.remove(1)\n",
    "del t5[1]"
   ]
  },
  {
   "cell_type": "code",
   "execution_count": null,
   "metadata": {},
   "outputs": [
    {
     "name": "stdout",
     "output_type": "stream",
     "text": [
      "(1, 2, 3, 1, 2, 3, ('ab', 'cd'))\n",
      "1 2 ('ab', 'cd')\n"
     ]
    }
   ],
   "source": [
    "# 인덱싱\n",
    "t= t3+t5\n",
    "print(t)\n",
    "print(t[0], t[1], t[-1])"
   ]
  },
  {
   "cell_type": "code",
   "execution_count": null,
   "metadata": {},
   "outputs": [
    {
     "name": "stdout",
     "output_type": "stream",
     "text": [
      "(2, 3, 1, 2)\n",
      "(('ab', 'cd'), 3, 2, 1, 3, 2, 1)\n",
      "(1, 3, 2, ('ab', 'cd'))\n"
     ]
    }
   ],
   "source": [
    "# 슬라이싱\n",
    "print(t[1:5:1])\n",
    "print(t[::-1])\n",
    "print(t[::2])"
   ]
  },
  {
   "cell_type": "code",
   "execution_count": null,
   "metadata": {},
   "outputs": [
    {
     "name": "stdout",
     "output_type": "stream",
     "text": [
      "(1, 2, 3, ('ab', 'cd'), 1, 2, 3, ('ab', 'cd'))\n",
      "4\n"
     ]
    }
   ],
   "source": [
    "# 곱하기 연산 및 len() 가능\n",
    "print(t5*2)\n",
    "print(len(t5))"
   ]
  },
  {
   "cell_type": "code",
   "execution_count": 9,
   "metadata": {},
   "outputs": [
    {
     "data": {
      "text/plain": [
       "2"
      ]
     },
     "execution_count": 9,
     "metadata": {},
     "output_type": "execute_result"
    }
   ],
   "source": [
    "# .count() / .index() 가능\n",
    "t.count(1)\n"
   ]
  }
 ],
 "metadata": {
  "kernelspec": {
   "display_name": "base",
   "language": "python",
   "name": "python3"
  },
  "language_info": {
   "codemirror_mode": {
    "name": "ipython",
    "version": 3
   },
   "file_extension": ".py",
   "mimetype": "text/x-python",
   "name": "python",
   "nbconvert_exporter": "python",
   "pygments_lexer": "ipython3",
   "version": "3.12.7"
  }
 },
 "nbformat": 4,
 "nbformat_minor": 2
}
