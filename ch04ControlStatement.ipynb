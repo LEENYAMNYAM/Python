{
 "cells": [
  {
   "cell_type": "markdown",
   "metadata": {},
   "source": [
    "# 4장 제어문"
   ]
  },
  {
   "cell_type": "markdown",
   "metadata": {},
   "source": [
    "- 입출력 함수"
   ]
  },
  {
   "cell_type": "markdown",
   "metadata": {},
   "source": [
    "1. input() 함수"
   ]
  },
  {
   "cell_type": "code",
   "execution_count": null,
   "metadata": {},
   "outputs": [],
   "source": [
    "print(\"이름을 입력하세요\")\n",
    "name = input()\n",
    "print(name)\n"
   ]
  },
  {
   "cell_type": "code",
   "execution_count": null,
   "metadata": {},
   "outputs": [],
   "source": [
    "# input은 항상 문자열로 입력받기때문에 연산을 하려면 형변환이 필요함\n",
    "num1 = int(input(\"숫자1 입력\"))\n",
    "op = input(\"연산자 입력\")\n",
    "num2 = int(input(\"숫자2 입력\"))\n",
    "\n",
    "print (num1, op, num2, '=', num1 + num2)"
   ]
  },
  {
   "cell_type": "markdown",
   "metadata": {},
   "source": [
    "2. print() 함수"
   ]
  },
  {
   "cell_type": "code",
   "execution_count": null,
   "metadata": {},
   "outputs": [],
   "source": [
    "name = \"abcd\"\n",
    "age = 20\n",
    "print(name)\n",
    "print(age)"
   ]
  },
  {
   "cell_type": "code",
   "execution_count": null,
   "metadata": {},
   "outputs": [],
   "source": [
    "# print 후 줄바꿈을 안하고 싶다면 ,end=\" \"를 추가하면 됨.\n",
    "kor = 85\n",
    "eng = 80\n",
    "math = 80\n",
    "print(kor, eng, math, end=\" \")\n",
    "tot = kor + eng + math\n",
    "print(tot, end = \" \")\n",
    "avg = tot/3\n",
    "print(f'{avg:.2f}')"
   ]
  },
  {
   "cell_type": "markdown",
   "metadata": {},
   "source": [
    "<실습문제>\n",
    "화씨온도 변환기"
   ]
  },
  {
   "cell_type": "code",
   "execution_count": null,
   "metadata": {},
   "outputs": [],
   "source": [
    "print(\"섭씨온도 입력 :>>\", end = \" \")\n",
    "cTemp = input()\n",
    "fTemp = float(cTemp)*1.8 + 32\n",
    "\n",
    "print(\"섭씨온도 : \" + cTemp + \"℃\")\n",
    "print(f\"화씨온도 : {fTemp : 5.2f} ℉\")"
   ]
  },
  {
   "cell_type": "markdown",
   "metadata": {},
   "source": [
    "- 조건문"
   ]
  },
  {
   "cell_type": "markdown",
   "metadata": {},
   "source": [
    "1. if문"
   ]
  },
  {
   "cell_type": "markdown",
   "metadata": {},
   "source": [
    "-- 들여쓰기 맞춰줘야함."
   ]
  },
  {
   "cell_type": "markdown",
   "metadata": {},
   "source": [
    "<기본 문법>\n",
    "if 조건 :\n",
    "    수행문1\n",
    "    수행문2\n",
    "elif 조건 : \n",
    "    수행문1\n",
    "    수행문2\n",
    "else :\n",
    "    수행문1\n",
    "    수행문2"
   ]
  },
  {
   "cell_type": "code",
   "execution_count": null,
   "metadata": {},
   "outputs": [],
   "source": [
    "money = 1000\n",
    "print(\"현재금액 : \" + str(money))\n",
    "if money > 5000:\n",
    "    print(\"택시를 탄다\")\n",
    "\n",
    "else:\n",
    "    print(\"걸어서 간다\")\n",
    "print(\"end\")\n",
    "\n",
    "money = 10000\n",
    "print(\"현재금액 : \" + str(money))\n",
    "if money > 5000:\n",
    "    print(\"택시를 탄다\")\n",
    "else:\n",
    "    print(\"걸어서 간다\")    \n",
    "print(\"end\")"
   ]
  },
  {
   "cell_type": "code",
   "execution_count": null,
   "metadata": {},
   "outputs": [],
   "source": [
    "score = int(input(\"점수 입력\"))\n",
    "if score >= 90 :\n",
    "    print('A학점')\n",
    "elif score >=80 :\n",
    "    print('B학점')\n",
    "elif score >=70 :\n",
    "    print('C학점')\n",
    "elif score >=60 :\n",
    "    print('D학점')\n",
    "else :\n",
    "    print('F학점')"
   ]
  },
  {
   "cell_type": "markdown",
   "metadata": {},
   "source": [
    "<연습문제>  \n",
    "> money가 5000 이상이면 택시를 타고 가라  \n",
    "> money가 2000~4999이면 버스를 타라고 가라  \n",
    "> 그렇지 않으면 걸어서 가라."
   ]
  },
  {
   "cell_type": "code",
   "execution_count": null,
   "metadata": {},
   "outputs": [],
   "source": [
    "money = int(input(\"현재 금액 입력\"))\n",
    "if money>=5000 :\n",
    "    print(\"TAXI 플랙스 ㄱㄱ\")\n",
    "elif money>=2000 : \n",
    "    print('거지는 버스 타자')\n",
    "else :\n",
    "    print('알거지는 걸어가야지')"
   ]
  },
  {
   "cell_type": "code",
   "execution_count": null,
   "metadata": {},
   "outputs": [],
   "source": [
    "score1 = int(input(\"점수1 입력\"))\n",
    "score2 = int(input(\"점수2 입력\"))\n",
    "\n",
    "if score1 >=60 and score2 >=60:\n",
    "    print(\"합격\")\n",
    "else :\n",
    "    print(\"불합격\")"
   ]
  },
  {
   "cell_type": "code",
   "execution_count": null,
   "metadata": {},
   "outputs": [],
   "source": [
    "score1 = int(input(\"점수1 입력\"))\n",
    "score2 = int(input(\"점수2 입력\"))\n",
    "\n",
    "if score1 <60 or score2 <60:\n",
    "    print(\"불합격\")\n",
    "else :\n",
    "    print(\"합격\")"
   ]
  },
  {
   "cell_type": "markdown",
   "metadata": {},
   "source": [
    "<연습문제>   \n",
    "> 점수 2개를 입력받아서 평균이 70점 이상,  \n",
    "> 각 과목은 60점 이상이면 합격이된다.   \n",
    "> 합격자들에 한해서 등급이 주어짐  \n",
    "> 평균이 90점 이상이면 1등급  \n",
    "> 평균이 80점 이상이면 2등급  \n",
    "> 평균이 70점 이상이면 3등급  "
   ]
  },
  {
   "cell_type": "code",
   "execution_count": null,
   "metadata": {},
   "outputs": [],
   "source": [
    "score1 = int(input(\"점수1 입력\"))\n",
    "score2 = int(input(\"점수2 입력\"))\n",
    "\n",
    "avg = float(score1 + score2) / 2\n",
    "\n",
    "if score1 >=60 and score2 >=60 and avg>=70 :\n",
    "    print('합격', end=\" \")\n",
    "    if avg >=90 :\n",
    "        print(\"1등급\")\n",
    "    elif avg >=80 :\n",
    "        print(\"2등급\")\n",
    "    else :\n",
    "        print(\"3등급\")    \n",
    "else :\n",
    "    print(\"불합격\")"
   ]
  },
  {
   "cell_type": "markdown",
   "metadata": {},
   "source": [
    "-- 파이썬의 조건부 표현식(conditional expression)"
   ]
  },
  {
   "cell_type": "code",
   "execution_count": null,
   "metadata": {},
   "outputs": [],
   "source": [
    "score =55\n",
    "message = \"\"\n",
    "if score >=60:\n",
    "    message = 'success'\n",
    "else:\n",
    "    message = 'failure'\n",
    "print(message)"
   ]
  },
  {
   "cell_type": "code",
   "execution_count": null,
   "metadata": {},
   "outputs": [],
   "source": [
    "# 위의 코드를 조건부 표현식으로 나타내면\n",
    "message = \"success\" if score>=60 else \"failure\"\n",
    "\n",
    "print(message)"
   ]
  },
  {
   "cell_type": "markdown",
   "metadata": {},
   "source": [
    "<연습문제>   \n",
    "> 나이는 (2025 - 태어난 연도 +1) 로 계산   \n",
    "> 26세 이하 20세 이상이면 '대학생'    \n",
    "> 20세 미만 17세 이상이면 '고등학생'   \n",
    "> 17세 미만 14세 이상이면 '중학생'  \n",
    "> 14세 미만 8세 이상이면 '초등학생'  \n",
    "> 그 외의 경우는 '학생이 아닙니다' 출력\n",
    "\n",
    "<출력결과>\n",
    "```\n",
    "당신이 태어난 연도를 입력하세요.\n",
    "1982  \n",
    "학생이 아닙니다.\n",
    "```"
   ]
  },
  {
   "cell_type": "code",
   "execution_count": null,
   "metadata": {},
   "outputs": [],
   "source": [
    "print(\"당신이 태어난 연도를 입력하세요.\")\n",
    "birthYear = int(input(\"태어난 연도 입력\"))\n",
    "age = 2025 - birthYear +1\n",
    "\n",
    "if 20 <= age <= 26 :\n",
    "    print(\"대학생\")\n",
    "elif 17 <= age < 20 :\n",
    "    print(\"고등학생\")\n",
    "elif 14 <= age < 17 :\n",
    "    print(\"중학생\")\n",
    "elif 8 <= age <14 :\n",
    "    print(\"초등학생\")\n",
    "else :\n",
    "    print(age)\n",
    "    print(\"학생이 아닙니다.\") "
   ]
  },
  {
   "cell_type": "markdown",
   "metadata": {},
   "source": [
    "- 반복문"
   ]
  },
  {
   "cell_type": "markdown",
   "metadata": {},
   "source": [
    "1. while문"
   ]
  },
  {
   "cell_type": "markdown",
   "metadata": {},
   "source": [
    "-- 기본문법구조"
   ]
  },
  {
   "cell_type": "code",
   "execution_count": null,
   "metadata": {},
   "outputs": [],
   "source": [
    "i=1\n",
    "sum=0\n",
    "while i <=10:\n",
    "    sum+=i\n",
    "    print(i, sum)\n",
    "    i+=1"
   ]
  },
  {
   "cell_type": "code",
   "execution_count": null,
   "metadata": {},
   "outputs": [],
   "source": [
    "treeHit = 0\n",
    "while treeHit <10 :\n",
    "    treeHit = treeHit + 1\n",
    "    print(\"나무를 %d번 찍었습니다.\" %treeHit)\n",
    "    if treeHit == 10:\n",
    "        print(\"나무가 넘어갑니다.\")"
   ]
  },
  {
   "cell_type": "code",
   "execution_count": null,
   "metadata": {},
   "outputs": [],
   "source": [
    "list1 = []\n",
    "flag = False\n",
    "\n",
    "while True:\n",
    "    num = int(input(\"1.add, 2.del, 3.list, 4.quit\"))\n",
    "\n",
    "    if num == 1 :\n",
    "        data = input(\"데이터 입력\")\n",
    "        list1.append(data)\n",
    "    elif num == 2:\n",
    "        index = int(input(\"삭제할 인덱스 입력\"))\n",
    "        del list1[index]\n",
    "    elif num == 3:\n",
    "        print(list1)\n",
    "    elif num == 4:\n",
    "        break\n",
    "    else:\n",
    "        print(\"입력오류\")\n",
    "print(\"END\")"
   ]
  },
  {
   "cell_type": "code",
   "execution_count": null,
   "metadata": {},
   "outputs": [],
   "source": [
    "a = 0\n",
    "while a<10:\n",
    "    a +=1\n",
    "    if a%2 == 0 : continue\n",
    "    print(a)"
   ]
  },
  {
   "cell_type": "code",
   "execution_count": null,
   "metadata": {},
   "outputs": [],
   "source": [
    "# 무한루프 : 반복문이 무한대로 반복되는 상태\n",
    "while True:\n",
    "    print(\"abc\")"
   ]
  },
  {
   "cell_type": "code",
   "execution_count": 56,
   "metadata": {},
   "outputs": [
    {
     "name": "stdout",
     "output_type": "stream",
     "text": [
      "'A'의 아스키 코드 값은 65입니다.\n",
      "아스키 코드 값 65는 문자 'A'입니다.\n"
     ]
    }
   ],
   "source": [
    "# ASKII코드 출력방법\n",
    "char = 'A'\n",
    "ascii_value = ord(char)\n",
    "print(f\"'{char}'의 아스키 코드 값은 {ascii_value}입니다.\")\n",
    "\n",
    "ascii_value = 65\n",
    "char = chr(ascii_value)\n",
    "print(f\"아스키 코드 값 {ascii_value}는 문자 '{char}'입니다.\")"
   ]
  },
  {
   "cell_type": "markdown",
   "metadata": {},
   "source": [
    "2. for문"
   ]
  },
  {
   "cell_type": "markdown",
   "metadata": {},
   "source": [
    "-- in range를 이용한 기본문법구조"
   ]
  },
  {
   "cell_type": "code",
   "execution_count": 4,
   "metadata": {},
   "outputs": [
    {
     "name": "stdout",
     "output_type": "stream",
     "text": [
      "1\n",
      "3\n",
      "5\n",
      "7\n",
      "9\n"
     ]
    }
   ],
   "source": [
    "# for i in range(start value, stop value, step value)\n",
    "for i in range(1,10,2):\n",
    "    print(i)"
   ]
  },
  {
   "cell_type": "code",
   "execution_count": null,
   "metadata": {},
   "outputs": [
    {
     "name": "stdout",
     "output_type": "stream",
     "text": [
      "1\n",
      "2\n",
      "3\n",
      "4\n",
      "5\n",
      "6\n",
      "7\n",
      "8\n",
      "9\n"
     ]
    }
   ],
   "source": [
    "# 마지막 step값을 생략하면 1로 인식함\n",
    "for i in range(1, 10):\n",
    "    print(i)"
   ]
  },
  {
   "cell_type": "code",
   "execution_count": null,
   "metadata": {},
   "outputs": [
    {
     "name": "stdout",
     "output_type": "stream",
     "text": [
      "0\n",
      "1\n",
      "2\n",
      "3\n",
      "4\n",
      "5\n",
      "6\n",
      "7\n",
      "8\n",
      "9\n"
     ]
    }
   ],
   "source": [
    "# start 값을 생략하면 0부터 시작(참고로 stop값과 step값 두개만 입력할 수는 없음.)\n",
    "for i in range(10):\n",
    "    print(i)"
   ]
  },
  {
   "cell_type": "code",
   "execution_count": 5,
   "metadata": {},
   "outputs": [
    {
     "name": "stdout",
     "output_type": "stream",
     "text": [
      "10\n",
      "9\n",
      "8\n",
      "7\n",
      "6\n",
      "5\n",
      "4\n",
      "3\n",
      "2\n",
      "1\n"
     ]
    }
   ],
   "source": [
    "for i in range(10, 0, -1):\n",
    "    print(i)"
   ]
  },
  {
   "cell_type": "markdown",
   "metadata": {},
   "source": [
    "-- collection (list / tuple / dictionary / set 등) 을 이용한 기본문법구조"
   ]
  },
  {
   "cell_type": "code",
   "execution_count": 6,
   "metadata": {},
   "outputs": [
    {
     "name": "stdout",
     "output_type": "stream",
     "text": [
      "10\n",
      "20\n",
      "3\n",
      "4\n",
      "5\n"
     ]
    }
   ],
   "source": [
    "a = [10, 20, 3, 4, 5]\n",
    "for i in a :\n",
    "    print(i)"
   ]
  },
  {
   "cell_type": "code",
   "execution_count": 7,
   "metadata": {},
   "outputs": [
    {
     "name": "stdout",
     "output_type": "stream",
     "text": [
      "10\n",
      "20\n",
      "30\n",
      "40\n",
      "50\n"
     ]
    }
   ],
   "source": [
    "t = (10,20,30,40,50)\n",
    "for i in t :\n",
    "    print(i)"
   ]
  },
  {
   "cell_type": "code",
   "execution_count": 9,
   "metadata": {},
   "outputs": [
    {
     "name": "stdout",
     "output_type": "stream",
     "text": [
      "짱구\n",
      "철수\n",
      "유리\n",
      "('짱구', 100)\n",
      "짱구 100\n",
      "('철수', 85)\n",
      "철수 85\n",
      "('유리', 90)\n",
      "유리 90\n"
     ]
    }
   ],
   "source": [
    "# 딕셔너리의 키 값만 이용하려면\n",
    "dict1 = {'짱구' : 100, '철수' : 85, '유리' : 90}\n",
    "for i in dict1:\n",
    "    print(i)\n",
    "\n",
    "# 딕셔너리의 키값과 value값을 모두 이용하려면\n",
    "for i in dict1.items():\n",
    "    print(i)\n",
    "    # 아래와 같이 활용도 가능\n",
    "    k,v=i               \n",
    "    print(k,v)    "
   ]
  },
  {
   "cell_type": "code",
   "execution_count": null,
   "metadata": {},
   "outputs": [],
   "source": [
    "# set을 이용하면\n",
    "s1 ={1,4,5}\n",
    "for i in s1:\n",
    "    print(i)"
   ]
  },
  {
   "cell_type": "code",
   "execution_count": 10,
   "metadata": {},
   "outputs": [
    {
     "name": "stdout",
     "output_type": "stream",
     "text": [
      "1 2 3 \n",
      "10 20 30 \n",
      "100 200 300 \n"
     ]
    }
   ],
   "source": [
    "# 이차원 배열형태 활용      ex) a[3][3]\n",
    "a=[[1,2,3], [10,20,30],[100,200,300]]\n",
    "\n",
    "for i in a:\n",
    "    for j in i:\n",
    "        print(j, end=\" \")\n",
    "    print()\n"
   ]
  },
  {
   "cell_type": "markdown",
   "metadata": {},
   "source": [
    "<실습문제>  \n",
    "> 5명의 학생이 시험을 보았는데   \n",
    "> 시험 점수가 60점 이상이면 합격,   \n",
    "> 그렇지 않으면 불합격을 출력하는 for문 작성"
   ]
  },
  {
   "cell_type": "code",
   "execution_count": 18,
   "metadata": {},
   "outputs": [
    {
     "name": "stdout",
     "output_type": "stream",
     "text": [
      "1번 학생은 합격입니다.\n",
      " 2 번 학생은 불합격입니다.\n",
      "3번 학생은 합격입니다.\n",
      " 4 번 학생은 불합격입니다.\n",
      "5번 학생은 합격입니다.\n"
     ]
    }
   ],
   "source": [
    "marks = [90,25,67,45,80]\n",
    "number = 0\n",
    "for mark in marks:\n",
    "    number = number + 1\n",
    "    if mark >= 60:\n",
    "        print(\"%d번 학생은 합격입니다.\" % number)\n",
    "    else:\n",
    "        print(f\"{number: ^3}번 학생은 불합격입니다.\")"
   ]
  },
  {
   "cell_type": "code",
   "execution_count": null,
   "metadata": {},
   "outputs": [
    {
     "name": "stdout",
     "output_type": "stream",
     "text": [
      "[[49, 80, 20, 100, 80], [43, 60, 85, 30, 90], [49, 82, 48, 50, 100]]\n",
      "49 80 20 100 80 329 65.8\n",
      "43 60 85 30 90 308 61.6\n",
      "49 82 48 50 100 329 65.8\n",
      "[47.0, 74.0, 51.0, 60.0, 90.0]\n"
     ]
    }
   ],
   "source": [
    "kor = [49,80,20,100,80]\n",
    "math = [43,60,85,30,90]\n",
    "eng = [49,82,48,50,100]\n",
    "scores = [kor, math, eng]\n",
    "print(scores)\n",
    "\n",
    "# 과목별 합계 및 평균 출력\n",
    "for i in scores:\n",
    "    sum = 0\n",
    "    for j in i:\n",
    "        sum += j\n",
    "        print(j, end=\" \")\n",
    "    avg = sum / len(i)\n",
    "    print(sum, avg)\n",
    "\n",
    "# 학생별 합계 및 평균 출력\n",
    "avg = [0.0,0.0,0.0,0.0,0.0]\n",
    "    # 각 학생의 3과목의 점수 합계를 구하는 이중 for문\n",
    "for i in range(len(scores)):                    # len(scores) : scores의 길이(지금은 길이가 3임) 즉, i 는 0부터2까지 3번 반복됨\n",
    "    for j in range(len(scores[i])):             # len(scores[i]) : kor, math, eng가 모두 5개씩이므로 j는 0부터 4까지 5번 반복됨\n",
    "        avg[j]+=scores[i][j]                    # scores[i][j]는 위에 설명에 의해서 배열의 1행1열의 49점 부터 3행5열 100점까지 읽어옴. \n",
    "                                                # 즉, 위 식은 kor, math, eng의 각 열의 값(1열이면 49점, 43점, 49점)을 더해서 avg 배열에 값을 입력하는겁니다.\n",
    "    \n",
    "    # 합계를 3으로 나눠서 평균을 구하는 for문\n",
    "# for i in range(len(avg)):\n",
    "#     avg[i]= avg[i]/3\n",
    "# print(avg)    \n",
    "\n",
    "    # 합계에서 평균을 구하는 더 쉬운 방법\n",
    "result = [i/3 for i in avg]\n",
    "print(result)\n",
    "\n"
   ]
  },
  {
   "cell_type": "markdown",
   "metadata": {},
   "source": [
    "-- 리스트 컴프리헨션(list comprehension)을 사용한 for문  \n",
    "즉, 리스트 안에서 for문 포함하여 사용하기(식이 간결해져서 많이 씀) "
   ]
  },
  {
   "cell_type": "markdown",
   "metadata": {},
   "source": [
    "리스트 컴프리헨션 문법 구조  \n",
    "    - for문 과 if문을 함께 사용하는 방법 1,2  \n",
    "`[표현할식 for 항목 in 반복_가능_객체 if 조건문]`  \n",
    "`[표현할식 if 변수 else 표현식 for 변수 in collection]`  "
   ]
  },
  {
   "cell_type": "code",
   "execution_count": null,
   "metadata": {},
   "outputs": [
    {
     "name": "stdout",
     "output_type": "stream",
     "text": [
      "[3, 6, 9, 12, 15]\n"
     ]
    }
   ],
   "source": [
    "a= [1,2,3,4,5]\n",
    "result =[]\n",
    "for i in a:\n",
    "    result.append(i*3)\n",
    "print(result)\n",
    "\n",
    "# 이방법을 위의 코드에 평균을 구할때 활용했음."
   ]
  },
  {
   "cell_type": "code",
   "execution_count": 40,
   "metadata": {},
   "outputs": [
    {
     "data": {
      "text/plain": [
       "[6, 12]"
      ]
     },
     "execution_count": 40,
     "metadata": {},
     "output_type": "execute_result"
    }
   ],
   "source": [
    "# 짝수값들만 3을 곱하여 출력하기\n",
    "result = [i*3 for i in a if i%2==0]\n",
    "result"
   ]
  },
  {
   "cell_type": "code",
   "execution_count": 39,
   "metadata": {},
   "outputs": [
    {
     "data": {
      "text/plain": [
       "[1, 6, 3, 12, 5]"
      ]
     },
     "execution_count": 39,
     "metadata": {},
     "output_type": "execute_result"
    }
   ],
   "source": [
    "#짝수일때는 3을 곱하고 홀수일때는 그대로 두기\n",
    "result=[]\n",
    "for i in a:\n",
    "    if i%2 ==0:\n",
    "        result.append(i*3)\n",
    "    else:\n",
    "        result.append(i)\n",
    "result"
   ]
  },
  {
   "cell_type": "markdown",
   "metadata": {},
   "source": [
    "<실습예제>\n",
    "> 음료 자판기 만들기  \n",
    "> [조건]  \n",
    "> 1. 자판기는 반복 동작한다.(while)  \n",
    "> 2. 오렌지주스, 커피, 콜라를 각각 100원, 200원, 300원에 판매한다. (if ~ elif ~else)  \n",
    "> 3. 구매자에게 동전 액수와 주문번호(1. 오렌지주스, 2. 커피,  3. 콜라)를 입력받는다.  \n",
    "> 4. 입력 받은 액수보다 선택메뉴의 가격이 비싸면 '잔액이부족합니다' 라고   \n",
    ">    메시지를 출력하고 처음부터 다시 입력을 받습니다.  \n",
    "> 5. 자판기는 주문과 동시에 잔액을 알려 줌  "
   ]
  },
  {
   "cell_type": "code",
   "execution_count": 71,
   "metadata": {},
   "outputs": [
    {
     "name": "stdout",
     "output_type": "stream",
     "text": [
      "금액을 투입하세요.\n",
      "500원을 투입하셨습니다.\n",
      "======== 음료 자판기 ==========\n",
      "오렌지주스 | 커피 | 콜라 | 종료\n",
      "100원     | 200원| 300원| \n",
      "==============================\n",
      "선택하실 음료의 이름을 입력해 주세요.\n",
      "콜라를 주문하셨습니다. 주문 후 잔액 :200\n",
      "======== 음료 자판기 ==========\n",
      "오렌지주스 | 커피 | 콜라 | 종료\n",
      "100원     | 200원| 300원| \n",
      "==============================\n",
      "선택하실 음료의 이름을 입력해 주세요.\n",
      "200원을 반환합니다.\n",
      "판매 종료\n"
     ]
    }
   ],
   "source": [
    "\n",
    "print(\"금액을 투입하세요.\")\n",
    "balance = int(input(\"투입금액입력 : \"))\n",
    "print(str(balance) + \"원을 투입하셨습니다.\")\n",
    "\n",
    "while True:\n",
    "    if balance < 100 :\n",
    "        print(\"잔액이 부족합니다. 현재 잔액 : \" + str(balance))\n",
    "        break\n",
    "\n",
    "    print(\"======== 음료 자판기 ==========\")\n",
    "    print(\"오렌지주스 | 커피 | 콜라 | 종료\")\n",
    "    print(\"100원     | 200원| 300원| \")\n",
    "    print(\"==============================\")\n",
    "\n",
    "    print(\"선택하실 음료의 이름을 입력해 주세요.\")\n",
    "    select = input(\"음료입력 : \")\n",
    "\n",
    "    price = {\"오렌지주스\":100, \"커피\":200, \"콜라\":300}\n",
    "\n",
    "    if select == '종료':\n",
    "        print(str(balance) + \"원을 반환합니다.\")\n",
    "        break\n",
    "    elif  select not in price:\n",
    "        print(\"잘못입력하셨습니다.  현재 잔액 :\" + str(balance))\n",
    "        continue\n",
    "\n",
    "    if balance < price[select] :\n",
    "        print(\"잔액이 부족합니다.\")\n",
    "    else : \n",
    "        balance -= price[select]\n",
    "        print( select + \"를 주문하셨습니다. 주문 후 잔액 :\" + str(balance))\n",
    "        \n",
    "print(\"판매 종료\")\n"
   ]
  },
  {
   "cell_type": "markdown",
   "metadata": {},
   "source": [
    "- Collection 모듈"
   ]
  },
  {
   "cell_type": "markdown",
   "metadata": {},
   "source": [
    "-- OrderedDict 모듈 : 순서를 가지는 딕셔너리 객체"
   ]
  },
  {
   "cell_type": "code",
   "execution_count": 52,
   "metadata": {},
   "outputs": [
    {
     "name": "stdout",
     "output_type": "stream",
     "text": [
      "x 100\n",
      "l 500\n",
      "y 200\n",
      "z 300\n",
      "l 500\n",
      "x 100\n",
      "y 200\n",
      "z 300\n",
      "x 100\n",
      "y 200\n",
      "z 300\n",
      "l 500\n"
     ]
    }
   ],
   "source": [
    "# 순서화된 dict을 만드는 방법\n",
    "    # 그냥dictionary는 순서가 없음.\n",
    "d= dict()\n",
    "d['x'] = 100\n",
    "d['l'] = 500\n",
    "d['y'] = 200\n",
    "d['z'] = 300\n",
    "\n",
    "for k, v in d.items():\n",
    "    print(k,v)\n",
    "\n",
    "\n",
    "# key 값의 오름차순으로 순서화 시킴\n",
    "def sort_by_key(t):\n",
    "    return t[0]\n",
    "\n",
    "from collections import OrderedDict\n",
    "\n",
    "d=dict()\n",
    "d['x'] = 100\n",
    "d['l'] = 500\n",
    "d['y'] = 200\n",
    "d['z'] = 300\n",
    "\n",
    "for k, v in OrderedDict(sorted(d.items(), key = sort_by_key)).items():\n",
    "    print(k,v)\n",
    "\n",
    "# value 값의 오름차순으로 순서화 시킴\n",
    "def sort_by_key(t):\n",
    "    return t[1]\n",
    "\n",
    "from collections import OrderedDict\n",
    "\n",
    "d=dict()\n",
    "d['x'] = 100\n",
    "d['l'] = 500\n",
    "d['y'] = 200\n",
    "d['z'] = 300\n",
    "\n",
    "for k, v in OrderedDict(sorted(d.items(), key = sort_by_key)).items():\n",
    "    print(k,v)\n",
    "\n"
   ]
  },
  {
   "cell_type": "markdown",
   "metadata": {},
   "source": [
    "-- defaultdict 모듈 : 딕셔너리의 변수를 생성할때 키에 기본값을 지정함.  \n",
    "                     같은 키 값에 배열형태로 여러개의 값을 입력가능"
   ]
  },
  {
   "cell_type": "code",
   "execution_count": 55,
   "metadata": {},
   "outputs": [
    {
     "name": "stdout",
     "output_type": "stream",
     "text": [
      "0\n"
     ]
    }
   ],
   "source": [
    "from collections import defaultdict\n",
    "\n",
    "d= defaultdict(lambda:0)\n",
    "print(d['first'])"
   ]
  },
  {
   "cell_type": "code",
   "execution_count": 56,
   "metadata": {},
   "outputs": [
    {
     "name": "stdout",
     "output_type": "stream",
     "text": [
      "{'yellow': 3, 'blue': 4, 'red': 5}\n"
     ]
    }
   ],
   "source": [
    "s = [('yellow', 1), ('blue', 2),('yellow', 3), ('blue', 4), ('red', 5)]\n",
    "d = dict()\n",
    "for k, v in s:\n",
    "    d[k] = v\n",
    "\n",
    "print(d)"
   ]
  },
  {
   "cell_type": "code",
   "execution_count": 60,
   "metadata": {},
   "outputs": [
    {
     "name": "stdout",
     "output_type": "stream",
     "text": [
      "defaultdict(<class 'list'>, {'yellow': [1, 3], 'blue': [2, 4], 'red': [5]})\n"
     ]
    }
   ],
   "source": [
    "d = defaultdict(list)\n",
    "for k, v in s:\n",
    "    d[k].append(v)\n",
    "\n",
    "print(d)"
   ]
  },
  {
   "cell_type": "markdown",
   "metadata": {},
   "source": [
    "-- Counter 모듈"
   ]
  },
  {
   "cell_type": "code",
   "execution_count": null,
   "metadata": {},
   "outputs": [
    {
     "name": "stdout",
     "output_type": "stream",
     "text": [
      "['b', 'i', 'g', 'd', 'a', 't', 'a', ' ', 'w', 'i', 't', 'h', ' ', 'p', 'y', 't', 'h', 'o', 'n']\n",
      "Counter({'t': 3, 'i': 2, 'a': 2, ' ': 2, 'h': 2, 'b': 1, 'g': 1, 'd': 1, 'w': 1, 'p': 1, 'y': 1, 'o': 1, 'n': 1})\n"
     ]
    }
   ],
   "source": [
    "from collections import Counter\n",
    "text = \"bigdata with python\"\n",
    "# text을 각각의 알파벳을 리스트요소로 하여서 저장\n",
    "list1 = list(text)\n",
    "print(list1) \n",
    "# 같은 값을 가지는 리스트요소의 개수를 알려줌\n",
    "c= Counter(list1)\n",
    "print(c)"
   ]
  },
  {
   "cell_type": "code",
   "execution_count": 66,
   "metadata": {},
   "outputs": [
    {
     "data": {
      "text/plain": [
       "Counter({'the': 19,\n",
       "         'and': 12,\n",
       "         'to': 10,\n",
       "         'of': 6,\n",
       "         'executive': 5,\n",
       "         'White': 5,\n",
       "         'House': 5,\n",
       "         'independent': 4,\n",
       "         'for': 4,\n",
       "         'agencies,': 4,\n",
       "         'Federal': 4,\n",
       "         'order': 3,\n",
       "         'agencies': 3,\n",
       "         'all': 3,\n",
       "         'The': 3,\n",
       "         'Office': 3,\n",
       "         'a': 3,\n",
       "         'fact': 3,\n",
       "         'will': 3,\n",
       "         'Commission': 3,\n",
       "         'President': 2,\n",
       "         'control': 2,\n",
       "         'departments': 2,\n",
       "         'submit': 2,\n",
       "         'shall': 2,\n",
       "         'policy': 2,\n",
       "         'ensure': 2,\n",
       "         'Presidential': 2,\n",
       "         'with': 2,\n",
       "         'their': 2,\n",
       "         'Donald': 1,\n",
       "         'Trump': 1,\n",
       "         'signed': 1,\n",
       "         'an': 1,\n",
       "         'Tuesday': 1,\n",
       "         'bring': 1,\n",
       "         'under': 1,\n",
       "         'closer': 1,\n",
       "         'presidential': 1,\n",
       "         'supervision,': 1,\n",
       "         'directing': 1,\n",
       "         'draft': 1,\n",
       "         'regulations': 1,\n",
       "         'review.': 1,\n",
       "         'states': 1,\n",
       "         'that': 1,\n",
       "         '“it': 1,\n",
       "         'be': 1,\n",
       "         'branch': 1,\n",
       "         'supervision': 1,\n",
       "         'entire': 1,\n",
       "         'branch.': 1,\n",
       "         'Moreover,': 1,\n",
       "         'including': 1,\n",
       "         'so-called': 1,\n",
       "         'review': 1,\n",
       "         'proposed': 1,\n",
       "         'final': 1,\n",
       "         'significant': 1,\n",
       "         'regulatory': 1,\n",
       "         'actions': 1,\n",
       "         'Information': 1,\n",
       "         'Regulatory': 1,\n",
       "         'Affairs': 1,\n",
       "         '(OIRA)': 1,\n",
       "         'within': 1,\n",
       "         'Executive': 1,\n",
       "         'before': 1,\n",
       "         'publication': 1,\n",
       "         'in': 1,\n",
       "         'Register.”': 1,\n",
       "         'According': 1,\n",
       "         'sheet,': 1,\n",
       "         'no': 1,\n",
       "         'carve-outs': 1,\n",
       "         'exist': 1,\n",
       "         'but': 1,\n",
       "         'not': 1,\n",
       "         'apply': 1,\n",
       "         'monetary': 1,\n",
       "         'functions': 1,\n",
       "         'Reserve.': 1,\n",
       "         'must': 1,\n",
       "         'also': 1,\n",
       "         '“consult': 1,\n",
       "         'on': 1,\n",
       "         'priorities': 1,\n",
       "         'strategic': 1,\n",
       "         'plans,': 1,\n",
       "         'set': 1,\n",
       "         'performance': 1,\n",
       "         'standards”': 1,\n",
       "         'Management': 1,\n",
       "         'Budget,': 1,\n",
       "         'led': 1,\n",
       "         'by': 1,\n",
       "         'Project': 1,\n",
       "         '2025': 1,\n",
       "         'co-author': 1,\n",
       "         'Russell': 1,\n",
       "         'Vought,': 1,\n",
       "         '“adjusting': 1,\n",
       "         'apportionments': 1,\n",
       "         'tax': 1,\n",
       "         'dollars': 1,\n",
       "         'are': 1,\n",
       "         'spent': 1,\n",
       "         'wisely,”': 1,\n",
       "         'according': 1,\n",
       "         'sheet.': 1,\n",
       "         'sheet': 1,\n",
       "         'specifically': 1,\n",
       "         'calls': 1,\n",
       "         'out': 1,\n",
       "         'like': 1,\n",
       "         'Trade': 1,\n",
       "         '(FTC),': 1,\n",
       "         'Communications': 1,\n",
       "         '(FCC),': 1,\n",
       "         'Securities': 1,\n",
       "         'Exchange': 1,\n",
       "         '(SEC)': 1,\n",
       "         '“exercising': 1,\n",
       "         'enormous': 1,\n",
       "         'power': 1,\n",
       "         'over': 1,\n",
       "         'American': 1,\n",
       "         'people': 1,\n",
       "         'without': 1,\n",
       "         'oversight.”': 1,\n",
       "         'Public': 1,\n",
       "         'Citizen,': 1,\n",
       "         'progressive': 1,\n",
       "         'advocacy': 1,\n",
       "         'group,': 1,\n",
       "         'has': 1,\n",
       "         'called': 1,\n",
       "         'move': 1,\n",
       "         '“illegal”': 1,\n",
       "         '“giant': 1,\n",
       "         'gift': 1,\n",
       "         'corporate': 1,\n",
       "         'class.”': 1})"
      ]
     },
     "execution_count": 66,
     "metadata": {},
     "output_type": "execute_result"
    }
   ],
   "source": [
    "# 영어뉴스로 Counter 모듈 연습하기\n",
    "\n",
    "s1 = '''\n",
    "President Donald Trump signed an executive order Tuesday to bring independent agencies under closer presidential control and supervision, directing all executive departments and agencies to submit draft regulations to the White House for review.\n",
    "\n",
    "The order states that “it shall be the policy of the executive branch to ensure Presidential supervision and control of the entire executive branch. Moreover, all executive departments and agencies, including so-called independent agencies, shall submit for review all proposed and final significant regulatory actions to the Office of Information and Regulatory Affairs (OIRA) within the Executive Office of the President before publication in the Federal Register.”\n",
    "\n",
    "According to a White House fact sheet, no carve-outs will exist for independent agencies, but the order will not apply to the monetary policy functions of the Federal Reserve.\n",
    "\n",
    "The agencies must also “consult with the White House on their priorities and strategic plans, and the White House will set their performance standards” with the Office of Management and Budget, led by Project 2025 co-author Russell Vought, “adjusting apportionments to ensure tax dollars are spent wisely,” according to the fact sheet.\n",
    "\n",
    "The White House fact sheet specifically calls out independent agencies, like the Federal Trade Commission (FTC), Federal Communications Commission (FCC), and Securities and Exchange Commission (SEC) for “exercising enormous power over the American people without Presidential oversight.”\n",
    "\n",
    "Public Citizen, a progressive advocacy group, has called the move “illegal” and a “giant gift to the corporate class.”\n",
    "'''\n",
    "\n",
    "# 단어별로 쪼개서 리스트화\n",
    "list1 = s1.split()\n",
    "c=Counter(list1)\n",
    "c\n"
   ]
  },
  {
   "cell_type": "code",
   "execution_count": null,
   "metadata": {},
   "outputs": [
    {
     "name": "stdout",
     "output_type": "stream",
     "text": [
      "['red', 'red', 'red', 'blue', 'blue', 'blue', 'blue', 'blue', 'green', 'green', 'green', 'green']\n",
      "Counter({'blue': 5, 'green': 4, 'red': 3})\n"
     ]
    }
   ],
   "source": [
    "# Counter를 이용하여 다시 리스트를 만들기\n",
    "c1= Counter({'red':3, 'blue':5, 'green':4})\n",
    "a = list(c1.elements())\n",
    "print(a)\n",
    "c2 = Counter(a)\n",
    "print(c2)"
   ]
  },
  {
   "cell_type": "code",
   "execution_count": 76,
   "metadata": {},
   "outputs": [
    {
     "name": "stdout",
     "output_type": "stream",
     "text": [
      "Counter({'a': 3, 'b': 2, 'c': 0, 'd': -2})\n"
     ]
    }
   ],
   "source": [
    "# Counter 직접입력하여 값 넣기\n",
    "c = Counter(a=3, b=2, c=0, d=-2)\n",
    "print(c)"
   ]
  }
 ],
 "metadata": {
  "kernelspec": {
   "display_name": "base",
   "language": "python",
   "name": "python3"
  },
  "language_info": {
   "codemirror_mode": {
    "name": "ipython",
    "version": 3
   },
   "file_extension": ".py",
   "mimetype": "text/x-python",
   "name": "python",
   "nbconvert_exporter": "python",
   "pygments_lexer": "ipython3",
   "version": "3.12.7"
  }
 },
 "nbformat": 4,
 "nbformat_minor": 2
}
