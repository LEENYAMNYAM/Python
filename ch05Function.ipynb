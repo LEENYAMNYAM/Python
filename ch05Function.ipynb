{
 "cells": [
  {
   "cell_type": "markdown",
   "metadata": {},
   "source": [
    "# 5장 함수"
   ]
  },
  {
   "cell_type": "markdown",
   "metadata": {},
   "source": [
    "- 함수"
   ]
  },
  {
   "attachments": {
    "image-2.png": {
     "image/png": "[encoded data removed]"
    }
   },
   "cell_type": "markdown",
   "metadata": {},
   "source": [
    "-- 파이썬 함수의 기본 구조  \n",
    "![image-2.png](attachment:image-2.png)"
   ]
  },
  {
   "cell_type": "code",
   "execution_count": null,
   "metadata": {},
   "outputs": [
    {
     "name": "stdout",
     "output_type": "stream",
     "text": [
      "7\n"
     ]
    }
   ],
   "source": [
    "# 입력값과 리턴값을 모두 가지는 기본적인 함수형태\n",
    "def add(a,b):\n",
    "    return a+b\n",
    "\n",
    "result = add(3,4)\n",
    "print(result)"
   ]
  },
  {
   "cell_type": "code",
   "execution_count": null,
   "metadata": {},
   "outputs": [
    {
     "name": "stdout",
     "output_type": "stream",
     "text": [
      "hi\n"
     ]
    }
   ],
   "source": [
    "# 입력값없이 리턴값만 존재하는 함수\n",
    "def say():\n",
    "    return \"hi\"\n",
    "result = say()\n",
    "print(say())"
   ]
  },
  {
   "cell_type": "code",
   "execution_count": null,
   "metadata": {},
   "outputs": [
    {
     "name": "stdout",
     "output_type": "stream",
     "text": [
      "3 4\n",
      "None\n"
     ]
    }
   ],
   "source": [
    "# 리턴값이 없는 함수\n",
    "def display(a,b):\n",
    "    print(a,b)\n",
    "\n",
    "# 억지로 함수를 변수로 저장해보면 리턴값이 none임을 확인가능(true/false로 사용가능)\n",
    "result = display(3,4)\n",
    "print(result)"
   ]
  },
  {
   "cell_type": "code",
   "execution_count": null,
   "metadata": {},
   "outputs": [
    {
     "name": "stdout",
     "output_type": "stream",
     "text": [
      "1\n",
      "3\n",
      "6\n",
      "10\n",
      "15\n"
     ]
    }
   ],
   "source": [
    "# 함수를 한개만 만들고 값을 여러가지 방법으로 받는 방법\n",
    "def sum(a, b=0, c=0, d=0, e=0):\n",
    "    return a+b+c+d+e\n",
    "\n",
    "print(sum(1))\n",
    "print(sum(1,2))\n",
    "print(sum(1,2,3))\n",
    "print(sum(1,2,3,4))\n",
    "print(sum(1,2,3,4,5))"
   ]
  },
  {
   "attachments": {
    "image.png": {
     "image/png": "[encoded data removed]"
    }
   },
   "cell_type": "markdown",
   "metadata": {},
   "source": [
    "-- 파라미터의 개수를 정하기 않고(또는 파라미터의 개수를 모를 때) 함수를 만드는 더 간단한 방법(파이썬)\n",
    "![image.png](attachment:image.png)"
   ]
  },
  {
   "cell_type": "code",
   "execution_count": 10,
   "metadata": {},
   "outputs": [
    {
     "name": "stdout",
     "output_type": "stream",
     "text": [
      "1\n",
      "3\n",
      "6\n",
      "10\n",
      "15\n"
     ]
    }
   ],
   "source": [
    "# 파이썬은 더 같단한 방법이 있음.\n",
    "def sum(*a) :\n",
    "    sum=0\n",
    "    for i in a : \n",
    "        sum +=i\n",
    "    return sum\n",
    "\n",
    "print(sum(1))\n",
    "print(sum(1,2))\n",
    "print(sum(1,2,3))\n",
    "print(sum(1,2,3,4))\n",
    "print(sum(1,2,3,4,5))"
   ]
  },
  {
   "cell_type": "code",
   "execution_count": null,
   "metadata": {},
   "outputs": [
    {
     "name": "stdout",
     "output_type": "stream",
     "text": [
      "1\n",
      "('a',)\n",
      "a\n",
      "1\n",
      "(2, 'c')\n",
      "2 c\n",
      "1\n",
      "(2, 'c', [4, 3])\n",
      "2 c [4, 3]\n"
     ]
    }
   ],
   "source": [
    "# 출력시 활용\n",
    "def func1(a,*b):\n",
    "    print(a)\n",
    "    print(b)\n",
    "    print(*b)\n",
    "\n",
    "# b 이후의 받는 인수들은 파라미터 b가 튜플의 형태로 받음\n",
    "# 때문에 출력을 할때 *b 형태로 출력해주는게 좋음\n",
    "func1(1,\"a\")\n",
    "func1(1,2,\"c\")\n",
    "func1(1,2,\"c\",[4,3])"
   ]
  },
  {
   "cell_type": "code",
   "execution_count": 14,
   "metadata": {},
   "outputs": [
    {
     "name": "stdout",
     "output_type": "stream",
     "text": [
      "20 홍길동\n"
     ]
    }
   ],
   "source": [
    "def func2(age, name):\n",
    "    print(age, name)\n",
    "\n",
    "func2(name =\"홍길동\", age = 20)"
   ]
  },
  {
   "cell_type": "markdown",
   "metadata": {},
   "source": [
    "-- 키워드 매개변수 : **파라미터"
   ]
  },
  {
   "cell_type": "code",
   "execution_count": 25,
   "metadata": {},
   "outputs": [
    {
     "name": "stdout",
     "output_type": "stream",
     "text": [
      "{'name': '홍길동', 'age': 20}\n",
      "홍길동\n",
      "20\n",
      "홍길동\n",
      "20\n"
     ]
    }
   ],
   "source": [
    "# 여러개의 인수가 딕셔너리 형태로 args에 파라미터에 담기게 됨\n",
    "def func3(**args):\n",
    "    print(args)             # args는 딕셔너리\n",
    "    print(args['name'])\n",
    "    print(args['age'])\n",
    "    print(args.get('name'))\n",
    "    print(args.get('age'))\n",
    "\n",
    "func3(name='홍길동', age=20)"
   ]
  },
  {
   "cell_type": "code",
   "execution_count": null,
   "metadata": {},
   "outputs": [
    {
     "name": "stdout",
     "output_type": "stream",
     "text": [
      "(9, 20, -1, 0.8)\n",
      "9 20 -1 0.8\n"
     ]
    }
   ],
   "source": [
    "def add_and_mul(a,b):\n",
    "    return a+b, a*b, a-b, a/b\n",
    "\n",
    "#튜플형태로 4개의 값이 리턴됨\n",
    "result = add_and_mul(4,5)\n",
    "print(result)\n",
    "\n",
    "#튜플은 이러한 형태로도 따로따로 받아낼 수 있음.\n",
    "a,b,c,d = add_and_mul(4,5)\n",
    "print(a,b,c,d)"
   ]
  },
  {
   "cell_type": "code",
   "execution_count": null,
   "metadata": {},
   "outputs": [
    {
     "name": "stdout",
     "output_type": "stream",
     "text": [
      "9\n"
     ]
    }
   ],
   "source": [
    "# 이렇게 return을 두개하는건 안됨 하나만 출력됨.\n",
    "def add_and_mul(a,b):\n",
    "    return a+b\n",
    "    return a*b\n",
    "result = add_and_mul(4,5)\n",
    "print(result)"
   ]
  },
  {
   "cell_type": "code",
   "execution_count": null,
   "metadata": {},
   "outputs": [
    {
     "name": "stdout",
     "output_type": "stream",
     "text": [
      "짱구\n",
      "20\n",
      "남자\n",
      "유리\n",
      "20\n",
      "여자\n"
     ]
    }
   ],
   "source": [
    "# 파라미터에 디폴트값을 줄때에는 제일 오른쪽 부터 줘야함.(빈칸이 생기면 에러생길 수 있음)\n",
    "def say_myself(name, age, man=True):\n",
    "    print(name)\n",
    "    print(age)\n",
    "    if man : \n",
    "        print(\"남자\")\n",
    "    else:\n",
    "        print(\"여자\")\n",
    "say_myself(\"짱구\", 20)\n",
    "say_myself(\"유리\", 20, False)"
   ]
  },
  {
   "cell_type": "code",
   "execution_count": 34,
   "metadata": {},
   "outputs": [
    {
     "name": "stdout",
     "output_type": "stream",
     "text": [
      "20\n",
      "40\n",
      "10\n",
      "20\n",
      "20\n"
     ]
    }
   ],
   "source": [
    "#\n",
    "a=10\n",
    "def func():\n",
    "    \n",
    "    # 지역변수값만 바뀜\n",
    "    a=20\n",
    "    print(a)\n",
    "    a+=20\n",
    "    print(a)\n",
    "    \n",
    "func()\n",
    "print(a)\n",
    "\n",
    "def func1():\n",
    "    \n",
    "    # 지역변수를 전역변수로 바꾸어줌\n",
    "    global a\n",
    "\n",
    "    a=20\n",
    "    print(a)\n",
    "\n",
    "func1()\n",
    "print(a)"
   ]
  },
  {
   "cell_type": "code",
   "execution_count": null,
   "metadata": {},
   "outputs": [
    {
     "name": "stdout",
     "output_type": "stream",
     "text": [
      "[11, 12, 13, 14]\n",
      "[11, 12, 13, 14]\n"
     ]
    }
   ],
   "source": [
    "# 파라미터가 객체가 되면 객체주소 값이 전달되기 때문에 그 안의 요소의 값을 변경됨.\n",
    "def func(list1):\n",
    "    for i in range(len(list1)):\n",
    "        list1[i] += 10\n",
    "    print(list1)\n",
    "\n",
    "a = [1,2,3,4]\n",
    "func(a)\n",
    "print(a)\n",
    "\n"
   ]
  },
  {
   "cell_type": "code",
   "execution_count": null,
   "metadata": {},
   "outputs": [
    {
     "name": "stdout",
     "output_type": "stream",
     "text": [
      "bacadd\n",
      "bac\n"
     ]
    }
   ],
   "source": [
    "# 단 str은 마치 지역변수처럼 만들어서 값을 바꾸게 설정해뒀음.\n",
    "def func(str1):\n",
    "    str1 += \"add\"\n",
    "    print(str1)\n",
    "\n",
    "a=\"bac\"\n",
    "func(a)\n",
    "print(a)"
   ]
  },
  {
   "cell_type": "markdown",
   "metadata": {},
   "source": [
    "- lambda 함수"
   ]
  },
  {
   "cell_type": "code",
   "execution_count": 46,
   "metadata": {},
   "outputs": [
    {
     "name": "stdout",
     "output_type": "stream",
     "text": [
      "7\n",
      "7\n"
     ]
    }
   ],
   "source": [
    "#함수의 기본 형태\n",
    "\n",
    "def add(a,b):\n",
    "    return a+b\n",
    "result = add(3,4)\n",
    "print(result)\n",
    "\n",
    "\n",
    "# 람다 기본형\n",
    "add= lambda a,b:a+b\n",
    "result1 = add(3,4)\n",
    "print(result1)\n"
   ]
  },
  {
   "cell_type": "markdown",
   "metadata": {},
   "source": [
    "- 사용자 입출력"
   ]
  },
  {
   "cell_type": "markdown",
   "metadata": {},
   "source": [
    "많이 했던부분이라 생략합니다. "
   ]
  },
  {
   "cell_type": "markdown",
   "metadata": {},
   "source": [
    "- 파일 입출력"
   ]
  },
  {
   "cell_type": "markdown",
   "metadata": {},
   "source": [
    "-- 파일 생성 및 작성(w)"
   ]
  },
  {
   "cell_type": "code",
   "execution_count": null,
   "metadata": {},
   "outputs": [],
   "source": [
    "#파일 생성 및 작성\n",
    "    # 참고로 w로 작성하면 있던 데이터도 모두 삭제되고 처음부터 다시 작성하게 됨.\n",
    "f = open(\"data/test.txt\", 'w')\n",
    "f.write(\"abc\")\n",
    "f.close()"
   ]
  },
  {
   "cell_type": "markdown",
   "metadata": {},
   "source": [
    "--파일을 읽어오는 여러가지 방법(r)"
   ]
  },
  {
   "cell_type": "code",
   "execution_count": 53,
   "metadata": {},
   "outputs": [
    {
     "name": "stdout",
     "output_type": "stream",
     "text": [
      "abc\n"
     ]
    }
   ],
   "source": [
    "# 파일 읽어오기\n",
    "fr = open (\"data/test.txt\", 'r')\n",
    "line = fr.readline()\n",
    "print(line)\n",
    "fr.close()"
   ]
  },
  {
   "cell_type": "code",
   "execution_count": null,
   "metadata": {},
   "outputs": [],
   "source": [
    "# 읽어오기 위한 실습예제\n",
    "f = open(\"data/test02.txt\", 'w')\n",
    "for i in range(1,11):\n",
    "    data = \"%d번째 줄입니다. \\n\" %i\n",
    "    f.write(data)\n",
    "    data = f\"{i}번째 줄입니다.\\n\"\n",
    "    f.write(data)\n",
    "f.close()    "
   ]
  },
  {
   "cell_type": "code",
   "execution_count": null,
   "metadata": {},
   "outputs": [
    {
     "name": "stdout",
     "output_type": "stream",
     "text": [
      "1번째 줄입니다. \n",
      "\n",
      "1번째 줄입니다.\n",
      "\n",
      "2번째 줄입니다. \n",
      "\n",
      "2번째 줄입니다.\n",
      "\n",
      "3번째 줄입니다. \n",
      "\n",
      "3번째 줄입니다.\n",
      "\n",
      "4번째 줄입니다. \n",
      "\n",
      "4번째 줄입니다.\n",
      "\n",
      "5번째 줄입니다. \n",
      "\n",
      "5번째 줄입니다.\n",
      "\n",
      "6번째 줄입니다. \n",
      "\n",
      "6번째 줄입니다.\n",
      "\n",
      "7번째 줄입니다. \n",
      "\n",
      "7번째 줄입니다.\n",
      "\n",
      "8번째 줄입니다. \n",
      "\n",
      "8번째 줄입니다.\n",
      "\n",
      "9번째 줄입니다. \n",
      "\n",
      "9번째 줄입니다.\n",
      "\n",
      "10번째 줄입니다. \n",
      "\n",
      "10번째 줄입니다.\n",
      "\n"
     ]
    }
   ],
   "source": [
    "# 값 읽어오는 방법1\n",
    "f = open(\"data/test02.txt\", 'r')\n",
    "while True:\n",
    "    line = f.readline()\n",
    "    if not line : break\n",
    "    print(line)\n",
    "f.close()"
   ]
  },
  {
   "cell_type": "code",
   "execution_count": null,
   "metadata": {},
   "outputs": [
    {
     "name": "stdout",
     "output_type": "stream",
     "text": [
      "1번째 줄입니다. \n",
      "\n",
      "1번째 줄입니다.\n",
      "\n",
      "2번째 줄입니다. \n",
      "\n",
      "2번째 줄입니다.\n",
      "\n",
      "3번째 줄입니다. \n",
      "\n",
      "3번째 줄입니다.\n",
      "\n",
      "4번째 줄입니다. \n",
      "\n",
      "4번째 줄입니다.\n",
      "\n",
      "5번째 줄입니다. \n",
      "\n",
      "5번째 줄입니다.\n",
      "\n",
      "6번째 줄입니다. \n",
      "\n",
      "6번째 줄입니다.\n",
      "\n",
      "7번째 줄입니다. \n",
      "\n",
      "7번째 줄입니다.\n",
      "\n",
      "8번째 줄입니다. \n",
      "\n",
      "8번째 줄입니다.\n",
      "\n",
      "9번째 줄입니다. \n",
      "\n",
      "9번째 줄입니다.\n",
      "\n",
      "10번째 줄입니다. \n",
      "\n",
      "10번째 줄입니다.\n",
      "\n"
     ]
    }
   ],
   "source": [
    "# 값 읽어오는 방법 2\n",
    "f = open(\"data/test02.txt\", 'r')\n",
    "\n",
    "# 한라인을 요소로하는 리스트로 저장됨\n",
    "lines = f.readlines()\n",
    "\n",
    "#print(lines)\n",
    "for line in lines:\n",
    "    print(line)\n",
    "f.close()"
   ]
  },
  {
   "cell_type": "code",
   "execution_count": null,
   "metadata": {},
   "outputs": [
    {
     "name": "stdout",
     "output_type": "stream",
     "text": [
      "1번째 줄입니다. \n",
      "1번째 줄입니다.\n",
      "2번째 줄입니다. \n",
      "2번째 줄입니다.\n",
      "3번째 줄입니다. \n",
      "3번째 줄입니다.\n",
      "4번째 줄입니다. \n",
      "4번째 줄입니다.\n",
      "5번째 줄입니다. \n",
      "5번째 줄입니다.\n",
      "6번째 줄입니다. \n",
      "6번째 줄입니다.\n",
      "7번째 줄입니다. \n",
      "7번째 줄입니다.\n",
      "8번째 줄입니다. \n",
      "8번째 줄입니다.\n",
      "9번째 줄입니다. \n",
      "9번째 줄입니다.\n",
      "10번째 줄입니다. \n",
      "10번째 줄입니다.\n",
      "\n"
     ]
    }
   ],
   "source": [
    "# 값 읽어오는 방법 3\n",
    "f = open(\"data/test02.txt\", 'r')\n",
    "\n",
    "# 파이썬에서 read함수는 파일의 내용 전체를 하나의 문자열로 읽어옴\n",
    "data=f.read()  \n",
    "print(data)\n",
    "\n",
    "f.close()"
   ]
  },
  {
   "cell_type": "code",
   "execution_count": 66,
   "metadata": {},
   "outputs": [
    {
     "name": "stdout",
     "output_type": "stream",
     "text": [
      "1번째 줄입니다. \n",
      "\n",
      "1번째 줄입니다.\n",
      "\n",
      "2번째 줄입니다. \n",
      "\n",
      "2번째 줄입니다.\n",
      "\n",
      "3번째 줄입니다. \n",
      "\n",
      "3번째 줄입니다.\n",
      "\n",
      "4번째 줄입니다. \n",
      "\n",
      "4번째 줄입니다.\n",
      "\n",
      "5번째 줄입니다. \n",
      "\n",
      "5번째 줄입니다.\n",
      "\n",
      "6번째 줄입니다. \n",
      "\n",
      "6번째 줄입니다.\n",
      "\n",
      "7번째 줄입니다. \n",
      "\n",
      "7번째 줄입니다.\n",
      "\n",
      "8번째 줄입니다. \n",
      "\n",
      "8번째 줄입니다.\n",
      "\n",
      "9번째 줄입니다. \n",
      "\n",
      "9번째 줄입니다.\n",
      "\n",
      "10번째 줄입니다. \n",
      "\n",
      "10번째 줄입니다.\n",
      "\n"
     ]
    }
   ],
   "source": [
    "# 값 읽어오는 방법 4\n",
    "f = open(\"data/test02.txt\", 'r')\n",
    "\n",
    "for line in f:\n",
    "    print(line)\n",
    "f.close()"
   ]
  },
  {
   "cell_type": "code",
   "execution_count": 67,
   "metadata": {},
   "outputs": [],
   "source": [
    "# 끝부분에 새로운 내용 추가할때는 a\n",
    "f = open(\"data/test02.txt\", 'a')\n",
    "for i in range(11,20):\n",
    "    data = \"%d번째 줄입니다.\\n\" % i\n",
    "    f.write(data)\n",
    "f.close()"
   ]
  },
  {
   "cell_type": "markdown",
   "metadata": {},
   "source": [
    "-- with문과 함께 사용하기(close 할필요가 없어짐)"
   ]
  },
  {
   "cell_type": "code",
   "execution_count": null,
   "metadata": {},
   "outputs": [],
   "source": [
    "# with문을 벚어나는 순간 자동으로 close 됨.\n",
    "with open(\"data/foo.txt\", 'w') as f :\n",
    "    f.write(\"Life is tot short, you need python\")"
   ]
  },
  {
   "cell_type": "code",
   "execution_count": 70,
   "metadata": {},
   "outputs": [
    {
     "name": "stdout",
     "output_type": "stream",
     "text": [
      "Life is tot short, you need python\n"
     ]
    }
   ],
   "source": [
    "with open(\"data/foo.txt\", \"r\") as f:\n",
    "    data = f.read()\n",
    "    print(data)"
   ]
  }
 ],
 "metadata": {
  "kernelspec": {
   "display_name": "base",
   "language": "python",
   "name": "python3"
  },
  "language_info": {
   "codemirror_mode": {
    "name": "ipython",
    "version": 3
   },
   "file_extension": ".py",
   "mimetype": "text/x-python",
   "name": "python",
   "nbconvert_exporter": "python",
   "pygments_lexer": "ipython3",
   "version": "3.12.7"
  }
 },
 "nbformat": 4,
 "nbformat_minor": 2
}
