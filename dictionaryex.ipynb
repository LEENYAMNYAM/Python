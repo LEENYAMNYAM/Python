{
 "cells": [
  {
   "cell_type": "markdown",
   "metadata": {},
   "source": [
    "# 3. 딕셔너리(dictionary)"
   ]
  },
  {
   "cell_type": "markdown",
   "metadata": {},
   "source": [
    "기본문법\n",
    "\n",
    "딕셔너리명 = { key값 : value값 , key값 : value값 , key값 : value값 , key값 : value값 , .... }"
   ]
  },
  {
   "cell_type": "code",
   "execution_count": 1,
   "metadata": {},
   "outputs": [],
   "source": [
    "dic = {'name':'홍길동', 'phone' : '010-5555-4545', 'birth' : '1118'}"
   ]
  },
  {
   "cell_type": "code",
   "execution_count": null,
   "metadata": {},
   "outputs": [
    {
     "name": "stdout",
     "output_type": "stream",
     "text": [
      "{'name': '홍길동', 'phone': '010-5555-4545', 'birth': '1118'}\n",
      "홍길동\n",
      "010-5555-4545\n",
      "1118\n"
     ]
    }
   ],
   "source": [
    "# 출력방법\n",
    "print(dic)\n",
    "print(dic['name'])\n",
    "print(dic['phone'])\n",
    "print(dic['birth'])"
   ]
  },
  {
   "cell_type": "code",
   "execution_count": null,
   "metadata": {},
   "outputs": [
    {
     "name": "stdout",
     "output_type": "stream",
     "text": [
      "{'name': '홍길동', 'phone': '010-5555-4545', 'birth': '1118', 'gender': '남자', 'age': 20}\n"
     ]
    }
   ],
   "source": [
    "# 값 추가(삽입) 방법\n",
    "dic['gender'] = '남자'\n",
    "dic['age'] = 20\n",
    "print(dic)"
   ]
  },
  {
   "cell_type": "code",
   "execution_count": 5,
   "metadata": {},
   "outputs": [
    {
     "name": "stdout",
     "output_type": "stream",
     "text": [
      "{'name': '홍길동', 'phone': '010-5555-4545', 'birth': '1118', 'gender': '남자'}\n"
     ]
    }
   ],
   "source": [
    "# 삭제방법\n",
    "del dic['age']\n",
    "print(dic)"
   ]
  },
  {
   "cell_type": "code",
   "execution_count": null,
   "metadata": {},
   "outputs": [
    {
     "name": "stdout",
     "output_type": "stream",
     "text": [
      "dict_keys(['name', 'phone', 'birth', 'gender'])\n",
      "dict_values(['홍길동', '010-5555-4545', '1118', '남자'])\n"
     ]
    }
   ],
   "source": [
    "# 전체 key 호출하여 리스트로 저장\n",
    "print(dic.keys())\n",
    "\n",
    "# 전체 값 호출하여 리스트로 저장\n",
    "print(dic.values())"
   ]
  },
  {
   "cell_type": "code",
   "execution_count": null,
   "metadata": {},
   "outputs": [
    {
     "name": "stdout",
     "output_type": "stream",
     "text": [
      "{'name': 'bbc', 'phone': '010-5555-4545', 'birth': '1118', 'gender': '남자'}\n"
     ]
    }
   ],
   "source": [
    "# 중복되는 키값은 입력 불가(추가가 안되고 수정만 됨)\n",
    "dic['name'] = 'bbc'\n",
    "print(dic)"
   ]
  },
  {
   "cell_type": "code",
   "execution_count": null,
   "metadata": {},
   "outputs": [
    {
     "name": "stdout",
     "output_type": "stream",
     "text": [
      "{1: 'bbc'}\n"
     ]
    }
   ],
   "source": [
    "# 생성시, 중복된 키값이 존재하면 마지막 키값으로 저장됨.\n",
    "d1={1:\"abc\", 1:\"bbc\"}\n",
    "print(d1)"
   ]
  },
  {
   "cell_type": "code",
   "execution_count": null,
   "metadata": {},
   "outputs": [
    {
     "name": "stdout",
     "output_type": "stream",
     "text": [
      "{1: 'hi', 2: 'hi'}\n"
     ]
    }
   ],
   "source": [
    "# 중복 value는 가능\n",
    "d2 = {1:\"hi\", 2:\"hi\"}\n",
    "print(d2)"
   ]
  },
  {
   "cell_type": "code",
   "execution_count": null,
   "metadata": {},
   "outputs": [
    {
     "name": "stdout",
     "output_type": "stream",
     "text": [
      "dict_items([('name', 'bbc'), ('phone', '010-5555-4545'), ('birth', '1118'), ('gender', '남자')])\n"
     ]
    }
   ],
   "source": [
    "# .item() : key와 value가 한쌍의 튜플(tuple)로 하는 리스트가 만들어짐\n",
    "result = dic.items()\n",
    "print(result)"
   ]
  },
  {
   "cell_type": "code",
   "execution_count": 17,
   "metadata": {},
   "outputs": [
    {
     "name": "stdout",
     "output_type": "stream",
     "text": [
      "('name', 'bbc')\n",
      "('phone', '010-5555-4545')\n",
      "('birth', '1118')\n",
      "('gender', '남자')\n"
     ]
    }
   ],
   "source": [
    "for i in result :\n",
    "    print(i)"
   ]
  },
  {
   "cell_type": "code",
   "execution_count": 19,
   "metadata": {},
   "outputs": [
    {
     "name": "stdout",
     "output_type": "stream",
     "text": [
      "name : bbc\n",
      "phone : 010-5555-4545\n",
      "birth : 1118\n",
      "gender : 남자\n"
     ]
    }
   ],
   "source": [
    "# 똑띠인 파이썬은 변수가 2개명 result에 요소가 튜플인거 알고 key랑 value값을 따로따로 k와 v에 읽어와줌\n",
    "# 위에서는 변수가 i 한개여서 튜플 전체를 i에 읽어와줌\n",
    "for k,v in result:\n",
    "    print(k, ':', v)"
   ]
  },
  {
   "cell_type": "code",
   "execution_count": 20,
   "metadata": {},
   "outputs": [
    {
     "name": "stdout",
     "output_type": "stream",
     "text": [
      "{'name': 'bbc', 'phone': '010-5555-4545', 'birth': '1118', 'gender': '남자'}\n",
      "{}\n"
     ]
    }
   ],
   "source": [
    "dic['name']\n",
    "dic['age']=20\n",
    "del dic['age']\n",
    "print(dic)\n",
    "\n",
    "# 전체 삭제\n",
    "dic.clear()\n",
    "print(dic)"
   ]
  },
  {
   "cell_type": "markdown",
   "metadata": {},
   "source": [
    "<연습문제>\n",
    "1. 학생 5명의 이름과 점수로 dict를 생성하라.\n",
    "2. dict의 key를 모두 추출하라\n",
    "3. dict의 value를 모두 추출하라.\n",
    "4. 본인의 이름과 점수를 사용하여 새로운 데이터를 추가하라.\n",
    "5. 딕셔너리의 모든 item을 key와 value을 쌍의 tuple을 생성하라.\n",
    "6. for 문을 이용하여 key, value 형태로 모든 item을 출력하라\n",
    "7. 본인의 이름을 추가된 데이터를 삭제하라."
   ]
  },
  {
   "cell_type": "code",
   "execution_count": null,
   "metadata": {},
   "outputs": [
    {
     "name": "stdout",
     "output_type": "stream",
     "text": [
      "dict_keys(['짱구', '철수', '유리', '훈이', '맹구'])\n",
      "dict_values([90, 95, 80, 85, 100])\n",
      "짱구 90\n",
      "철수 95\n",
      "유리 80\n",
      "훈이 85\n",
      "맹구 100\n",
      "이준목 80\n",
      "{'짱구': 90, '철수': 95, '유리': 80, '훈이': 85, '맹구': 100}\n",
      "95\n",
      "95\n"
     ]
    }
   ],
   "source": [
    "# 1번 문제\n",
    "dict = {'짱구' : 90, '철수' : 95, '유리' : 80, '훈이' : 85, '맹구' : 100}\n",
    "# 2번 문제\n",
    "print(dict.keys())\n",
    "# 3번 문제\n",
    "print(dict.values())\n",
    "# 4번 문제\n",
    "dict['이준목'] = 80\n",
    "# 5번 문제\n",
    "result = dict.items()\n",
    "# 6번 문제\n",
    "for key, value in result :\n",
    "    print(key, value)\n",
    "# 7번 문제\n",
    "del dict['이준목']\n",
    "print(dict)\n",
    "\n",
    "# 출력방법 참고(.get을 쓸수도 있음)\n",
    "print(dict['철수'])\n",
    "print(dict.get('철수'))"
   ]
  }
 ],
 "metadata": {
  "kernelspec": {
   "display_name": "base",
   "language": "python",
   "name": "python3"
  },
  "language_info": {
   "codemirror_mode": {
    "name": "ipython",
    "version": 3
   },
   "file_extension": ".py",
   "mimetype": "text/x-python",
   "name": "python",
   "nbconvert_exporter": "python",
   "pygments_lexer": "ipython3",
   "version": "3.12.7"
  }
 },
 "nbformat": 4,
 "nbformat_minor": 2
}
